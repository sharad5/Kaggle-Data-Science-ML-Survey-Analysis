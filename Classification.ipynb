{
 "cells": [
  {
   "cell_type": "code",
   "execution_count": 387,
   "id": "781af3cc",
   "metadata": {},
   "outputs": [],
   "source": [
    "import pandas as pd\n",
    "import numpy as np\n",
    "from scipy.stats import uniform, randint\n",
    "import seaborn as sns\n",
    "import matplotlib.pyplot as plt\n",
    "from sklearn.preprocessing import StandardScaler, OrdinalEncoder, MinMaxScaler, LabelEncoder\n",
    "from sklearn.model_selection import train_test_split, GridSearchCV,RandomizedSearchCV\n",
    "from sklearn.feature_selection import chi2, SelectKBest, mutual_info_classif\n",
    "from sklearn.metrics import classification_report\n",
    "\n",
    "%matplotlib inline"
   ]
  },
  {
   "cell_type": "code",
   "execution_count": 65,
   "id": "06b78eaa",
   "metadata": {},
   "outputs": [],
   "source": [
    "survey_df = pd.concat([pd.read_csv(\"data/processed/ProcessedSurveyDataWithID_%d.csv\" % i) for i in range(2020,2023)])"
   ]
  },
  {
   "cell_type": "code",
   "execution_count": 66,
   "id": "6dc81ad4",
   "metadata": {},
   "outputs": [],
   "source": [
    "SURVEY_YEAR = \"SurveyYear\"\n",
    "TITLE = \"CurrentTitle\""
   ]
  },
  {
   "cell_type": "code",
   "execution_count": 67,
   "id": "5244def8",
   "metadata": {},
   "outputs": [],
   "source": [
    "survey_df.loc[survey_df[\"CurrentTitle\"].isin([\"Machine Learning/ MLops Engineer\", \"Machine Learning Engineer\"]), \"CurrentTitle\"] = \"Machine Learning Engineer\"\n",
    "survey_df.loc[survey_df[\"CurrentTitle\"].isin([\"Data Analyst\", \"Business Analyst\", \"Data Analyst (Business, Marketing, Financial, Quantitative, etc)\"]), \"CurrentTitle\"] = \"Data Analyst\""
   ]
  },
  {
   "cell_type": "code",
   "execution_count": 68,
   "id": "c0725127",
   "metadata": {},
   "outputs": [],
   "source": [
    "CLASSES = [\"Research Scientist\", \"Data Scientist\", \"Data Analyst\", \"Machine Learning Engineer\", \"Data Engineer\"]\n",
    "CLASSES_FILTER = survey_df[TITLE].isin(CLASSES)"
   ]
  },
  {
   "cell_type": "code",
   "execution_count": 69,
   "id": "2edd1e6f",
   "metadata": {},
   "outputs": [],
   "source": [
    "def year_filter(years=[2022]):\n",
    "    return survey_df[SURVEY_YEAR].isin(years)"
   ]
  },
  {
   "cell_type": "markdown",
   "id": "b2dca3a5",
   "metadata": {},
   "source": [
    "## Feature Engineering\n",
    "- Age (Numeric?)\n",
    "- Country (Categorical)\n",
    "- MOOCLearning (#Platforms used - Numeric)\n",
    "- UniversityCourse (bool)\n",
    "- Highest Education (Cat)\n",
    "- Research (Should use only 2022 data for this ?) - Figure out\n",
    "- Programming Experience (Numeric)\n",
    "- PythonUsed?\n",
    "- SQL Used?\n",
    "- R Used?\n",
    "- Number of Programming Languages used (numeric)\n",
    "- IDEs Used\n",
    "- #HostedNBsUsed\n",
    "- VizInPython\n",
    "- VizInR\n",
    "- #VizLibraries\n",
    "- ML Exposure\n",
    "- MLFrameworks\n",
    "- #CV ALgos\n",
    "- #NLP Algos\n",
    "- TransferLearningDegree\n",
    "- InvestmentInML\n",
    "- AWS\n",
    "- GCP\n",
    "- Azure\n",
    "- #CloudProviders\n",
    "- ExperienceWithCloudCompute\n",
    "- ExperienceWithCloudStorage\n",
    "- ExperienceWithRelationalDB\n",
    "- ExperienceWithNonRelationalDB\n",
    "- ExperienceWithBITools\n",
    "- PowerBI\n",
    "- Tableau\n",
    "- ExperienceWithMLaas\n",
    "- ExperienceWithAutoML\n",
    "- ExperienceWithMLDeploymentTools\n",
    "- ExperienceWithMLMonitoringTools\n",
    "- ResponsibleAI\n",
    "- GPUUsed\n",
    "- TPUUsageFrequecy\n",
    "- ExperienceWithSpecializedhardware\n",
    "- EngagementWithDSMedia\n",
    "- ExperiencePipelineAutomation"
   ]
  },
  {
   "cell_type": "markdown",
   "id": "e0bd6321",
   "metadata": {},
   "source": [
    "#### Helper Functions"
   ]
  },
  {
   "cell_type": "code",
   "execution_count": 81,
   "id": "f31ed1b0",
   "metadata": {},
   "outputs": [],
   "source": [
    "def get_col_names(df, include_kws, exclude_kws):\n",
    "    \"\"\"\n",
    "    Return the column names that match any of include_kw and none of the exclude_kw\n",
    "    \"\"\"\n",
    "    res_cols = []\n",
    "    for col in df.columns:\n",
    "        inc = False\n",
    "        for include_kw in include_kws:\n",
    "            inc = inc or (include_kw in col)\n",
    "        exc = False\n",
    "        for exclude_kw in exclude_kws:\n",
    "            exc = exc or (exclude_kw in col)\n",
    "        if inc and (not exc):\n",
    "            res_cols.append(col)\n",
    "    return res_cols"
   ]
  },
  {
   "cell_type": "code",
   "execution_count": 93,
   "id": "31d47093",
   "metadata": {},
   "outputs": [],
   "source": [
    "def add_col_to_df1(df1, df2, col_name, new_col_name, identifier=\"PID\"):\n",
    "    res = pd.merge(df1, df2[[identifier, col_name]], on=identifier, how=\"inner\")\n",
    "    res = res.rename({col_name: new_col_name}, axis=1)\n",
    "    return res"
   ]
  },
  {
   "cell_type": "code",
   "execution_count": 95,
   "id": "93755140",
   "metadata": {},
   "outputs": [],
   "source": [
    "def get_frequency_feature_in_df1(df1, df2, cols, new_col_name, identifier=\"PID\"):\n",
    "    df2 = df2.copy()\n",
    "    df2[\"AggCol\"] = df2[cols].sum(axis=1)\n",
    "    res = add_col_to_df1(df1, df2[[identifier, \"AggCol\"]], \"AggCol\", new_col_name)\n",
    "    del df2\n",
    "    return res"
   ]
  },
  {
   "cell_type": "code",
   "execution_count": null,
   "id": "6da006d1",
   "metadata": {},
   "outputs": [],
   "source": []
  },
  {
   "cell_type": "code",
   "execution_count": 97,
   "id": "7a4c1883",
   "metadata": {},
   "outputs": [],
   "source": [
    "adf = survey_df.loc[CLASSES_FILTER, [\"PID\", TITLE, \"Age\", \"Country\"]]"
   ]
  },
  {
   "cell_type": "code",
   "execution_count": 106,
   "id": "6f17f2bc",
   "metadata": {},
   "outputs": [],
   "source": [
    "CATEGORICAL_FEATURES = [\"Age\"]\n",
    "BINARY_FEATURES = []\n",
    "NUMERICAL_FEATURES = []"
   ]
  },
  {
   "cell_type": "markdown",
   "id": "21dd44ad",
   "metadata": {},
   "source": [
    "<center> Feature: <b>Country (Leveraging Country Clustering from <a href=\"https://www.kaggle.com/code/michau96/15-factors-for-data-science-in-your-country\"> Kaggle Notebook </a> )</b> </center>"
   ]
  },
  {
   "cell_type": "code",
   "execution_count": 60,
   "id": "dcc68b51",
   "metadata": {},
   "outputs": [],
   "source": [
    "country_cluster_mapping = {\n",
    "    \"AsianFuture\": ['Russia', 'Egypt', 'Viet Nam', 'India', 'China', 'Nigeria', 'Pakistan', 'Indonesia', 'Bangladesh', 'Morocco', 'Iran, Islamic Republic of...', 'Tunisia'],\n",
    "    \"DevelopedGuards\" : ['Portugal', 'Israel', 'United Kingdom of Great Britain and Northern Ireland', 'Italy', 'Spain', 'Canada', 'Australia', 'United States of America', 'Poland', 'France', 'Germany', 'Netherlands', 'United Arab Emirates', 'Japan'],\n",
    "    \"SouthAmericaAndOthers\": ['Peru', 'Colombia', 'South Africa', 'Mexico', 'Brazil', 'Argentina', 'Chile', 'Turkey', 'Thailand', 'Taiwan', 'South Korea', 'Saudi Arabia', 'Philippines']\n",
    "}"
   ]
  },
  {
   "cell_type": "code",
   "execution_count": 61,
   "id": "154515cd",
   "metadata": {},
   "outputs": [],
   "source": [
    "def get_country_cluster(country):\n",
    "    for key in country_cluster_mapping.keys():\n",
    "        if country in country_cluster_mapping[key]:\n",
    "            return key\n",
    "    return \"Others\""
   ]
  },
  {
   "cell_type": "code",
   "execution_count": 52,
   "id": "5431c903",
   "metadata": {},
   "outputs": [
    {
     "data": {
      "text/plain": [
       "'SouthAmericaAndOthers'"
      ]
     },
     "execution_count": 52,
     "metadata": {},
     "output_type": "execute_result"
    }
   ],
   "source": [
    "get_country_cluster(\"Peru\")"
   ]
  },
  {
   "cell_type": "code",
   "execution_count": 98,
   "id": "14e79cb6",
   "metadata": {
    "scrolled": true
   },
   "outputs": [],
   "source": [
    "adf[\"CountryClusters\"] = adf[\"Country\"].apply(lambda x:get_country_cluster(x))"
   ]
  },
  {
   "cell_type": "code",
   "execution_count": 105,
   "id": "60868043",
   "metadata": {
    "scrolled": false
   },
   "outputs": [],
   "source": [
    "CATEGORICAL_FEATURES.append(\"CountryClusters\")"
   ]
  },
  {
   "cell_type": "markdown",
   "id": "283ada31",
   "metadata": {},
   "source": [
    "<center> Feature: <b>MOOC Learning Platforms</b> </center>"
   ]
  },
  {
   "cell_type": "code",
   "execution_count": 99,
   "id": "a2f35abe",
   "metadata": {},
   "outputs": [],
   "source": [
    "adf = add_col_to_df1(adf, survey_df, \"MOOCPlatforms_University Courses (resulting in a university degree)\", \"CompletedUniDegree\")"
   ]
  },
  {
   "cell_type": "code",
   "execution_count": 102,
   "id": "fe838df8",
   "metadata": {},
   "outputs": [],
   "source": [
    "MOOC_COLS = get_col_names(survey_df, include_kws=[\"MOOCPlatforms_\"], exclude_kws=[\"Other\", \"None\"])"
   ]
  },
  {
   "cell_type": "code",
   "execution_count": 103,
   "id": "43127aeb",
   "metadata": {},
   "outputs": [],
   "source": [
    "adf = get_frequency_feature_in_df1(adf, survey_df, MOOC_COLS, \"NumCoursePlatforms\")"
   ]
  },
  {
   "cell_type": "code",
   "execution_count": 107,
   "id": "8ae0487e",
   "metadata": {},
   "outputs": [],
   "source": [
    "BINARY_FEATURES.append(\"CompletedUniDegree\")\n",
    "NUMERICAL_FEATURES.append(\"NumCoursePlatforms\")"
   ]
  },
  {
   "cell_type": "markdown",
   "id": "df09a0fc",
   "metadata": {},
   "source": [
    "<center> Feature: <b>Highest Education (Ordinal - Treated as numeric)</b> </center>"
   ]
  },
  {
   "cell_type": "code",
   "execution_count": 109,
   "id": "2923da27",
   "metadata": {},
   "outputs": [],
   "source": [
    "adf = add_col_to_df1(adf, survey_df, \"HighestEducation\", \"HighestEducation\")"
   ]
  },
  {
   "cell_type": "code",
   "execution_count": 145,
   "id": "9b30420d",
   "metadata": {},
   "outputs": [],
   "source": [
    "enc = OrdinalEncoder(categories=[[\"Other\", \"Lower than Bachelor\", \"Bachelor\", \"Master\", \"Higher than Master\"]])\n",
    "adf[\"EduOrdinal\"] = enc.fit_transform(adf[\"HighestEducation\"].to_numpy().reshape(-1,1))"
   ]
  },
  {
   "cell_type": "code",
   "execution_count": 164,
   "id": "bc4c16a0",
   "metadata": {},
   "outputs": [],
   "source": [
    "NUMERICAL_FEATURES.append(\"EduOrdinal\")"
   ]
  },
  {
   "cell_type": "markdown",
   "id": "f9e471f3",
   "metadata": {},
   "source": [
    "<center> Feature: <b>Programming Experience (Ordinal - Treated as Numeric)</b> </center>"
   ]
  },
  {
   "cell_type": "code",
   "execution_count": 158,
   "id": "aa20e463",
   "metadata": {},
   "outputs": [],
   "source": [
    "adf = add_col_to_df1(adf, survey_df, \"Programming Experience\", \"Programming Experience\")"
   ]
  },
  {
   "cell_type": "code",
   "execution_count": 160,
   "id": "88023702",
   "metadata": {},
   "outputs": [],
   "source": [
    "adf[\"Programming Experience\"] = adf[\"Programming Experience\"].fillna('I have never written code')"
   ]
  },
  {
   "cell_type": "code",
   "execution_count": 162,
   "id": "fde6572e",
   "metadata": {},
   "outputs": [],
   "source": [
    "enc = OrdinalEncoder(categories=[['I have never written code', '< 1 years', '1-2 years', '1-3 years', '3-5 years', '5-10 years', '10-20 years', '20+ years']])\n",
    "adf[\"ProgExpOrdinal\"] = enc.fit_transform(adf[\"Programming Experience\"].to_numpy().reshape(-1,1))"
   ]
  },
  {
   "cell_type": "code",
   "execution_count": 165,
   "id": "166757e0",
   "metadata": {},
   "outputs": [],
   "source": [
    "NUMERICAL_FEATURES.append(\"ProgExpOrdinal\")"
   ]
  },
  {
   "cell_type": "markdown",
   "id": "7dde8e77",
   "metadata": {},
   "source": [
    "<center> Feature: <b>Programming Languages</b> </center>"
   ]
  },
  {
   "cell_type": "code",
   "execution_count": 167,
   "id": "3a8e643a",
   "metadata": {},
   "outputs": [],
   "source": [
    "adf = add_col_to_df1(adf, survey_df, \"ProgLanguage_Python\", \"UsedPython\")\n",
    "adf = add_col_to_df1(adf, survey_df, \"ProgLanguage_R\", \"UsedR\")\n",
    "adf = add_col_to_df1(adf, survey_df, \"ProgLanguage_SQL\", \"UsedSQL\")"
   ]
  },
  {
   "cell_type": "code",
   "execution_count": 169,
   "id": "8787cdc7",
   "metadata": {},
   "outputs": [],
   "source": [
    "BINARY_FEATURES.extend([\"UsedPython\", \"UsedR\", \"UsedSQL\"])"
   ]
  },
  {
   "cell_type": "code",
   "execution_count": 173,
   "id": "51999a4e",
   "metadata": {},
   "outputs": [],
   "source": [
    "PROGLANG_COLS = get_col_names(survey_df, include_kws=[\"ProgLanguage_\"], exclude_kws=[\"Other\", \"None\"])\n",
    "adf = get_frequency_feature_in_df1(adf, survey_df, PROGLANG_COLS, \"NumProgLanguages\")"
   ]
  },
  {
   "cell_type": "code",
   "execution_count": 175,
   "id": "11fff333",
   "metadata": {},
   "outputs": [],
   "source": [
    "NUMERICAL_FEATURES.append(\"NumProgLanguages\")"
   ]
  },
  {
   "cell_type": "markdown",
   "id": "17db3231",
   "metadata": {},
   "source": [
    "<center> Feature: <b>IDEs</b> </center>"
   ]
  },
  {
   "cell_type": "code",
   "execution_count": null,
   "id": "9f05c4cb",
   "metadata": {},
   "outputs": [],
   "source": [
    "survey_df[\"JupyterUsage\"] = survey_df[get_col_names(survey_df, include_kws=[\"IDE_Jupyter\"], exclude_kws=[\"Other\", \"None\"])].fillna(0).sum(axis=1)\n",
    "survey_df.loc[survey_df[\"JupyterUsage\"]==2, \"JupyterUsage\"] = 1"
   ]
  },
  {
   "cell_type": "code",
   "execution_count": 189,
   "id": "b0f715a4",
   "metadata": {},
   "outputs": [],
   "source": [
    "adf = add_col_to_df1(adf, survey_df, \"JupyterUsage\", \"UsedJupyter\")"
   ]
  },
  {
   "cell_type": "code",
   "execution_count": 191,
   "id": "cd45d63c",
   "metadata": {},
   "outputs": [],
   "source": [
    "BINARY_FEATURES.extend([\"UsedJupyter\"])"
   ]
  },
  {
   "cell_type": "code",
   "execution_count": 192,
   "id": "68b4ee04",
   "metadata": {},
   "outputs": [],
   "source": [
    "IDE_COLS = get_col_names(survey_df, include_kws=[\"IDE_\"], exclude_kws=[\"Other\", \"None\"])\n",
    "adf = get_frequency_feature_in_df1(adf, survey_df, IDE_COLS, \"NumIDEsUsed\")"
   ]
  },
  {
   "cell_type": "markdown",
   "id": "b165749b",
   "metadata": {},
   "source": [
    "<center> Feature: <b>Visualization Experience</b> </center>"
   ]
  },
  {
   "cell_type": "code",
   "execution_count": null,
   "id": "43635268",
   "metadata": {},
   "outputs": [],
   "source": []
  },
  {
   "cell_type": "code",
   "execution_count": 202,
   "id": "35521853",
   "metadata": {},
   "outputs": [],
   "source": [
    "PYTHON_VIZ_COLNAMES = get_col_names(survey_df, include_kws=[\"VizLib_Altair\", \"VizLib_Bokeh\", \"VizLib_Geoplotlib\", \"VizLib_Matplotlib\", \"VizLib_Plotly\", \"VizLib_Seaborn\", \"VizLib_Pygal\"], exclude_kws=[\"Other\", \"None\"])\n",
    "JS_VIZ_COLNAMES = get_col_names(survey_df, include_kws=[\"VizLib_D3 js\"], exclude_kws=[\"Other\", \"None\"])\n",
    "R_VIZ_COLNAMES = get_col_names(survey_df, include_kws=[\"VizLib_Dygraphs\", \"VizLib_Ggplot\", \"VizLib_Highchart\", \"VizLib_Shiny\"], exclude_kws=[\"Other\", \"None\"])"
   ]
  },
  {
   "cell_type": "code",
   "execution_count": 207,
   "id": "52ad5c0e",
   "metadata": {},
   "outputs": [],
   "source": [
    "survey_df[\"PyVizUsage\"] = survey_df[PYTHON_VIZ_COLNAMES].fillna(0).sum(axis=1)\n",
    "survey_df.loc[survey_df[\"PyVizUsage\"]>1, \"PyVizUsage\"] = 1\n",
    "\n",
    "survey_df[\"RVizUsage\"] = survey_df[R_VIZ_COLNAMES].fillna(0).sum(axis=1)\n",
    "survey_df.loc[survey_df[\"RVizUsage\"]>1, \"RVizUsage\"] = 1\n",
    "\n",
    "survey_df[\"JSVizUsage\"] = survey_df[JS_VIZ_COLNAMES].fillna(0).sum(axis=1)\n",
    "survey_df.loc[survey_df[\"JSVizUsage\"]>1, \"JSVizUsage\"] = 1"
   ]
  },
  {
   "cell_type": "code",
   "execution_count": 210,
   "id": "8a7c0de7",
   "metadata": {},
   "outputs": [],
   "source": [
    "adf = add_col_to_df1(adf, survey_df, \"PyVizUsage\", \"UsedPyViz\")\n",
    "adf = add_col_to_df1(adf, survey_df, \"RVizUsage\", \"UsedRViz\")\n",
    "adf = add_col_to_df1(adf, survey_df, \"JSVizUsage\", \"UsedJSViz\")"
   ]
  },
  {
   "cell_type": "code",
   "execution_count": 212,
   "id": "ced5c9b3",
   "metadata": {},
   "outputs": [],
   "source": [
    "BINARY_FEATURES.extend([\"UsedPyViz\", \"UsedRViz\", \"UsedJSViz\"])"
   ]
  },
  {
   "cell_type": "markdown",
   "id": "b00d5407",
   "metadata": {},
   "source": [
    "<center> Feature: <b>ML Exposure</b> </center>"
   ]
  },
  {
   "cell_type": "code",
   "execution_count": 226,
   "id": "a4f46bd3",
   "metadata": {},
   "outputs": [
    {
     "data": {
      "text/plain": [
       "array(['1-2 years', '3-4 years', 'I do not use machine learning methods',\n",
       "       '2-3 years', 'Under 1 year', '4-5 years', '5-10 years',\n",
       "       '20 or more years', '10-20 years'], dtype=object)"
      ]
     },
     "execution_count": 226,
     "metadata": {},
     "output_type": "execute_result"
    }
   ],
   "source": [
    "adf[\"MLExposure\"].unique()"
   ]
  },
  {
   "cell_type": "code",
   "execution_count": 223,
   "id": "89ca1f64",
   "metadata": {},
   "outputs": [],
   "source": []
  },
  {
   "cell_type": "code",
   "execution_count": 225,
   "id": "1e620ab5",
   "metadata": {},
   "outputs": [],
   "source": []
  },
  {
   "cell_type": "code",
   "execution_count": 227,
   "id": "f547a4c0",
   "metadata": {},
   "outputs": [],
   "source": [
    "adf = add_col_to_df1(adf, survey_df, \"MLExposure\", \"MLExposure\")\n",
    "adf[\"MLExposure\"] = adf[\"MLExposure\"].fillna('I do not use machine learning methods')\n",
    "\n",
    "enc = OrdinalEncoder(categories=[['I do not use machine learning methods', 'Under 1 year', '1-2 years', '2-3 years', '3-4 years', '4-5 years', '5-10 years', '10-20 years', '20 or more years']])\n",
    "adf[\"MLExpOrdinal\"] = enc.fit_transform(adf[\"MLExposure\"].to_numpy().reshape(-1,1))"
   ]
  },
  {
   "cell_type": "code",
   "execution_count": 229,
   "id": "acf65f77",
   "metadata": {},
   "outputs": [],
   "source": [
    "NUMERICAL_FEATURES.append(\"MLExpOrdinal\")"
   ]
  },
  {
   "cell_type": "markdown",
   "id": "517b980e",
   "metadata": {},
   "source": [
    "<center> Feature: <b>ML Frameworks</b> </center>"
   ]
  },
  {
   "cell_type": "code",
   "execution_count": 232,
   "id": "1b70832d",
   "metadata": {},
   "outputs": [],
   "source": [
    "adf = add_col_to_df1(adf, survey_df, \"MLFramework_Scikit-learn\", \"UsedSKlearn\")"
   ]
  },
  {
   "cell_type": "code",
   "execution_count": 233,
   "id": "58612b83",
   "metadata": {},
   "outputs": [],
   "source": [
    "survey_df[\"TFKerasUsage\"] = survey_df[['MLFramework_TensorFlow','MLFramework_Keras']].fillna(0).sum(axis=1)\n",
    "survey_df.loc[survey_df[\"TFKerasUsage\"]>1, \"TFKerasUsage\"] = 1\n",
    "adf = add_col_to_df1(adf, survey_df, \"TFKerasUsage\", \"UsedTFKeras\")"
   ]
  },
  {
   "cell_type": "code",
   "execution_count": 235,
   "id": "9a539e7d",
   "metadata": {},
   "outputs": [],
   "source": [
    "survey_df[\"PyTorchUsage\"] = survey_df[['MLFramework_PyTorch','MLFramework_PyTorch Lightning']].fillna(0).sum(axis=1)\n",
    "survey_df.loc[survey_df[\"PyTorchUsage\"]>1, \"PyTorchUsage\"] = 1\n",
    "adf = add_col_to_df1(adf, survey_df, \"PyTorchUsage\", \"UsedPyTorch\")"
   ]
  },
  {
   "cell_type": "code",
   "execution_count": 236,
   "id": "c4536266",
   "metadata": {},
   "outputs": [],
   "source": [
    "adf = add_col_to_df1(adf, survey_df, \"MLFramework_Huggingface\", \"UsedHF\")"
   ]
  },
  {
   "cell_type": "code",
   "execution_count": 237,
   "id": "39aec4ab",
   "metadata": {},
   "outputs": [],
   "source": [
    "adf = add_col_to_df1(adf, survey_df, \"MLFramework_Fast.ai\", \"UsedFastAI\")"
   ]
  },
  {
   "cell_type": "code",
   "execution_count": 238,
   "id": "1b1ddf87",
   "metadata": {},
   "outputs": [],
   "source": [
    "BINARY_FEATURES.extend([\"UsedSKlearn\", \"UsedTFKeras\", \"UsedPyTorch\", \"UsedHF\", \"UsedFastAI\"])"
   ]
  },
  {
   "cell_type": "code",
   "execution_count": 239,
   "id": "b76b01fb",
   "metadata": {},
   "outputs": [],
   "source": [
    "MLFRAMEWORK_COLS = get_col_names(survey_df, include_kws=[\"MLFramework_\"], exclude_kws=[\"Other\", \"None\"])\n",
    "adf = get_frequency_feature_in_df1(adf, survey_df, MLFRAMEWORK_COLS, \"NumMLFrameworks\")"
   ]
  },
  {
   "cell_type": "code",
   "execution_count": 240,
   "id": "7ee4ef9e",
   "metadata": {},
   "outputs": [],
   "source": [
    "NUMERICAL_FEATURES.append(\"NumMLFrameworks\")"
   ]
  },
  {
   "cell_type": "markdown",
   "id": "46aa1478",
   "metadata": {},
   "source": [
    "<center> Feature: <b>ML Algorithms</b> </center>"
   ]
  },
  {
   "cell_type": "code",
   "execution_count": 241,
   "id": "3cc0fd19",
   "metadata": {},
   "outputs": [],
   "source": [
    "adf = add_col_to_df1(adf, survey_df, \"MLAlgo_Linear or Logistic Regression\", \"UsedLinearModels\")\n",
    "adf = add_col_to_df1(adf, survey_df, \"MLAlgo_Decision Trees or Random Forests\", \"UsedTreeModels\")\n",
    "adf = add_col_to_df1(adf, survey_df, \"MLAlgo_Gradient Boosting Machines (xgboost, lightgbm, etc)\", \"UsedGBModels\")\n",
    "adf = add_col_to_df1(adf, survey_df, \"MLAlgo_Bayesian Approaches\", \"UsedBayesianModels\")\n",
    "adf = add_col_to_df1(adf, survey_df, \"MLAlgo_Evolutionary Approaches\", \"UsedEvolutionaryModels\")\n",
    "adf = add_col_to_df1(adf, survey_df, \"MLAlgo_Dense Neural Networks (MLPs, etc)\", \"UsedNNModels\")\n",
    "adf = add_col_to_df1(adf, survey_df, \"MLAlgo_Convolutional Neural Networks\", \"UsedCNNModels\")\n",
    "adf = add_col_to_df1(adf, survey_df, \"MLAlgo_Generative Adversarial Networks\", \"UsedGANModels\")\n",
    "adf = add_col_to_df1(adf, survey_df, \"MLAlgo_Transformer Networks (BERT, gpt-3, etc)\", \"UsedTransformerModels\")\n",
    "adf = add_col_to_df1(adf, survey_df, \"MLAlgo_Autoencoder Networks (DAE, VAE, etc)\", \"UsedAEModels\")\n",
    "adf = add_col_to_df1(adf, survey_df, \"MLAlgo_Recurrent Neural Networks\", \"UsedRNNModels\")\n",
    "adf = add_col_to_df1(adf, survey_df, \"MLAlgo_Graph Neural Networks\", \"UsedGraphModels\")"
   ]
  },
  {
   "cell_type": "code",
   "execution_count": 242,
   "id": "752fd8d4",
   "metadata": {},
   "outputs": [],
   "source": [
    "BINARY_FEATURES.extend([\"UsedLinearModels\",\"UsedTreeModels\",\"UsedGBModels\",\"UsedBayesianModels\",\"UsedEvolutionaryModels\",\"UsedNNModels\",\"UsedCNNModels\",\"UsedGANModels\",\"UsedTransformerModels\",\"UsedAEModels\",\"UsedRNNModels\",\"UsedGraphModels\"])"
   ]
  },
  {
   "cell_type": "markdown",
   "id": "cef0b59f",
   "metadata": {},
   "source": [
    "<center> Feature: <b>Transfer Learning</b> </center>"
   ]
  },
  {
   "cell_type": "code",
   "execution_count": 244,
   "id": "25761641",
   "metadata": {},
   "outputs": [],
   "source": [
    "PRETRAINED_COLS = get_col_names(survey_df, include_kws=[\"DownloadPreTrainedWeights_\"], exclude_kws=[\"Other\", \"None\"])\n",
    "adf = get_frequency_feature_in_df1(adf, survey_df, PRETRAINED_COLS, \"NumTransferLearning\")"
   ]
  },
  {
   "cell_type": "code",
   "execution_count": 245,
   "id": "9563e92e",
   "metadata": {},
   "outputs": [],
   "source": [
    "NUMERICAL_FEATURES.append(\"NumTransferLearning\")"
   ]
  },
  {
   "cell_type": "markdown",
   "id": "91db363a",
   "metadata": {},
   "source": [
    "<center> Feature: <b>CloudProviders</b> </center>"
   ]
  },
  {
   "cell_type": "code",
   "execution_count": 249,
   "id": "90d280d9",
   "metadata": {},
   "outputs": [],
   "source": [
    "adf = add_col_to_df1(adf, survey_df, \"CloudProviderUsed_Google Cloud Platform (GCP)\", \"UsedGCP\")\n",
    "adf = add_col_to_df1(adf, survey_df, \"CloudProviderUsed_Amazon Web Services (AWS)\", \"UsedAWS\")\n",
    "adf = add_col_to_df1(adf, survey_df, \"CloudProviderUsed_Microsoft Azure\", \"UsedAzure\")"
   ]
  },
  {
   "cell_type": "code",
   "execution_count": 250,
   "id": "4e2cc222",
   "metadata": {},
   "outputs": [],
   "source": [
    "BINARY_FEATURES.extend([\"UsedGCP\", \"UsedAWS\", \"UsedAzure\"])"
   ]
  },
  {
   "cell_type": "code",
   "execution_count": 251,
   "id": "53f70a5d",
   "metadata": {},
   "outputs": [],
   "source": [
    "CLOUDPROVIDER_COLS = get_col_names(survey_df, include_kws=[\"CloudProviderUsed_\"], exclude_kws=[\"Other\", \"None\"])\n",
    "adf = get_frequency_feature_in_df1(adf, survey_df, CLOUDPROVIDER_COLS, \"NumCloudProvidersUsed\")"
   ]
  },
  {
   "cell_type": "code",
   "execution_count": 252,
   "id": "931435f9",
   "metadata": {},
   "outputs": [],
   "source": [
    "NUMERICAL_FEATURES.append(\"NumCloudProvidersUsed\")"
   ]
  },
  {
   "cell_type": "markdown",
   "id": "0a60265f",
   "metadata": {},
   "source": [
    "<center> Feature: <b>CloudCompute</b> </center>"
   ]
  },
  {
   "cell_type": "code",
   "execution_count": 253,
   "id": "e1368f00",
   "metadata": {},
   "outputs": [],
   "source": [
    "CLOUDCOMPUTE_COLS = get_col_names(survey_df, include_kws=[\"CloudComputeUsed_\"], exclude_kws=[\"Other\", \"None\"])\n",
    "adf = get_frequency_feature_in_df1(adf, survey_df, CLOUDCOMPUTE_COLS, \"NumCloudComputeUsed\")\n",
    "NUMERICAL_FEATURES.append(\"NumCloudComputeUsed\")"
   ]
  },
  {
   "cell_type": "markdown",
   "id": "7af4c164",
   "metadata": {},
   "source": [
    "<center> Feature: <b>CloudStorage</b> </center>"
   ]
  },
  {
   "cell_type": "code",
   "execution_count": null,
   "id": "ffc0c58a",
   "metadata": {},
   "outputs": [],
   "source": []
  },
  {
   "cell_type": "code",
   "execution_count": 254,
   "id": "9c8351ab",
   "metadata": {},
   "outputs": [],
   "source": [
    "CLOUDSTORAGE_COLS = get_col_names(survey_df, include_kws=[\"CloudStorageUsed_\"], exclude_kws=[\"Other\", \"None\"])\n",
    "adf = get_frequency_feature_in_df1(adf, survey_df, CLOUDSTORAGE_COLS, \"NumCloudStorageUsed\")\n",
    "NUMERICAL_FEATURES.append(\"NumCloudStorageUsed\")"
   ]
  },
  {
   "cell_type": "markdown",
   "id": "8adaf93c",
   "metadata": {},
   "source": [
    "<center> Feature: <b>DBUSed</b> </center>"
   ]
  },
  {
   "cell_type": "code",
   "execution_count": 255,
   "id": "1428e40e",
   "metadata": {},
   "outputs": [
    {
     "data": {
      "text/plain": [
       "['DBUsed_MySQL',\n",
       " 'DBUsed_PostgreSQL',\n",
       " 'DBUsed_SQLite',\n",
       " 'DBUsed_Oracle Database',\n",
       " 'DBUsed_MongoDB',\n",
       " 'DBUsed_Snowflake',\n",
       " 'DBUsed_IBM Db2',\n",
       " 'DBUsed_Microsoft SQL Server',\n",
       " 'DBUsed_Microsoft Azure SQL Database',\n",
       " 'DBUsed_Amazon Redshift',\n",
       " 'DBUsed_Amazon RDS',\n",
       " 'DBUsed_Amazon DynamoDB',\n",
       " 'DBUsed_Google Cloud BigQuery',\n",
       " 'DBUsed_Google Cloud SQL',\n",
       " 'DBUsed_Microsoft Azure Cosmos DB',\n",
       " 'DBUsed_Amazon Aurora',\n",
       " 'DBUsed_Google Cloud Firestore',\n",
       " 'DBUsed_Google Cloud BigTable',\n",
       " 'DBUsed_Google Cloud Spanner',\n",
       " 'DBUsed_PostgresSQL',\n",
       " 'DBUsed_Microsoft Access',\n",
       " 'DBUsed_Microsoft Azure Data Lake Storage',\n",
       " 'DBUsed_Amazon Athena']"
      ]
     },
     "execution_count": 255,
     "metadata": {},
     "output_type": "execute_result"
    }
   ],
   "source": [
    "get_col_names(survey_df, include_kws=[\"DBUsed_\"], exclude_kws=[\"Other\", \"None\"])"
   ]
  },
  {
   "cell_type": "code",
   "execution_count": 256,
   "id": "a6380dc4",
   "metadata": {},
   "outputs": [],
   "source": [
    "rel_db_map = {\n",
    "    \"Relational\": ,\n",
    "    \"Non-relational\": \n",
    "}"
   ]
  },
  {
   "cell_type": "code",
   "execution_count": 257,
   "id": "0b5abeb4",
   "metadata": {},
   "outputs": [],
   "source": [
    "def get_db_type(db):\n",
    "    for key in rel_db_map.keys():\n",
    "        if db in rel_db_map[key]:\n",
    "            return key\n",
    "    return \"Others\""
   ]
  },
  {
   "cell_type": "code",
   "execution_count": 261,
   "id": "9d35a138",
   "metadata": {},
   "outputs": [],
   "source": [
    "RELATIONAL_DBS = [\"DBUsed_Microsoft Access\",\"DBUsed_Google Cloud Spanner\",\"DBUsed_Amazon Aurora\",\"DBUsed_Microsoft Azure Cosmos DB\",\"DBUsed_Google Cloud SQL\",\"DBUsed_Google Cloud BigQuery\",\"DBUsed_Amazon RDS\",\"DBUsed_Amazon Redshift\",\"DBUsed_Snowflake\", \"DBUsed_IBM Db2\", \"DBUsed_Microsoft SQL Server\", \"DBUsed_Microsoft Azure SQL Database\",\"DBUsed_MySQL\", \"DBUsed_PostgreSQL\", \"DBUsed_PostgresSQL\", \"DBUsed_SQLite\", 'DBUsed_Oracle Database']\n",
    "NON_RELATIONAL_DBS = [\"DBUsed_Google Cloud BigTable\",\"DBUsed_Google Cloud Firestore\",\"DBUsed_Microsoft Azure Cosmos DB\",\"DBUsed_Amazon DynamoDB\",\"DBUsed_MongoDB\"]"
   ]
  },
  {
   "cell_type": "code",
   "execution_count": 270,
   "id": "f74bf418",
   "metadata": {},
   "outputs": [],
   "source": [
    "survey_df[\"UsedRelationalDBs\"] = survey_df[RELATIONAL_DBS].fillna(0).sum(axis=1).apply(lambda x:1 if x>=1 else 0)\n",
    "survey_df[\"UsedNonRelationalDBs\"] = survey_df[NON_RELATIONAL_DBS].fillna(0).sum(axis=1).apply(lambda x:1 if x>=1 else 0)"
   ]
  },
  {
   "cell_type": "code",
   "execution_count": 271,
   "id": "b96e1043",
   "metadata": {},
   "outputs": [],
   "source": [
    "adf = add_col_to_df1(adf, survey_df, \"UsedRelationalDBs\", \"UsedRelationalDBs\")\n",
    "adf = add_col_to_df1(adf, survey_df, \"UsedNonRelationalDBs\", \"UsedNonRelationalDBs\")"
   ]
  },
  {
   "cell_type": "code",
   "execution_count": 272,
   "id": "8f3b5258",
   "metadata": {},
   "outputs": [],
   "source": [
    "BINARY_FEATURES.extend([\"UsedRelationalDBs\",\"UsedNonRelationalDBs\"])"
   ]
  },
  {
   "cell_type": "markdown",
   "id": "35e878bc",
   "metadata": {},
   "source": [
    "<center> Feature: <b>BI Tools</b> </center>"
   ]
  },
  {
   "cell_type": "code",
   "execution_count": 273,
   "id": "ce1b0557",
   "metadata": {},
   "outputs": [],
   "source": [
    "survey_df[\"UsedTableau\"] = survey_df[[\"BIToolUsed_Tableau\", \"BIToolUsed_Tableau CRM\"]].fillna(0).sum(axis=1).apply(lambda x:1 if x>=1 else 0)"
   ]
  },
  {
   "cell_type": "code",
   "execution_count": 274,
   "id": "d14bd2c5",
   "metadata": {},
   "outputs": [],
   "source": [
    "adf = add_col_to_df1(adf, survey_df, \"BIToolUsed_Microsoft Power BI\", \"UsedPowerBI\")\n",
    "adf = add_col_to_df1(adf, survey_df, \"UsedTableau\", \"UsedTableau\")"
   ]
  },
  {
   "cell_type": "code",
   "execution_count": 275,
   "id": "a7809f8e",
   "metadata": {},
   "outputs": [],
   "source": [
    "BINARY_FEATURES.extend([\"UsedPowerBI\",\"UsedTableau\"])"
   ]
  },
  {
   "cell_type": "code",
   "execution_count": 276,
   "id": "19ad3d8f",
   "metadata": {},
   "outputs": [],
   "source": [
    "BI_COLS = get_col_names(survey_df, include_kws=[\"BIToolUsed_\"], exclude_kws=[\"Other\", \"None\"])\n",
    "adf = get_frequency_feature_in_df1(adf, survey_df, BI_COLS, \"NumBIToolsUsed\")"
   ]
  },
  {
   "cell_type": "code",
   "execution_count": 277,
   "id": "500bc23f",
   "metadata": {},
   "outputs": [],
   "source": [
    "NUMERICAL_FEATURES.append(\"NumBIToolsUsed\")"
   ]
  },
  {
   "cell_type": "markdown",
   "id": "e2a34f7f",
   "metadata": {},
   "source": [
    "<center> Features: <b>MLaaS, AutoML, Deployment, Monitoring Tools</b> </center>"
   ]
  },
  {
   "cell_type": "code",
   "execution_count": null,
   "id": "94d0e732",
   "metadata": {},
   "outputs": [],
   "source": [
    "survey_df[\"MLMonitoringToolUsed_\"]"
   ]
  },
  {
   "cell_type": "code",
   "execution_count": 279,
   "id": "d49e68a6",
   "metadata": {},
   "outputs": [],
   "source": [
    "COLS = get_col_names(survey_df, include_kws=[\"MLaaS_\"], exclude_kws=[\"Other\", \"None\"])\n",
    "adf = get_frequency_feature_in_df1(adf, survey_df, COLS, \"NumMLaaSToolsUsed\")\n",
    "NUMERICAL_FEATURES.append(\"NumMLaaSToolsUsed\")"
   ]
  },
  {
   "cell_type": "code",
   "execution_count": 296,
   "id": "3d160347",
   "metadata": {},
   "outputs": [],
   "source": [
    "COLS = get_col_names(survey_df, include_kws=[\"AutoMLUsed_\"], exclude_kws=[\"Other\", \"None\"])\n",
    "adf = get_frequency_feature_in_df1(adf, survey_df, COLS, \"NumAutoMLUsed\")\n",
    "NUMERICAL_FEATURES.append(\"NumAutoMLUsed\")"
   ]
  },
  {
   "cell_type": "code",
   "execution_count": 281,
   "id": "aadb5e2d",
   "metadata": {},
   "outputs": [],
   "source": [
    "COLS = get_col_names(survey_df, include_kws=[\"MLDeploymentToolsUsed_\"], exclude_kws=[\"Other\", \"None\"])\n",
    "adf = get_frequency_feature_in_df1(adf, survey_df, COLS, \"NumMLDeploymentToolsUsed\")\n",
    "NUMERICAL_FEATURES.append(\"NumMLDeploymentToolsUsed\")"
   ]
  },
  {
   "cell_type": "code",
   "execution_count": 282,
   "id": "c7a52283",
   "metadata": {},
   "outputs": [],
   "source": [
    "COLS = get_col_names(survey_df, include_kws=[\"MLMonitoringToolUsed_\"], exclude_kws=[\"Other\", \"None\"])\n",
    "adf = get_frequency_feature_in_df1(adf, survey_df, COLS, \"NumMLMonitoringToolUsed\")\n",
    "NUMERICAL_FEATURES.append(\"NumMLMonitoringToolUsed\")"
   ]
  },
  {
   "cell_type": "markdown",
   "id": "d1b3ecac",
   "metadata": {},
   "source": [
    "<center> Feature: <b>Hardware</b> </center>"
   ]
  },
  {
   "cell_type": "code",
   "execution_count": 285,
   "id": "6e636381",
   "metadata": {},
   "outputs": [
    {
     "data": {
      "text/plain": [
       "array(['2-5 times', 'Never', nan, '6-25 times', 'Once',\n",
       "       'More than 25 times'], dtype=object)"
      ]
     },
     "execution_count": 285,
     "metadata": {},
     "output_type": "execute_result"
    }
   ],
   "source": [
    "survey_df[\"DSContentMediaConsumed_\"].unique()"
   ]
  },
  {
   "cell_type": "code",
   "execution_count": 283,
   "id": "6b6a2380",
   "metadata": {},
   "outputs": [],
   "source": [
    "survey_df[\"UsedGPU\"] = survey_df[[\"HardwareUsed_GPUs\", \"HardwareUsed_NVIDIA GPUs\"]].fillna(0).sum(axis=1).apply(lambda x:1 if x>=1 else 0)"
   ]
  },
  {
   "cell_type": "code",
   "execution_count": 286,
   "id": "9bafae55",
   "metadata": {},
   "outputs": [],
   "source": [
    "adf = add_col_to_df1(adf, survey_df, \"UsedGPU\", \"UsedGPU\")"
   ]
  },
  {
   "cell_type": "code",
   "execution_count": 287,
   "id": "699ec249",
   "metadata": {},
   "outputs": [],
   "source": [
    "BINARY_FEATURES.extend([\"UsedGPU\"])"
   ]
  },
  {
   "cell_type": "code",
   "execution_count": 288,
   "id": "b6267e60",
   "metadata": {},
   "outputs": [],
   "source": [
    "adf = add_col_to_df1(adf, survey_df, \"TPUUsageFrequency\", \"TPUUsageFrequency\")"
   ]
  },
  {
   "cell_type": "code",
   "execution_count": 289,
   "id": "95f5db1d",
   "metadata": {},
   "outputs": [],
   "source": [
    "adf[\"TPUUsageFrequency\"] = adf[\"TPUUsageFrequency\"].fillna('Never')\n",
    "\n",
    "enc = OrdinalEncoder(categories=[['Never', 'Once', '2-5 times', '6-25 times', 'More than 25 times']])\n",
    "adf[\"TPUUsageOrdinal\"] = enc.fit_transform(adf[\"TPUUsageFrequency\"].to_numpy().reshape(-1,1))"
   ]
  },
  {
   "cell_type": "code",
   "execution_count": 290,
   "id": "63a01615",
   "metadata": {},
   "outputs": [],
   "source": [
    "COLS = get_col_names(survey_df, include_kws=[\"HardwareUsed_\"], exclude_kws=[\"Other\", \"None\"])\n",
    "adf = get_frequency_feature_in_df1(adf, survey_df, COLS, \"NumHardwareUsed\")\n",
    "NUMERICAL_FEATURES.append(\"NumHardwareUsed\")"
   ]
  },
  {
   "cell_type": "code",
   "execution_count": 291,
   "id": "619d56a1",
   "metadata": {},
   "outputs": [],
   "source": [
    "NUMERICAL_FEATURES.append(\"TPUUsageOrdinal\")"
   ]
  },
  {
   "cell_type": "markdown",
   "id": "11adec17",
   "metadata": {},
   "source": [
    "<center> Feature: <b>DSMedia</b> </center>"
   ]
  },
  {
   "cell_type": "code",
   "execution_count": 292,
   "id": "002016a7",
   "metadata": {},
   "outputs": [],
   "source": [
    "COLS = get_col_names(survey_df, include_kws=[\"DSContentMediaConsumed_\"], exclude_kws=[\"Other\", \"None\"])\n",
    "adf = get_frequency_feature_in_df1(adf, survey_df, COLS, \"NumDSContentMediaConsumed\")\n",
    "NUMERICAL_FEATURES.append(\"NumDSContentMediaConsumed\")"
   ]
  },
  {
   "cell_type": "markdown",
   "id": "a6728a19",
   "metadata": {},
   "source": [
    "<center> Feature: <b>PipelineAutomation</b> </center>"
   ]
  },
  {
   "cell_type": "code",
   "execution_count": 303,
   "id": "fcdfdfe2",
   "metadata": {},
   "outputs": [],
   "source": [
    "survey_df[\"UsedE2EPipelineAutomation\"] = survey_df[[\"AutoMLFrameworksUsed_Automation of full ML pipelines (e.g. Google AutoML, H2O Driverless AI)\", \"AutoMLFrameworksUsed_Automation of full ML pipelines (e.g. Google AutoML, H20 Driverless AI)\"]].fillna(0).sum(axis=1).apply(lambda x:1 if x>=1 else 0)"
   ]
  },
  {
   "cell_type": "code",
   "execution_count": 297,
   "id": "a698f4d6",
   "metadata": {},
   "outputs": [],
   "source": [
    "COLS = get_col_names(survey_df, include_kws=[\"AutoMLFrameworksUsed_Automated\"], exclude_kws=[\"Other\", \"None\"])\n",
    "adf = get_frequency_feature_in_df1(adf, survey_df, COLS, \"NumStepsOfPipelineAutomated\")\n",
    "NUMERICAL_FEATURES.append(\"NumStepsOfPipelineAutomated\")"
   ]
  },
  {
   "cell_type": "code",
   "execution_count": 304,
   "id": "27cce0c9",
   "metadata": {},
   "outputs": [],
   "source": [
    "adf = add_col_to_df1(adf, survey_df, \"UsedE2EPipelineAutomation\", \"UsedE2EPipelineAutomation\")\n",
    "BINARY_FEATURES.extend([\"UsedE2EPipelineAutomation\"])"
   ]
  },
  {
   "cell_type": "code",
   "execution_count": 403,
   "id": "2bb08b6f",
   "metadata": {},
   "outputs": [],
   "source": [
    "adf[[\"PID\",TITLE]+CATEGORICAL_FEATURES+NUMERICAL_FEATURES+BINARY_FEATURES].fillna(0).to_csv(\"data/processed/DS-MLE-DA-DE-RS-FeatureEngineered.csv\", index=False)"
   ]
  },
  {
   "cell_type": "markdown",
   "id": "123f6907",
   "metadata": {},
   "source": [
    "<center> Modeling: <b>Classification of Title</b> </center>"
   ]
  },
  {
   "cell_type": "code",
   "execution_count": 313,
   "id": "af8e6c53",
   "metadata": {},
   "outputs": [],
   "source": [
    "class_df = adf[[\"PID\",TITLE]+CATEGORICAL_FEATURES+NUMERICAL_FEATURES+BINARY_FEATURES].fillna(0)"
   ]
  },
  {
   "cell_type": "code",
   "execution_count": 316,
   "id": "18a35e0f",
   "metadata": {},
   "outputs": [],
   "source": [
    "mms = MinMaxScaler()\n",
    "class_df[NUMERICAL_FEATURES] = mms.fit_transform(class_df[NUMERICAL_FEATURES])"
   ]
  },
  {
   "cell_type": "code",
   "execution_count": 319,
   "id": "9cf8360d",
   "metadata": {},
   "outputs": [],
   "source": [
    "from lazypredict.Supervised import LazyClassifier"
   ]
  },
  {
   "cell_type": "code",
   "execution_count": 324,
   "id": "1224e4f6",
   "metadata": {},
   "outputs": [],
   "source": [
    "X = class_df[NUMERICAL_FEATURES+BINARY_FEATURES]\n",
    "le = LabelEncoder()\n",
    "y = le.fit_transform(class_df[TITLE])"
   ]
  },
  {
   "cell_type": "code",
   "execution_count": 328,
   "id": "8e89b170",
   "metadata": {},
   "outputs": [],
   "source": [
    "X_train, X_test, y_train, y_test = train_test_split(X, y,test_size=.2,random_state=42)"
   ]
  },
  {
   "cell_type": "code",
   "execution_count": 329,
   "id": "ace85c95",
   "metadata": {},
   "outputs": [],
   "source": [
    "clf = LazyClassifier(verbose=1,ignore_warnings=True, custom_metric=None)"
   ]
  },
  {
   "cell_type": "code",
   "execution_count": 330,
   "id": "e5fa14b6",
   "metadata": {},
   "outputs": [
    {
     "name": "stderr",
     "output_type": "stream",
     "text": [
      "  3%|█▌                                          | 1/29 [00:00<00:18,  1.51it/s]"
     ]
    },
    {
     "name": "stdout",
     "output_type": "stream",
     "text": [
      "{'Model': 'AdaBoostClassifier', 'Accuracy': 0.5380142149472323, 'Balanced Accuracy': 0.427983131397097, 'ROC AUC': None, 'F1 Score': 0.5167112522844037, 'Time taken': 0.6641478538513184}\n"
     ]
    },
    {
     "name": "stderr",
     "output_type": "stream",
     "text": [
      " 10%|████▌                                       | 3/29 [00:01<00:13,  2.00it/s]"
     ]
    },
    {
     "name": "stdout",
     "output_type": "stream",
     "text": [
      "{'Model': 'BaggingClassifier', 'Accuracy': 0.5007538229592936, 'Balanced Accuracy': 0.39432633552693724, 'ROC AUC': None, 'F1 Score': 0.4837663912161961, 'Time taken': 0.8707270622253418}\n",
      "{'Model': 'BernoulliNB', 'Accuracy': 0.4807236700409218, 'Balanced Accuracy': 0.3810632061945528, 'ROC AUC': None, 'F1 Score': 0.4636374561859983, 'Time taken': 0.16102004051208496}\n"
     ]
    },
    {
     "name": "stderr",
     "output_type": "stream",
     "text": [
      " 21%|█████████                                   | 6/29 [00:49<03:27,  9.03s/it]"
     ]
    },
    {
     "name": "stdout",
     "output_type": "stream",
     "text": [
      "{'Model': 'CalibratedClassifierCV', 'Accuracy': 0.5399526168425587, 'Balanced Accuracy': 0.4098305882468053, 'ROC AUC': None, 'F1 Score': 0.5119459699107666, 'Time taken': 47.664560079574585}\n",
      "{'Model': 'DecisionTreeClassifier', 'Accuracy': 0.4148180055998277, 'Balanced Accuracy': 0.34373435447711886, 'ROC AUC': None, 'F1 Score': 0.41339294356581546, 'Time taken': 0.13826203346252441}\n",
      "{'Model': 'DummyClassifier', 'Accuracy': 0.35580443678656043, 'Balanced Accuracy': 0.2, 'ROC AUC': None, 'F1 Score': 0.18674787277883967, 'Time taken': 0.022703886032104492}\n",
      "{'Model': 'ExtraTreeClassifier', 'Accuracy': 0.39134180486754255, 'Balanced Accuracy': 0.31593144641020865, 'ROC AUC': None, 'F1 Score': 0.3895558242683771, 'Time taken': 0.047496795654296875}\n"
     ]
    },
    {
     "name": "stderr",
     "output_type": "stream",
     "text": [
      "\r",
      " 31%|█████████████▋                              | 9/29 [00:51<01:31,  4.58s/it]"
     ]
    },
    {
     "name": "stdout",
     "output_type": "stream",
     "text": [
      "{'Model': 'ExtraTreesClassifier', 'Accuracy': 0.5257376696101659, 'Balanced Accuracy': 0.3949210586669437, 'ROC AUC': None, 'F1 Score': 0.500123661242493, 'Time taken': 1.9420506954193115}\n",
      "{'Model': 'GaussianNB', 'Accuracy': 0.42881757484385097, 'Balanced Accuracy': 0.3537650894411007, 'ROC AUC': None, 'F1 Score': 0.39953849122259755, 'Time taken': 0.04147696495056152}\n"
     ]
    },
    {
     "name": "stderr",
     "output_type": "stream",
     "text": [
      "\r",
      " 38%|████████████████▎                          | 11/29 [00:51<00:55,  3.09s/it]"
     ]
    },
    {
     "name": "stdout",
     "output_type": "stream",
     "text": [
      "{'Model': 'KNeighborsClassifier', 'Accuracy': 0.46866250269222487, 'Balanced Accuracy': 0.347053703306868, 'ROC AUC': None, 'F1 Score': 0.4440451113222254, 'Time taken': 0.21434807777404785}\n"
     ]
    },
    {
     "name": "stderr",
     "output_type": "stream",
     "text": [
      "\r",
      " 41%|█████████████████▊                         | 12/29 [00:56<00:58,  3.41s/it]"
     ]
    },
    {
     "name": "stdout",
     "output_type": "stream",
     "text": [
      "{'Model': 'LabelPropagation', 'Accuracy': 0.3713116519491708, 'Balanced Accuracy': 0.2910945790627758, 'ROC AUC': None, 'F1 Score': 0.3581685596225438, 'Time taken': 4.778311014175415}\n"
     ]
    },
    {
     "name": "stderr",
     "output_type": "stream",
     "text": [
      " 48%|████████████████████▊                      | 14/29 [01:05<00:52,  3.52s/it]"
     ]
    },
    {
     "name": "stdout",
     "output_type": "stream",
     "text": [
      "{'Model': 'LabelSpreading', 'Accuracy': 0.3708808959724316, 'Balanced Accuracy': 0.2912945383743951, 'ROC AUC': None, 'F1 Score': 0.35770200940354036, 'Time taken': 8.743829011917114}\n",
      "{'Model': 'LinearDiscriminantAnalysis', 'Accuracy': 0.5433986646564721, 'Balanced Accuracy': 0.4302822029280433, 'ROC AUC': None, 'F1 Score': 0.5244529368660686, 'Time taken': 0.14191484451293945}\n"
     ]
    },
    {
     "name": "stderr",
     "output_type": "stream",
     "text": [
      "\r",
      " 52%|██████████████████████▏                    | 15/29 [01:18<01:22,  5.90s/it]"
     ]
    },
    {
     "name": "stdout",
     "output_type": "stream",
     "text": [
      "{'Model': 'LinearSVC', 'Accuracy': 0.5388757269007107, 'Balanced Accuracy': 0.4015383041571988, 'ROC AUC': None, 'F1 Score': 0.5050356859297415, 'Time taken': 12.957021951675415}\n"
     ]
    },
    {
     "name": "stderr",
     "output_type": "stream",
     "text": [
      " 66%|████████████████████████████▏              | 19/29 [01:27<00:31,  3.18s/it]"
     ]
    },
    {
     "name": "stdout",
     "output_type": "stream",
     "text": [
      "{'Model': 'LogisticRegression', 'Accuracy': 0.5453370665517984, 'Balanced Accuracy': 0.4253631387706303, 'ROC AUC': None, 'F1 Score': 0.5229009376988415, 'Time taken': 8.9896399974823}\n",
      "{'Model': 'NearestCentroid', 'Accuracy': 0.4583243592504846, 'Balanced Accuracy': 0.41635222996729093, 'ROC AUC': None, 'F1 Score': 0.4565022448676374, 'Time taken': 0.026718854904174805}\n",
      "{'Model': 'PassiveAggressiveClassifier', 'Accuracy': 0.39694163256515186, 'Balanced Accuracy': 0.3233640611685892, 'ROC AUC': None, 'F1 Score': 0.4008305909043928, 'Time taken': 0.14945602416992188}\n",
      "{'Model': 'Perceptron', 'Accuracy': 0.4400172302390696, 'Balanced Accuracy': 0.32812688240686827, 'ROC AUC': None, 'F1 Score': 0.4197580260185718, 'Time taken': 0.07708501815795898}\n"
     ]
    },
    {
     "name": "stderr",
     "output_type": "stream",
     "text": [
      "\r",
      " 72%|███████████████████████████████▏           | 21/29 [01:27<00:17,  2.16s/it]"
     ]
    },
    {
     "name": "stdout",
     "output_type": "stream",
     "text": [
      "{'Model': 'QuadraticDiscriminantAnalysis', 'Accuracy': 0.4393710962739608, 'Balanced Accuracy': 0.36063667151623546, 'ROC AUC': None, 'F1 Score': 0.4125192569740758, 'Time taken': 0.22583603858947754}\n"
     ]
    },
    {
     "name": "stderr",
     "output_type": "stream",
     "text": [
      " 83%|███████████████████████████████████▌       | 24/29 [01:29<00:06,  1.35s/it]"
     ]
    },
    {
     "name": "stdout",
     "output_type": "stream",
     "text": [
      "{'Model': 'RandomForestClassifier', 'Accuracy': 0.5405987508076675, 'Balanced Accuracy': 0.41238707694804005, 'ROC AUC': None, 'F1 Score': 0.5150044763961054, 'Time taken': 1.5602293014526367}\n",
      "{'Model': 'RidgeClassifier', 'Accuracy': 0.5375834589704932, 'Balanced Accuracy': 0.3912989431295504, 'ROC AUC': None, 'F1 Score': 0.4994451648058605, 'Time taken': 0.03903508186340332}\n",
      "{'Model': 'RidgeClassifierCV', 'Accuracy': 0.5371527029937541, 'Balanced Accuracy': 0.39088070093403965, 'ROC AUC': None, 'F1 Score': 0.49899610411759665, 'Time taken': 0.13073992729187012}\n"
     ]
    },
    {
     "name": "stderr",
     "output_type": "stream",
     "text": [
      "\r",
      " 86%|█████████████████████████████████████      | 25/29 [01:30<00:04,  1.22s/it]"
     ]
    },
    {
     "name": "stdout",
     "output_type": "stream",
     "text": [
      "{'Model': 'SGDClassifier', 'Accuracy': 0.511522722377773, 'Balanced Accuracy': 0.39026085575457187, 'ROC AUC': None, 'F1 Score': 0.48504415822499364, 'Time taken': 0.6940751075744629}\n"
     ]
    },
    {
     "name": "stderr",
     "output_type": "stream",
     "text": [
      "\r",
      " 90%|██████████████████████████████████████▌    | 26/29 [01:52<00:18,  6.03s/it]"
     ]
    },
    {
     "name": "stdout",
     "output_type": "stream",
     "text": [
      "{'Model': 'SVC', 'Accuracy': 0.5496446263191902, 'Balanced Accuracy': 0.41374243394951665, 'ROC AUC': None, 'F1 Score': 0.5185906929385723, 'Time taken': 22.629711151123047}\n"
     ]
    },
    {
     "name": "stderr",
     "output_type": "stream",
     "text": [
      "\r",
      " 97%|█████████████████████████████████████████▌ | 28/29 [01:57<00:04,  4.53s/it]"
     ]
    },
    {
     "name": "stdout",
     "output_type": "stream",
     "text": [
      "{'Model': 'XGBClassifier', 'Accuracy': 0.5408141287960371, 'Balanced Accuracy': 0.432451931791039, 'ROC AUC': None, 'F1 Score': 0.5235374066251406, 'Time taken': 4.3743181228637695}\n"
     ]
    },
    {
     "name": "stderr",
     "output_type": "stream",
     "text": [
      "100%|███████████████████████████████████████████| 29/29 [01:59<00:00,  4.11s/it]"
     ]
    },
    {
     "name": "stdout",
     "output_type": "stream",
     "text": [
      "{'Model': 'LGBMClassifier', 'Accuracy': 0.5533060521214732, 'Balanced Accuracy': 0.4400740971560172, 'ROC AUC': None, 'F1 Score': 0.5332856098213521, 'Time taken': 1.804772138595581}\n"
     ]
    },
    {
     "name": "stderr",
     "output_type": "stream",
     "text": [
      "\n"
     ]
    }
   ],
   "source": [
    "models,predictions = clf.fit(X_train, X_test, y_train, y_test)"
   ]
  },
  {
   "cell_type": "code",
   "execution_count": 332,
   "id": "26ba9f7b",
   "metadata": {},
   "outputs": [
    {
     "data": {
      "text/html": [
       "<div>\n",
       "<style scoped>\n",
       "    .dataframe tbody tr th:only-of-type {\n",
       "        vertical-align: middle;\n",
       "    }\n",
       "\n",
       "    .dataframe tbody tr th {\n",
       "        vertical-align: top;\n",
       "    }\n",
       "\n",
       "    .dataframe thead th {\n",
       "        text-align: right;\n",
       "    }\n",
       "</style>\n",
       "<table border=\"1\" class=\"dataframe\">\n",
       "  <thead>\n",
       "    <tr style=\"text-align: right;\">\n",
       "      <th></th>\n",
       "      <th>Accuracy</th>\n",
       "      <th>Balanced Accuracy</th>\n",
       "      <th>ROC AUC</th>\n",
       "      <th>F1 Score</th>\n",
       "      <th>Time Taken</th>\n",
       "    </tr>\n",
       "    <tr>\n",
       "      <th>Model</th>\n",
       "      <th></th>\n",
       "      <th></th>\n",
       "      <th></th>\n",
       "      <th></th>\n",
       "      <th></th>\n",
       "    </tr>\n",
       "  </thead>\n",
       "  <tbody>\n",
       "    <tr>\n",
       "      <th>LGBMClassifier</th>\n",
       "      <td>0.55</td>\n",
       "      <td>0.44</td>\n",
       "      <td>None</td>\n",
       "      <td>0.53</td>\n",
       "      <td>1.80</td>\n",
       "    </tr>\n",
       "    <tr>\n",
       "      <th>XGBClassifier</th>\n",
       "      <td>0.54</td>\n",
       "      <td>0.43</td>\n",
       "      <td>None</td>\n",
       "      <td>0.52</td>\n",
       "      <td>4.37</td>\n",
       "    </tr>\n",
       "    <tr>\n",
       "      <th>LinearDiscriminantAnalysis</th>\n",
       "      <td>0.54</td>\n",
       "      <td>0.43</td>\n",
       "      <td>None</td>\n",
       "      <td>0.52</td>\n",
       "      <td>0.14</td>\n",
       "    </tr>\n",
       "    <tr>\n",
       "      <th>AdaBoostClassifier</th>\n",
       "      <td>0.54</td>\n",
       "      <td>0.43</td>\n",
       "      <td>None</td>\n",
       "      <td>0.52</td>\n",
       "      <td>0.66</td>\n",
       "    </tr>\n",
       "    <tr>\n",
       "      <th>LogisticRegression</th>\n",
       "      <td>0.55</td>\n",
       "      <td>0.43</td>\n",
       "      <td>None</td>\n",
       "      <td>0.52</td>\n",
       "      <td>8.99</td>\n",
       "    </tr>\n",
       "    <tr>\n",
       "      <th>NearestCentroid</th>\n",
       "      <td>0.46</td>\n",
       "      <td>0.42</td>\n",
       "      <td>None</td>\n",
       "      <td>0.46</td>\n",
       "      <td>0.03</td>\n",
       "    </tr>\n",
       "    <tr>\n",
       "      <th>SVC</th>\n",
       "      <td>0.55</td>\n",
       "      <td>0.41</td>\n",
       "      <td>None</td>\n",
       "      <td>0.52</td>\n",
       "      <td>22.63</td>\n",
       "    </tr>\n",
       "    <tr>\n",
       "      <th>RandomForestClassifier</th>\n",
       "      <td>0.54</td>\n",
       "      <td>0.41</td>\n",
       "      <td>None</td>\n",
       "      <td>0.52</td>\n",
       "      <td>1.56</td>\n",
       "    </tr>\n",
       "    <tr>\n",
       "      <th>CalibratedClassifierCV</th>\n",
       "      <td>0.54</td>\n",
       "      <td>0.41</td>\n",
       "      <td>None</td>\n",
       "      <td>0.51</td>\n",
       "      <td>47.66</td>\n",
       "    </tr>\n",
       "    <tr>\n",
       "      <th>LinearSVC</th>\n",
       "      <td>0.54</td>\n",
       "      <td>0.40</td>\n",
       "      <td>None</td>\n",
       "      <td>0.51</td>\n",
       "      <td>12.96</td>\n",
       "    </tr>\n",
       "    <tr>\n",
       "      <th>ExtraTreesClassifier</th>\n",
       "      <td>0.53</td>\n",
       "      <td>0.39</td>\n",
       "      <td>None</td>\n",
       "      <td>0.50</td>\n",
       "      <td>1.94</td>\n",
       "    </tr>\n",
       "    <tr>\n",
       "      <th>BaggingClassifier</th>\n",
       "      <td>0.50</td>\n",
       "      <td>0.39</td>\n",
       "      <td>None</td>\n",
       "      <td>0.48</td>\n",
       "      <td>0.87</td>\n",
       "    </tr>\n",
       "    <tr>\n",
       "      <th>RidgeClassifier</th>\n",
       "      <td>0.54</td>\n",
       "      <td>0.39</td>\n",
       "      <td>None</td>\n",
       "      <td>0.50</td>\n",
       "      <td>0.04</td>\n",
       "    </tr>\n",
       "    <tr>\n",
       "      <th>RidgeClassifierCV</th>\n",
       "      <td>0.54</td>\n",
       "      <td>0.39</td>\n",
       "      <td>None</td>\n",
       "      <td>0.50</td>\n",
       "      <td>0.13</td>\n",
       "    </tr>\n",
       "    <tr>\n",
       "      <th>SGDClassifier</th>\n",
       "      <td>0.51</td>\n",
       "      <td>0.39</td>\n",
       "      <td>None</td>\n",
       "      <td>0.49</td>\n",
       "      <td>0.69</td>\n",
       "    </tr>\n",
       "    <tr>\n",
       "      <th>BernoulliNB</th>\n",
       "      <td>0.48</td>\n",
       "      <td>0.38</td>\n",
       "      <td>None</td>\n",
       "      <td>0.46</td>\n",
       "      <td>0.16</td>\n",
       "    </tr>\n",
       "    <tr>\n",
       "      <th>QuadraticDiscriminantAnalysis</th>\n",
       "      <td>0.44</td>\n",
       "      <td>0.36</td>\n",
       "      <td>None</td>\n",
       "      <td>0.41</td>\n",
       "      <td>0.23</td>\n",
       "    </tr>\n",
       "    <tr>\n",
       "      <th>GaussianNB</th>\n",
       "      <td>0.43</td>\n",
       "      <td>0.35</td>\n",
       "      <td>None</td>\n",
       "      <td>0.40</td>\n",
       "      <td>0.04</td>\n",
       "    </tr>\n",
       "    <tr>\n",
       "      <th>KNeighborsClassifier</th>\n",
       "      <td>0.47</td>\n",
       "      <td>0.35</td>\n",
       "      <td>None</td>\n",
       "      <td>0.44</td>\n",
       "      <td>0.21</td>\n",
       "    </tr>\n",
       "    <tr>\n",
       "      <th>DecisionTreeClassifier</th>\n",
       "      <td>0.41</td>\n",
       "      <td>0.34</td>\n",
       "      <td>None</td>\n",
       "      <td>0.41</td>\n",
       "      <td>0.14</td>\n",
       "    </tr>\n",
       "    <tr>\n",
       "      <th>Perceptron</th>\n",
       "      <td>0.44</td>\n",
       "      <td>0.33</td>\n",
       "      <td>None</td>\n",
       "      <td>0.42</td>\n",
       "      <td>0.08</td>\n",
       "    </tr>\n",
       "    <tr>\n",
       "      <th>PassiveAggressiveClassifier</th>\n",
       "      <td>0.40</td>\n",
       "      <td>0.32</td>\n",
       "      <td>None</td>\n",
       "      <td>0.40</td>\n",
       "      <td>0.15</td>\n",
       "    </tr>\n",
       "    <tr>\n",
       "      <th>ExtraTreeClassifier</th>\n",
       "      <td>0.39</td>\n",
       "      <td>0.32</td>\n",
       "      <td>None</td>\n",
       "      <td>0.39</td>\n",
       "      <td>0.05</td>\n",
       "    </tr>\n",
       "    <tr>\n",
       "      <th>LabelSpreading</th>\n",
       "      <td>0.37</td>\n",
       "      <td>0.29</td>\n",
       "      <td>None</td>\n",
       "      <td>0.36</td>\n",
       "      <td>8.74</td>\n",
       "    </tr>\n",
       "    <tr>\n",
       "      <th>LabelPropagation</th>\n",
       "      <td>0.37</td>\n",
       "      <td>0.29</td>\n",
       "      <td>None</td>\n",
       "      <td>0.36</td>\n",
       "      <td>4.78</td>\n",
       "    </tr>\n",
       "    <tr>\n",
       "      <th>DummyClassifier</th>\n",
       "      <td>0.36</td>\n",
       "      <td>0.20</td>\n",
       "      <td>None</td>\n",
       "      <td>0.19</td>\n",
       "      <td>0.02</td>\n",
       "    </tr>\n",
       "  </tbody>\n",
       "</table>\n",
       "</div>"
      ],
      "text/plain": [
       "                               Accuracy  Balanced Accuracy ROC AUC  F1 Score  \\\n",
       "Model                                                                          \n",
       "LGBMClassifier                     0.55               0.44    None      0.53   \n",
       "XGBClassifier                      0.54               0.43    None      0.52   \n",
       "LinearDiscriminantAnalysis         0.54               0.43    None      0.52   \n",
       "AdaBoostClassifier                 0.54               0.43    None      0.52   \n",
       "LogisticRegression                 0.55               0.43    None      0.52   \n",
       "NearestCentroid                    0.46               0.42    None      0.46   \n",
       "SVC                                0.55               0.41    None      0.52   \n",
       "RandomForestClassifier             0.54               0.41    None      0.52   \n",
       "CalibratedClassifierCV             0.54               0.41    None      0.51   \n",
       "LinearSVC                          0.54               0.40    None      0.51   \n",
       "ExtraTreesClassifier               0.53               0.39    None      0.50   \n",
       "BaggingClassifier                  0.50               0.39    None      0.48   \n",
       "RidgeClassifier                    0.54               0.39    None      0.50   \n",
       "RidgeClassifierCV                  0.54               0.39    None      0.50   \n",
       "SGDClassifier                      0.51               0.39    None      0.49   \n",
       "BernoulliNB                        0.48               0.38    None      0.46   \n",
       "QuadraticDiscriminantAnalysis      0.44               0.36    None      0.41   \n",
       "GaussianNB                         0.43               0.35    None      0.40   \n",
       "KNeighborsClassifier               0.47               0.35    None      0.44   \n",
       "DecisionTreeClassifier             0.41               0.34    None      0.41   \n",
       "Perceptron                         0.44               0.33    None      0.42   \n",
       "PassiveAggressiveClassifier        0.40               0.32    None      0.40   \n",
       "ExtraTreeClassifier                0.39               0.32    None      0.39   \n",
       "LabelSpreading                     0.37               0.29    None      0.36   \n",
       "LabelPropagation                   0.37               0.29    None      0.36   \n",
       "DummyClassifier                    0.36               0.20    None      0.19   \n",
       "\n",
       "                               Time Taken  \n",
       "Model                                      \n",
       "LGBMClassifier                       1.80  \n",
       "XGBClassifier                        4.37  \n",
       "LinearDiscriminantAnalysis           0.14  \n",
       "AdaBoostClassifier                   0.66  \n",
       "LogisticRegression                   8.99  \n",
       "NearestCentroid                      0.03  \n",
       "SVC                                 22.63  \n",
       "RandomForestClassifier               1.56  \n",
       "CalibratedClassifierCV              47.66  \n",
       "LinearSVC                           12.96  \n",
       "ExtraTreesClassifier                 1.94  \n",
       "BaggingClassifier                    0.87  \n",
       "RidgeClassifier                      0.04  \n",
       "RidgeClassifierCV                    0.13  \n",
       "SGDClassifier                        0.69  \n",
       "BernoulliNB                          0.16  \n",
       "QuadraticDiscriminantAnalysis        0.23  \n",
       "GaussianNB                           0.04  \n",
       "KNeighborsClassifier                 0.21  \n",
       "DecisionTreeClassifier               0.14  \n",
       "Perceptron                           0.08  \n",
       "PassiveAggressiveClassifier          0.15  \n",
       "ExtraTreeClassifier                  0.05  \n",
       "LabelSpreading                       8.74  \n",
       "LabelPropagation                     4.78  \n",
       "DummyClassifier                      0.02  "
      ]
     },
     "execution_count": 332,
     "metadata": {},
     "output_type": "execute_result"
    }
   ],
   "source": [
    "predictions"
   ]
  },
  {
   "cell_type": "code",
   "execution_count": 333,
   "id": "6121fc9b",
   "metadata": {},
   "outputs": [],
   "source": [
    "from lightgbm import LGBMClassifier"
   ]
  },
  {
   "cell_type": "code",
   "execution_count": 337,
   "id": "e340da1a",
   "metadata": {},
   "outputs": [
    {
     "name": "stdout",
     "output_type": "stream",
     "text": [
      "Fitting 3 folds for each of 200 candidates, totalling 600 fits\n"
     ]
    }
   ],
   "source": [
    "lightgbm = LGBMClassifier(random_state=42)\n",
    "learning_rate = [0.001, 0.01, 0.1]\n",
    "n_estimators = [200, 400, 600, 800]\n",
    "max_depth = [int(x) for x in np.linspace(1, 6, num = 6)]\n",
    "subsample = [0.5, 0.75, 1.0]\n",
    "colsample_bytree = [0.5, 0.75, 1.0]\n",
    "grid = dict(learning_rate=learning_rate, n_estimators=n_estimators, max_depth=max_depth, subsample=subsample, colsample_bytree=colsample_bytree)\n",
    "clf = RandomizedSearchCV(estimator=lightgbm, param_distributions=grid, n_iter=200, scoring='accuracy', cv=3, n_jobs=1, verbose=True)\n",
    "best_model = clf.fit(X, y)"
   ]
  },
  {
   "cell_type": "code",
   "execution_count": 338,
   "id": "e6ca0667",
   "metadata": {},
   "outputs": [
    {
     "name": "stdout",
     "output_type": "stream",
     "text": [
      "Hello\n"
     ]
    }
   ],
   "source": [
    "print(\"Hello\")"
   ]
  },
  {
   "cell_type": "code",
   "execution_count": 339,
   "id": "624cad82",
   "metadata": {},
   "outputs": [
    {
     "data": {
      "text/plain": [
       "0.624596166271807"
      ]
     },
     "execution_count": 339,
     "metadata": {},
     "output_type": "execute_result"
    }
   ],
   "source": [
    "best_model.score(X_test, y_test)"
   ]
  },
  {
   "cell_type": "code",
   "execution_count": 355,
   "id": "3c1b56ca",
   "metadata": {},
   "outputs": [
    {
     "data": {
      "text/plain": [
       "{'subsample': 0.75,\n",
       " 'n_estimators': 800,\n",
       " 'max_depth': 6,\n",
       " 'learning_rate': 0.01,\n",
       " 'colsample_bytree': 0.5}"
      ]
     },
     "execution_count": 355,
     "metadata": {},
     "output_type": "execute_result"
    }
   ],
   "source": [
    "best_model.best_params_"
   ]
  },
  {
   "cell_type": "code",
   "execution_count": 362,
   "id": "8fafa1e1",
   "metadata": {},
   "outputs": [],
   "source": [
    "feat_imp = sorted(list(zip(X.columns, best_model.best_estimator_.feature_importances_)), key=lambda x:x[1], reverse=True)\n",
    "feat_name = list(map(lambda x:x[0], feat_imp))\n",
    "feat_imp_score = list(map(lambda x:x[1], feat_imp))"
   ]
  },
  {
   "cell_type": "code",
   "execution_count": 354,
   "id": "f9cbbdd1",
   "metadata": {},
   "outputs": [
    {
     "data": {
      "image/png": "[encoded data removed]",
      "text/plain": [
       "<Figure size 1200x600 with 1 Axes>"
      ]
     },
     "metadata": {},
     "output_type": "display_data"
    }
   ],
   "source": [
    "plt.figure(figsize=(12,6))\n",
    "plt.bar(feat_name[:30], feat_imp_score[:30])\n",
    "plt.xticks(rotation=90);\n"
   ]
  },
  {
   "cell_type": "code",
   "execution_count": 356,
   "id": "8000c6ae",
   "metadata": {},
   "outputs": [],
   "source": [
    "lightgbm1 = LGBMClassifier(**best_model.best_params_, random_state=42)"
   ]
  },
  {
   "cell_type": "code",
   "execution_count": 381,
   "id": "1e3cdb60",
   "metadata": {},
   "outputs": [],
   "source": [
    "X_train, X_test, y_train, y_test = train_test_split(X, y,test_size=.2,random_state=42)"
   ]
  },
  {
   "cell_type": "code",
   "execution_count": 369,
   "id": "f59fb158",
   "metadata": {
    "collapsed": true
   },
   "outputs": [
    {
     "data": {
      "image/png": "[encoded data removed]",
      "text/plain": [
       "<Figure size 1200x600 with 1 Axes>"
      ]
     },
     "metadata": {},
     "output_type": "display_data"
    }
   ],
   "source": [
    "fs = SelectKBest(score_func=chi2, k='all')\n",
    "fs.fit(X, y)\n",
    "# for i in range(len(fs.scores_)):\n",
    "# \tprint('Feature %s: %f' % (X_train.columns[i], fs.scores_[i]))\n",
    "\n",
    "feat_imp = sorted(list(zip(X_train.columns, fs.scores_)), key=lambda x:x[1], reverse=True)\n",
    "feat_name = list(map(lambda x:x[0], feat_imp))\n",
    "feat_imp_score = list(map(lambda x:x[1], feat_imp))\n",
    "\n",
    "plt.figure(figsize=(12,6))\n",
    "plt.bar(feat_name[:40], feat_imp_score[:40])\n",
    "plt.xticks(rotation=90);\n"
   ]
  },
  {
   "cell_type": "code",
   "execution_count": 382,
   "id": "334c1849",
   "metadata": {},
   "outputs": [
    {
     "data": {
      "image/png": "[encoded data removed]",
      "text/plain": [
       "<Figure size 1200x600 with 1 Axes>"
      ]
     },
     "metadata": {},
     "output_type": "display_data"
    }
   ],
   "source": [
    "fs = SelectKBest(score_func=mutual_info_classif, k=30)\n",
    "fs.fit(X, y)\n",
    "# for i in range(len(fs.scores_)):\n",
    "# \tprint('Feature %s: %f' % (X_train.columns[i], fs.scores_[i]))\n",
    "\n",
    "feat_imp = sorted(list(zip(X_train.columns, fs.scores_)), key=lambda x:x[1], reverse=True)\n",
    "feat_name = list(map(lambda x:x[0], feat_imp))\n",
    "feat_imp_score = list(map(lambda x:x[1], feat_imp))\n",
    "\n",
    "plt.figure(figsize=(12,6))\n",
    "plt.bar(feat_name[:40], feat_imp_score[:40])\n",
    "plt.xticks(rotation=90);\n"
   ]
  },
  {
   "cell_type": "code",
   "execution_count": 383,
   "id": "5ce8570d",
   "metadata": {},
   "outputs": [],
   "source": [
    "X_train = fs.transform(X_train)\n",
    "X_test = fs.transform(X_test)"
   ]
  },
  {
   "cell_type": "code",
   "execution_count": 384,
   "id": "5a0f920a",
   "metadata": {},
   "outputs": [
    {
     "data": {
      "text/html": [
       "<style>#sk-container-id-6 {color: black;background-color: white;}#sk-container-id-6 pre{padding: 0;}#sk-container-id-6 div.sk-toggleable {background-color: white;}#sk-container-id-6 label.sk-toggleable__label {cursor: pointer;display: block;width: 100%;margin-bottom: 0;padding: 0.3em;box-sizing: border-box;text-align: center;}#sk-container-id-6 label.sk-toggleable__label-arrow:before {content: \"▸\";float: left;margin-right: 0.25em;color: #696969;}#sk-container-id-6 label.sk-toggleable__label-arrow:hover:before {color: black;}#sk-container-id-6 div.sk-estimator:hover label.sk-toggleable__label-arrow:before {color: black;}#sk-container-id-6 div.sk-toggleable__content {max-height: 0;max-width: 0;overflow: hidden;text-align: left;background-color: #f0f8ff;}#sk-container-id-6 div.sk-toggleable__content pre {margin: 0.2em;color: black;border-radius: 0.25em;background-color: #f0f8ff;}#sk-container-id-6 input.sk-toggleable__control:checked~div.sk-toggleable__content {max-height: 200px;max-width: 100%;overflow: auto;}#sk-container-id-6 input.sk-toggleable__control:checked~label.sk-toggleable__label-arrow:before {content: \"▾\";}#sk-container-id-6 div.sk-estimator input.sk-toggleable__control:checked~label.sk-toggleable__label {background-color: #d4ebff;}#sk-container-id-6 div.sk-label input.sk-toggleable__control:checked~label.sk-toggleable__label {background-color: #d4ebff;}#sk-container-id-6 input.sk-hidden--visually {border: 0;clip: rect(1px 1px 1px 1px);clip: rect(1px, 1px, 1px, 1px);height: 1px;margin: -1px;overflow: hidden;padding: 0;position: absolute;width: 1px;}#sk-container-id-6 div.sk-estimator {font-family: monospace;background-color: #f0f8ff;border: 1px dotted black;border-radius: 0.25em;box-sizing: border-box;margin-bottom: 0.5em;}#sk-container-id-6 div.sk-estimator:hover {background-color: #d4ebff;}#sk-container-id-6 div.sk-parallel-item::after {content: \"\";width: 100%;border-bottom: 1px solid gray;flex-grow: 1;}#sk-container-id-6 div.sk-label:hover label.sk-toggleable__label {background-color: #d4ebff;}#sk-container-id-6 div.sk-serial::before {content: \"\";position: absolute;border-left: 1px solid gray;box-sizing: border-box;top: 0;bottom: 0;left: 50%;z-index: 0;}#sk-container-id-6 div.sk-serial {display: flex;flex-direction: column;align-items: center;background-color: white;padding-right: 0.2em;padding-left: 0.2em;position: relative;}#sk-container-id-6 div.sk-item {position: relative;z-index: 1;}#sk-container-id-6 div.sk-parallel {display: flex;align-items: stretch;justify-content: center;background-color: white;position: relative;}#sk-container-id-6 div.sk-item::before, #sk-container-id-6 div.sk-parallel-item::before {content: \"\";position: absolute;border-left: 1px solid gray;box-sizing: border-box;top: 0;bottom: 0;left: 50%;z-index: -1;}#sk-container-id-6 div.sk-parallel-item {display: flex;flex-direction: column;z-index: 1;position: relative;background-color: white;}#sk-container-id-6 div.sk-parallel-item:first-child::after {align-self: flex-end;width: 50%;}#sk-container-id-6 div.sk-parallel-item:last-child::after {align-self: flex-start;width: 50%;}#sk-container-id-6 div.sk-parallel-item:only-child::after {width: 0;}#sk-container-id-6 div.sk-dashed-wrapped {border: 1px dashed gray;margin: 0 0.4em 0.5em 0.4em;box-sizing: border-box;padding-bottom: 0.4em;background-color: white;}#sk-container-id-6 div.sk-label label {font-family: monospace;font-weight: bold;display: inline-block;line-height: 1.2em;}#sk-container-id-6 div.sk-label-container {text-align: center;}#sk-container-id-6 div.sk-container {/* jupyter's `normalize.less` sets `[hidden] { display: none; }` but bootstrap.min.css set `[hidden] { display: none !important; }` so we also need the `!important` here to be able to override the default hidden behavior on the sphinx rendered scikit-learn.org. See: https://github.com/scikit-learn/scikit-learn/issues/21755 */display: inline-block !important;position: relative;}#sk-container-id-6 div.sk-text-repr-fallback {display: none;}</style><div id=\"sk-container-id-6\" class=\"sk-top-container\"><div class=\"sk-text-repr-fallback\"><pre>LGBMClassifier(colsample_bytree=0.5, learning_rate=0.01, max_depth=6,\n",
       "               n_estimators=800, random_state=42, subsample=0.75)</pre><b>In a Jupyter environment, please rerun this cell to show the HTML representation or trust the notebook. <br />On GitHub, the HTML representation is unable to render, please try loading this page with nbviewer.org.</b></div><div class=\"sk-container\" hidden><div class=\"sk-item\"><div class=\"sk-estimator sk-toggleable\"><input class=\"sk-toggleable__control sk-hidden--visually\" id=\"sk-estimator-id-6\" type=\"checkbox\" checked><label for=\"sk-estimator-id-6\" class=\"sk-toggleable__label sk-toggleable__label-arrow\">LGBMClassifier</label><div class=\"sk-toggleable__content\"><pre>LGBMClassifier(colsample_bytree=0.5, learning_rate=0.01, max_depth=6,\n",
       "               n_estimators=800, random_state=42, subsample=0.75)</pre></div></div></div></div></div>"
      ],
      "text/plain": [
       "LGBMClassifier(colsample_bytree=0.5, learning_rate=0.01, max_depth=6,\n",
       "               n_estimators=800, random_state=42, subsample=0.75)"
      ]
     },
     "execution_count": 384,
     "metadata": {},
     "output_type": "execute_result"
    }
   ],
   "source": [
    "lightgbm1 = LGBMClassifier(**best_model.best_params_, random_state=42)\n",
    "lightgbm1.fit(X_train, y_train)"
   ]
  },
  {
   "cell_type": "code",
   "execution_count": 386,
   "id": "fb8aad6c",
   "metadata": {},
   "outputs": [
    {
     "data": {
      "text/plain": [
       "0.6061275037691148"
      ]
     },
     "execution_count": 386,
     "metadata": {},
     "output_type": "execute_result"
    }
   ],
   "source": [
    "lightgbm1.score(X_train, y_train)"
   ]
  },
  {
   "cell_type": "code",
   "execution_count": 389,
   "id": "3dcac978",
   "metadata": {},
   "outputs": [
    {
     "name": "stdout",
     "output_type": "stream",
     "text": [
      "              precision    recall  f1-score   support\n",
      "\n",
      "           0       0.57      0.72      0.63      1393\n",
      "           1       0.39      0.06      0.10       275\n",
      "           2       0.54      0.62      0.58      1652\n",
      "           3       0.44      0.24      0.31       650\n",
      "           4       0.60      0.54      0.57       673\n",
      "\n",
      "    accuracy                           0.55      4643\n",
      "   macro avg       0.51      0.44      0.44      4643\n",
      "weighted avg       0.54      0.55      0.53      4643\n",
      "\n"
     ]
    }
   ],
   "source": [
    "print(classification_report(y_test, lightgbm1.predict(X_test)))"
   ]
  },
  {
   "cell_type": "code",
   "execution_count": 390,
   "id": "fc2531b6",
   "metadata": {},
   "outputs": [
    {
     "data": {
      "text/plain": [
       "array(['Data Analyst', 'Data Engineer', 'Data Scientist',\n",
       "       'Machine Learning Engineer', 'Research Scientist'], dtype=object)"
      ]
     },
     "execution_count": 390,
     "metadata": {},
     "output_type": "execute_result"
    }
   ],
   "source": [
    "le.inverse_transform([0,1,2,3,4])"
   ]
  },
  {
   "cell_type": "code",
   "execution_count": 406,
   "id": "4e85a19f",
   "metadata": {},
   "outputs": [
    {
     "data": {
      "text/html": [
       "<div>\n",
       "<style scoped>\n",
       "    .dataframe tbody tr th:only-of-type {\n",
       "        vertical-align: middle;\n",
       "    }\n",
       "\n",
       "    .dataframe tbody tr th {\n",
       "        vertical-align: top;\n",
       "    }\n",
       "\n",
       "    .dataframe thead th {\n",
       "        text-align: right;\n",
       "    }\n",
       "</style>\n",
       "<table border=\"1\" class=\"dataframe\">\n",
       "  <thead>\n",
       "    <tr style=\"text-align: right;\">\n",
       "      <th></th>\n",
       "      <th>c</th>\n",
       "    </tr>\n",
       "    <tr>\n",
       "      <th>CurrentTitle</th>\n",
       "      <th></th>\n",
       "    </tr>\n",
       "  </thead>\n",
       "  <tbody>\n",
       "    <tr>\n",
       "      <th>Data Analyst</th>\n",
       "      <td>7080</td>\n",
       "    </tr>\n",
       "    <tr>\n",
       "      <th>Data Engineer</th>\n",
       "      <td>1457</td>\n",
       "    </tr>\n",
       "    <tr>\n",
       "      <th>Data Scientist</th>\n",
       "      <td>8221</td>\n",
       "    </tr>\n",
       "    <tr>\n",
       "      <th>Machine Learning Engineer</th>\n",
       "      <td>3152</td>\n",
       "    </tr>\n",
       "    <tr>\n",
       "      <th>Research Scientist</th>\n",
       "      <td>3305</td>\n",
       "    </tr>\n",
       "  </tbody>\n",
       "</table>\n",
       "</div>"
      ],
      "text/plain": [
       "                              c\n",
       "CurrentTitle                   \n",
       "Data Analyst               7080\n",
       "Data Engineer              1457\n",
       "Data Scientist             8221\n",
       "Machine Learning Engineer  3152\n",
       "Research Scientist         3305"
      ]
     },
     "execution_count": 406,
     "metadata": {},
     "output_type": "execute_result"
    }
   ],
   "source": [
    "class_df.groupby(TITLE).agg(c=(TITLE, \"count\"))"
   ]
  },
  {
   "cell_type": "code",
   "execution_count": 404,
   "id": "7c2d7dde",
   "metadata": {},
   "outputs": [
    {
     "data": {
      "text/plain": [
       "0.7932371311651949"
      ]
     },
     "execution_count": 404,
     "metadata": {},
     "output_type": "execute_result"
    }
   ],
   "source": [
    "n=2\n",
    "y_pred = lightgbm1.predict(X_test)\n",
    "y_pred_proba = lightgbm1.predict_proba(X_test)\n",
    "topn = np.argsort(y_pred_proba, axis = 1)[:,-n:]\n",
    "np.mean(np.array([1 if y_test[k] in topn[k] else 0 for k in range(len(topn))]))"
   ]
  },
  {
   "cell_type": "code",
   "execution_count": 401,
   "id": "19c2253e",
   "metadata": {},
   "outputs": [
    {
     "data": {
      "text/plain": [
       "array([[0.04723798, 0.03512166, 0.11996674, 0.65200913, 0.14566449],\n",
       "       [0.01807343, 0.00745303, 0.14440442, 0.10775271, 0.7223164 ],\n",
       "       [0.53535767, 0.12195788, 0.26746301, 0.0421472 , 0.03307424],\n",
       "       ...,\n",
       "       [0.35223381, 0.04118676, 0.33190536, 0.22730547, 0.04736861],\n",
       "       [0.66087302, 0.08067026, 0.22251797, 0.01137913, 0.02455962],\n",
       "       [0.49996679, 0.11443199, 0.35208673, 0.02773789, 0.0057766 ]])"
      ]
     },
     "execution_count": 401,
     "metadata": {},
     "output_type": "execute_result"
    }
   ],
   "source": [
    "y_pred_proba"
   ]
  },
  {
   "cell_type": "code",
   "execution_count": null,
   "id": "b640cc7b",
   "metadata": {},
   "outputs": [],
   "source": []
  }
 ],
 "metadata": {
  "kernelspec": {
   "display_name": "Python 3 (ipykernel)",
   "language": "python",
   "name": "python3"
  },
  "language_info": {
   "codemirror_mode": {
    "name": "ipython",
    "version": 3
   },
   "file_extension": ".py",
   "mimetype": "text/x-python",
   "name": "python",
   "nbconvert_exporter": "python",
   "pygments_lexer": "ipython3",
   "version": "3.10.8"
  }
 },
 "nbformat": 4,
 "nbformat_minor": 5
}
