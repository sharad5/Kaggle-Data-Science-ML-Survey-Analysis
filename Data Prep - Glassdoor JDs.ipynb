{
 "cells": [
  {
   "cell_type": "markdown",
   "id": "34d72cfd",
   "metadata": {},
   "source": [
    "## Imports"
   ]
  },
  {
   "cell_type": "code",
   "execution_count": 185,
   "id": "097d083e",
   "metadata": {},
   "outputs": [],
   "source": [
    "import os\n",
    "import glob\n",
    "import warnings\n",
    "import numpy as np\n",
    "import pandas as pd\n",
    "import matplotlib.pyplot as plt\n",
    "from matplotlib.gridspec import GridSpec\n",
    "import seaborn as sns\n",
    "warnings.filterwarnings('ignore')\n",
    "sns.set_style('whitegrid')\n",
    "%matplotlib inline"
   ]
  },
  {
   "cell_type": "markdown",
   "id": "1f0c7ab4",
   "metadata": {},
   "source": [
    "## Read & Combine Data"
   ]
  },
  {
   "cell_type": "code",
   "execution_count": 64,
   "id": "6263f082",
   "metadata": {},
   "outputs": [
    {
     "data": {
      "text/plain": [
       "['./Kaggle-Data-Science-ML-Survey-Analysis/data/job_listings/DataScientist.csv',\n",
       " './Kaggle-Data-Science-ML-Survey-Analysis/data/job_listings/DataAnalyst.csv',\n",
       " './Kaggle-Data-Science-ML-Survey-Analysis/data/job_listings/DataEngineer.csv',\n",
       " './Kaggle-Data-Science-ML-Survey-Analysis/data/job_listings/BusinessAnalyst.csv']"
      ]
     },
     "execution_count": 64,
     "metadata": {},
     "output_type": "execute_result"
    }
   ],
   "source": [
    "path_folder = \"./Kaggle-Data-Science-ML-Survey-Analysis/data/job_listings\"\n",
    "paths_csv = glob.glob(os.path.join(folder_listings, \"*.csv\"))\n",
    "paths_csv"
   ]
  },
  {
   "cell_type": "code",
   "execution_count": 65,
   "id": "f25a3e29",
   "metadata": {},
   "outputs": [],
   "source": [
    "cols = ['Job Title',\n",
    "         'Salary Estimate',\n",
    "         'Job Description',\n",
    "         'Rating',\n",
    "         'Company Name',\n",
    "         'Location',\n",
    "         'Headquarters',\n",
    "         'Size',\n",
    "         'Founded',\n",
    "         'Type of ownership',\n",
    "         'Industry',\n",
    "         'Sector',\n",
    "         'Revenue',\n",
    "         'Competitors',\n",
    "         'Easy Apply']"
   ]
  },
  {
   "cell_type": "code",
   "execution_count": 66,
   "id": "ddbb1e40",
   "metadata": {},
   "outputs": [
    {
     "name": "stdout",
     "output_type": "stream",
     "text": [
      "DataScientist\n",
      "DataAnalyst\n",
      "DataEngineer\n",
      "BusinessAnalyst\n"
     ]
    },
    {
     "data": {
      "text/html": [
       "<div>\n",
       "<style scoped>\n",
       "    .dataframe tbody tr th:only-of-type {\n",
       "        vertical-align: middle;\n",
       "    }\n",
       "\n",
       "    .dataframe tbody tr th {\n",
       "        vertical-align: top;\n",
       "    }\n",
       "\n",
       "    .dataframe thead th {\n",
       "        text-align: right;\n",
       "    }\n",
       "</style>\n",
       "<table border=\"1\" class=\"dataframe\">\n",
       "  <thead>\n",
       "    <tr style=\"text-align: right;\">\n",
       "      <th></th>\n",
       "      <th>Job Title</th>\n",
       "      <th>Salary Estimate</th>\n",
       "      <th>Job Description</th>\n",
       "      <th>Rating</th>\n",
       "      <th>Company Name</th>\n",
       "      <th>Location</th>\n",
       "      <th>Headquarters</th>\n",
       "      <th>Size</th>\n",
       "      <th>Founded</th>\n",
       "      <th>Type of ownership</th>\n",
       "      <th>Industry</th>\n",
       "      <th>Sector</th>\n",
       "      <th>Revenue</th>\n",
       "      <th>Competitors</th>\n",
       "      <th>Easy Apply</th>\n",
       "      <th>Job Family</th>\n",
       "    </tr>\n",
       "  </thead>\n",
       "  <tbody>\n",
       "    <tr>\n",
       "      <th>0</th>\n",
       "      <td>Senior Data Scientist</td>\n",
       "      <td>$111K-$181K (Glassdoor est.)</td>\n",
       "      <td>ABOUT HOPPER\\n\\nAt Hopper, we’re on a mission ...</td>\n",
       "      <td>3.5</td>\n",
       "      <td>Hopper\\n3.5</td>\n",
       "      <td>New York, NY</td>\n",
       "      <td>Montreal, Canada</td>\n",
       "      <td>501 to 1000 employees</td>\n",
       "      <td>2007</td>\n",
       "      <td>Company - Private</td>\n",
       "      <td>Travel Agencies</td>\n",
       "      <td>Travel &amp; Tourism</td>\n",
       "      <td>Unknown / Non-Applicable</td>\n",
       "      <td>-1</td>\n",
       "      <td>-1</td>\n",
       "      <td>DataScientist</td>\n",
       "    </tr>\n",
       "    <tr>\n",
       "      <th>1</th>\n",
       "      <td>Data Scientist, Product Analytics</td>\n",
       "      <td>$111K-$181K (Glassdoor est.)</td>\n",
       "      <td>At Noom, we use scientifically proven methods ...</td>\n",
       "      <td>4.5</td>\n",
       "      <td>Noom US\\n4.5</td>\n",
       "      <td>New York, NY</td>\n",
       "      <td>New York, NY</td>\n",
       "      <td>1001 to 5000 employees</td>\n",
       "      <td>2008</td>\n",
       "      <td>Company - Private</td>\n",
       "      <td>Health, Beauty, &amp; Fitness</td>\n",
       "      <td>Consumer Services</td>\n",
       "      <td>Unknown / Non-Applicable</td>\n",
       "      <td>-1</td>\n",
       "      <td>-1</td>\n",
       "      <td>DataScientist</td>\n",
       "    </tr>\n",
       "    <tr>\n",
       "      <th>2</th>\n",
       "      <td>Data Science Manager</td>\n",
       "      <td>$111K-$181K (Glassdoor est.)</td>\n",
       "      <td>Decode_M\\n\\nhttps://www.decode-m.com/\\n\\nData ...</td>\n",
       "      <td>-1.0</td>\n",
       "      <td>Decode_M</td>\n",
       "      <td>New York, NY</td>\n",
       "      <td>New York, NY</td>\n",
       "      <td>1 to 50 employees</td>\n",
       "      <td>-1</td>\n",
       "      <td>Unknown</td>\n",
       "      <td>-1</td>\n",
       "      <td>-1</td>\n",
       "      <td>Unknown / Non-Applicable</td>\n",
       "      <td>-1</td>\n",
       "      <td>True</td>\n",
       "      <td>DataScientist</td>\n",
       "    </tr>\n",
       "  </tbody>\n",
       "</table>\n",
       "</div>"
      ],
      "text/plain": [
       "                           Job Title               Salary Estimate  \\\n",
       "0              Senior Data Scientist  $111K-$181K (Glassdoor est.)   \n",
       "1  Data Scientist, Product Analytics  $111K-$181K (Glassdoor est.)   \n",
       "2               Data Science Manager  $111K-$181K (Glassdoor est.)   \n",
       "\n",
       "                                     Job Description  Rating  Company Name  \\\n",
       "0  ABOUT HOPPER\\n\\nAt Hopper, we’re on a mission ...     3.5   Hopper\\n3.5   \n",
       "1  At Noom, we use scientifically proven methods ...     4.5  Noom US\\n4.5   \n",
       "2  Decode_M\\n\\nhttps://www.decode-m.com/\\n\\nData ...    -1.0      Decode_M   \n",
       "\n",
       "       Location      Headquarters                    Size  Founded  \\\n",
       "0  New York, NY  Montreal, Canada   501 to 1000 employees     2007   \n",
       "1  New York, NY      New York, NY  1001 to 5000 employees     2008   \n",
       "2  New York, NY      New York, NY       1 to 50 employees       -1   \n",
       "\n",
       "   Type of ownership                   Industry             Sector  \\\n",
       "0  Company - Private            Travel Agencies   Travel & Tourism   \n",
       "1  Company - Private  Health, Beauty, & Fitness  Consumer Services   \n",
       "2            Unknown                         -1                 -1   \n",
       "\n",
       "                    Revenue Competitors Easy Apply     Job Family  \n",
       "0  Unknown / Non-Applicable          -1         -1  DataScientist  \n",
       "1  Unknown / Non-Applicable          -1         -1  DataScientist  \n",
       "2  Unknown / Non-Applicable          -1       True  DataScientist  "
      ]
     },
     "execution_count": 66,
     "metadata": {},
     "output_type": "execute_result"
    }
   ],
   "source": [
    "listings = pd.DataFrame()\n",
    "\n",
    "for file in paths_csv:\n",
    "    jobfamily = file.split(\"/\")[-1].split(\".csv\")[0] # Extract job family from file path\n",
    "    print(jobfamily)\n",
    "    \n",
    "    df = pd.read_csv(file)\n",
    "    df = df[cols] # Reorder & subset cols for data integrity\n",
    "    df['Job Family']= jobfamily\n",
    "    listings = pd.concat([listings, df], axis=0, ignore_index=True)\n",
    "\n",
    "del df\n",
    "listings.head(3)"
   ]
  },
  {
   "cell_type": "code",
   "execution_count": 70,
   "id": "fec615ed",
   "metadata": {},
   "outputs": [
    {
     "data": {
      "text/plain": [
       "(15760, 16)"
      ]
     },
     "execution_count": 70,
     "metadata": {},
     "output_type": "execute_result"
    }
   ],
   "source": [
    "listings.shape"
   ]
  },
  {
   "cell_type": "markdown",
   "id": "ba7e6ff6",
   "metadata": {},
   "source": [
    "## Data Cleaning"
   ]
  },
  {
   "cell_type": "markdown",
   "id": "22e24b6a",
   "metadata": {},
   "source": [
    "### Salaries"
   ]
  },
  {
   "cell_type": "code",
   "execution_count": null,
   "id": "1d09ccbd",
   "metadata": {},
   "outputs": [],
   "source": []
  },
  {
   "cell_type": "markdown",
   "id": "33b5ae1a",
   "metadata": {},
   "source": [
    "### Companies"
   ]
  },
  {
   "cell_type": "code",
   "execution_count": 78,
   "id": "c082e018",
   "metadata": {},
   "outputs": [],
   "source": [
    "listings['Company Name'] = listings['Company Name'].apply(lambda x: str(x).split(\"\\n\")[0])"
   ]
  },
  {
   "cell_type": "markdown",
   "id": "3c6e59f8",
   "metadata": {},
   "source": [
    "## EDA"
   ]
  },
  {
   "cell_type": "markdown",
   "id": "68858e06",
   "metadata": {},
   "source": [
    "### Companies in our Dataset"
   ]
  },
  {
   "cell_type": "code",
   "execution_count": 225,
   "id": "865db554",
   "metadata": {},
   "outputs": [
    {
     "data": {
      "image/png": "[encoded data removed]",
      "text/plain": [
       "<Figure size 864x576 with 3 Axes>"
      ]
     },
     "metadata": {
      "needs_background": "light"
     },
     "output_type": "display_data"
    }
   ],
   "source": [
    "fig = plt.figure(figsize=(12,8))\n",
    "\n",
    "gs = GridSpec(2, 2, figure=fig, wspace=0.75, hspace=0.4, width_ratios=[1,1])\n",
    "\n",
    "ax1 = fig.add_subplot(gs[:, 1])\n",
    "ax2 = fig.add_subplot(gs[0, 0])\n",
    "ax3 = fig.add_subplot(gs[1, 0])\n",
    "\n",
    "companies = listings['Company Name'].value_counts()[:20] # Top 20 companies\n",
    "sns.barplot(companies.values, companies.index, palette='mako', ax=ax1)\n",
    "ax1.set_title('Top 20 Companies by Job postings', size=16, pad=7)\n",
    "ax1.set_xlabel('No. of Job postings', fontsize=12, labelpad=7)\n",
    "\n",
    "industries = listings['Industry'].value_counts()[:10] # Top 10 Industries\n",
    "industries = industries[industries.index!=\"-1\"]\n",
    "sns.barplot(industries.values, industries.index, palette='mako', ax=ax2)\n",
    "ax2.set_title('Top 10 Industries by Job postings', size=16, pad=10)\n",
    "ax2.set_xlabel('No. of Job postings', fontsize=12, labelpad=7)\n",
    "\n",
    "locations = listings['Location'].value_counts()[:10] # Top 10 Industries\n",
    "sns.barplot(locations.values, locations.index, palette='mako', ax=ax3)\n",
    "ax3.set_title('Top 10 Locations by Job postings', size=16, pad=7)\n",
    "ax3.set_xlabel('No. of Job postings', fontsize=12, labelpad=7)\n",
    "\n",
    "plt.show()"
   ]
  },
  {
   "cell_type": "markdown",
   "id": "2a3af31e",
   "metadata": {},
   "source": [
    "## Feature Extraction from JDs"
   ]
  },
  {
   "cell_type": "markdown",
   "id": "0a422614",
   "metadata": {},
   "source": [
    "### Entities of interest: \n",
    "\n",
    "#### Skills\n",
    "1. Programming Languages (exp- Python, SQL, R)\n",
    "2. ML Frameworks (exp- Sklearn, Tensorflow, Pytorch)\n",
    "3. ML Algorithms (exp- Regression, DTs, GBMs, GNNs)\n",
    "4. Visualization Libraries (exp- Matplotlib, Seaborn)\n",
    "5. Cloud Platforms (exp- AWS, Azure, GCP)\n",
    "6. Databases (exp- MySQL, MongoDB)\n",
    "7. BI Tools (exp- Tableau, PowerBI)\n",
    "\n",
    "#### Job Requirements\n",
    "1. Years of experience\n",
    "2. Degree (Bachelor's, Master's, PhD)"
   ]
  },
  {
   "cell_type": "code",
   "execution_count": null,
   "id": "c9420469",
   "metadata": {},
   "outputs": [],
   "source": []
  },
  {
   "cell_type": "markdown",
   "id": "f9f297f7",
   "metadata": {},
   "source": [
    "#### To Do: NER model for skills extraction (so that we are not limited by our list of skills)\n",
    "https://arxiv.org/pdf/2101.11431.pdf"
   ]
  },
  {
   "cell_type": "code",
   "execution_count": null,
   "id": "2b848e7b",
   "metadata": {},
   "outputs": [],
   "source": []
  },
  {
   "cell_type": "code",
   "execution_count": null,
   "id": "d7a1704c",
   "metadata": {},
   "outputs": [],
   "source": []
  }
 ],
 "metadata": {
  "kernelspec": {
   "display_name": "Python 3 (ipykernel)",
   "language": "python",
   "name": "python3"
  },
  "language_info": {
   "codemirror_mode": {
    "name": "ipython",
    "version": 3
   },
   "file_extension": ".py",
   "mimetype": "text/x-python",
   "name": "python",
   "nbconvert_exporter": "python",
   "pygments_lexer": "ipython3",
   "version": "3.9.7"
  }
 },
 "nbformat": 4,
 "nbformat_minor": 5
}
