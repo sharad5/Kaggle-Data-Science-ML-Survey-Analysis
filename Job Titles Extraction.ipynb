{
 "cells": [
  {
   "cell_type": "code",
   "execution_count": 1,
   "id": "a6f9a636",
   "metadata": {},
   "outputs": [],
   "source": [
    "import os\n",
    "import re\n",
    "import json\n",
    "import glob\n",
    "import string\n",
    "import numpy as np\n",
    "import pandas as pd\n",
    "\n",
    "import warnings\n",
    "warnings.filterwarnings('ignore')"
   ]
  },
  {
   "cell_type": "markdown",
   "id": "43a375bf",
   "metadata": {},
   "source": [
    "## Read & Merge Datasets"
   ]
  },
  {
   "cell_type": "markdown",
   "id": "7971768c",
   "metadata": {},
   "source": [
    "### LinkedIn Job Postings"
   ]
  },
  {
   "cell_type": "code",
   "execution_count": 2,
   "id": "3c6c4d25",
   "metadata": {},
   "outputs": [
    {
     "data": {
      "text/html": [
       "<div>\n",
       "<style scoped>\n",
       "    .dataframe tbody tr th:only-of-type {\n",
       "        vertical-align: middle;\n",
       "    }\n",
       "\n",
       "    .dataframe tbody tr th {\n",
       "        vertical-align: top;\n",
       "    }\n",
       "\n",
       "    .dataframe thead th {\n",
       "        text-align: right;\n",
       "    }\n",
       "</style>\n",
       "<table border=\"1\" class=\"dataframe\">\n",
       "  <thead>\n",
       "    <tr style=\"text-align: right;\">\n",
       "      <th></th>\n",
       "      <th>Unnamed: 0</th>\n",
       "      <th>Job Title</th>\n",
       "      <th>Company Name</th>\n",
       "      <th>Location</th>\n",
       "      <th>Work Mode</th>\n",
       "      <th>Employment Type</th>\n",
       "      <th>Company Headcount</th>\n",
       "      <th>Industry</th>\n",
       "      <th>JD</th>\n",
       "      <th>JobID</th>\n",
       "    </tr>\n",
       "  </thead>\n",
       "  <tbody>\n",
       "    <tr>\n",
       "      <th>0</th>\n",
       "      <td>0</td>\n",
       "      <td>SENIOR COMPUTER VISION DATA SCIENTIST</td>\n",
       "      <td>80 Acres Farms</td>\n",
       "      <td>Hamilton, OH</td>\n",
       "      <td>On-site</td>\n",
       "      <td>Full-time · Mid-Senior level</td>\n",
       "      <td>201-500 employees</td>\n",
       "      <td>Farming</td>\n",
       "      <td>About The Company\\r\\n\\r\\nThe Future of Fresh i...</td>\n",
       "      <td>3331975665</td>\n",
       "    </tr>\n",
       "    <tr>\n",
       "      <th>1</th>\n",
       "      <td>1</td>\n",
       "      <td>Senior Software Engineer</td>\n",
       "      <td>Terran Robotics</td>\n",
       "      <td>Bloomington, IN</td>\n",
       "      <td>Hybrid</td>\n",
       "      <td>Full-time</td>\n",
       "      <td>1-10 employees</td>\n",
       "      <td>None</td>\n",
       "      <td>Terran Robotics is building construction robot...</td>\n",
       "      <td>2841811846</td>\n",
       "    </tr>\n",
       "    <tr>\n",
       "      <th>2</th>\n",
       "      <td>2</td>\n",
       "      <td>Systems Engineer</td>\n",
       "      <td>ZF Group</td>\n",
       "      <td>Greater Lansing</td>\n",
       "      <td>Hybrid</td>\n",
       "      <td>Full-time · Mid-Senior level</td>\n",
       "      <td>10,001+ employees</td>\n",
       "      <td>Motor Vehicle Manufacturing</td>\n",
       "      <td>Job description:\\r\\n\\r\\nJob Description:\\r\\n\\r...</td>\n",
       "      <td>3369017400</td>\n",
       "    </tr>\n",
       "  </tbody>\n",
       "</table>\n",
       "</div>"
      ],
      "text/plain": [
       "   Unnamed: 0                              Job Title     Company Name  \\\n",
       "0           0  SENIOR COMPUTER VISION DATA SCIENTIST   80 Acres Farms   \n",
       "1           1               Senior Software Engineer  Terran Robotics   \n",
       "2           2                       Systems Engineer         ZF Group   \n",
       "\n",
       "          Location Work Mode               Employment Type  Company Headcount  \\\n",
       "0     Hamilton, OH   On-site  Full-time · Mid-Senior level  201-500 employees   \n",
       "1  Bloomington, IN    Hybrid                     Full-time     1-10 employees   \n",
       "2  Greater Lansing    Hybrid  Full-time · Mid-Senior level  10,001+ employees   \n",
       "\n",
       "                      Industry  \\\n",
       "0                      Farming   \n",
       "1                         None   \n",
       "2  Motor Vehicle Manufacturing   \n",
       "\n",
       "                                                  JD       JobID  \n",
       "0  About The Company\\r\\n\\r\\nThe Future of Fresh i...  3331975665  \n",
       "1  Terran Robotics is building construction robot...  2841811846  \n",
       "2  Job description:\\r\\n\\r\\nJob Description:\\r\\n\\r...  3369017400  "
      ]
     },
     "execution_count": 2,
     "metadata": {},
     "output_type": "execute_result"
    }
   ],
   "source": [
    "df_li = pd.read_csv(\"./Kaggle-Data-Science-ML-Survey-Analysis/data/raw/job_listings/MLE Jobs LinkedIn.csv\")\n",
    "df_li.head(3)"
   ]
  },
  {
   "cell_type": "markdown",
   "id": "8d0d771b",
   "metadata": {},
   "source": [
    "### Glassdoor Job Postings"
   ]
  },
  {
   "cell_type": "code",
   "execution_count": 3,
   "id": "706ae071",
   "metadata": {},
   "outputs": [
    {
     "data": {
      "text/html": [
       "<div>\n",
       "<style scoped>\n",
       "    .dataframe tbody tr th:only-of-type {\n",
       "        vertical-align: middle;\n",
       "    }\n",
       "\n",
       "    .dataframe tbody tr th {\n",
       "        vertical-align: top;\n",
       "    }\n",
       "\n",
       "    .dataframe thead th {\n",
       "        text-align: right;\n",
       "    }\n",
       "</style>\n",
       "<table border=\"1\" class=\"dataframe\">\n",
       "  <thead>\n",
       "    <tr style=\"text-align: right;\">\n",
       "      <th></th>\n",
       "      <th>Job Title</th>\n",
       "      <th>Salary Estimate</th>\n",
       "      <th>Job Description</th>\n",
       "      <th>Rating</th>\n",
       "      <th>Company Name</th>\n",
       "      <th>Location</th>\n",
       "      <th>Headquarters</th>\n",
       "      <th>Size</th>\n",
       "      <th>Founded</th>\n",
       "      <th>Type of ownership</th>\n",
       "      <th>Industry</th>\n",
       "      <th>Sector</th>\n",
       "      <th>Revenue</th>\n",
       "      <th>Competitors</th>\n",
       "      <th>Easy Apply</th>\n",
       "      <th>Job Family</th>\n",
       "    </tr>\n",
       "  </thead>\n",
       "  <tbody>\n",
       "    <tr>\n",
       "      <th>0</th>\n",
       "      <td>Senior Data Scientist</td>\n",
       "      <td>$111K-$181K (Glassdoor est.)</td>\n",
       "      <td>ABOUT HOPPER\\n\\nAt Hopper, we’re on a mission ...</td>\n",
       "      <td>3.5</td>\n",
       "      <td>Hopper\\n3.5</td>\n",
       "      <td>New York, NY</td>\n",
       "      <td>Montreal, Canada</td>\n",
       "      <td>501 to 1000 employees</td>\n",
       "      <td>2007</td>\n",
       "      <td>Company - Private</td>\n",
       "      <td>Travel Agencies</td>\n",
       "      <td>Travel &amp; Tourism</td>\n",
       "      <td>Unknown / Non-Applicable</td>\n",
       "      <td>-1</td>\n",
       "      <td>-1</td>\n",
       "      <td>DataScientist</td>\n",
       "    </tr>\n",
       "    <tr>\n",
       "      <th>1</th>\n",
       "      <td>Data Scientist, Product Analytics</td>\n",
       "      <td>$111K-$181K (Glassdoor est.)</td>\n",
       "      <td>At Noom, we use scientifically proven methods ...</td>\n",
       "      <td>4.5</td>\n",
       "      <td>Noom US\\n4.5</td>\n",
       "      <td>New York, NY</td>\n",
       "      <td>New York, NY</td>\n",
       "      <td>1001 to 5000 employees</td>\n",
       "      <td>2008</td>\n",
       "      <td>Company - Private</td>\n",
       "      <td>Health, Beauty, &amp; Fitness</td>\n",
       "      <td>Consumer Services</td>\n",
       "      <td>Unknown / Non-Applicable</td>\n",
       "      <td>-1</td>\n",
       "      <td>-1</td>\n",
       "      <td>DataScientist</td>\n",
       "    </tr>\n",
       "    <tr>\n",
       "      <th>2</th>\n",
       "      <td>Data Science Manager</td>\n",
       "      <td>$111K-$181K (Glassdoor est.)</td>\n",
       "      <td>Decode_M\\n\\nhttps://www.decode-m.com/\\n\\nData ...</td>\n",
       "      <td>-1.0</td>\n",
       "      <td>Decode_M</td>\n",
       "      <td>New York, NY</td>\n",
       "      <td>New York, NY</td>\n",
       "      <td>1 to 50 employees</td>\n",
       "      <td>-1</td>\n",
       "      <td>Unknown</td>\n",
       "      <td>-1</td>\n",
       "      <td>-1</td>\n",
       "      <td>Unknown / Non-Applicable</td>\n",
       "      <td>-1</td>\n",
       "      <td>True</td>\n",
       "      <td>DataScientist</td>\n",
       "    </tr>\n",
       "  </tbody>\n",
       "</table>\n",
       "</div>"
      ],
      "text/plain": [
       "                           Job Title               Salary Estimate  \\\n",
       "0              Senior Data Scientist  $111K-$181K (Glassdoor est.)   \n",
       "1  Data Scientist, Product Analytics  $111K-$181K (Glassdoor est.)   \n",
       "2               Data Science Manager  $111K-$181K (Glassdoor est.)   \n",
       "\n",
       "                                     Job Description  Rating  Company Name  \\\n",
       "0  ABOUT HOPPER\\n\\nAt Hopper, we’re on a mission ...     3.5   Hopper\\n3.5   \n",
       "1  At Noom, we use scientifically proven methods ...     4.5  Noom US\\n4.5   \n",
       "2  Decode_M\\n\\nhttps://www.decode-m.com/\\n\\nData ...    -1.0      Decode_M   \n",
       "\n",
       "       Location      Headquarters                    Size  Founded  \\\n",
       "0  New York, NY  Montreal, Canada   501 to 1000 employees     2007   \n",
       "1  New York, NY      New York, NY  1001 to 5000 employees     2008   \n",
       "2  New York, NY      New York, NY       1 to 50 employees       -1   \n",
       "\n",
       "   Type of ownership                   Industry             Sector  \\\n",
       "0  Company - Private            Travel Agencies   Travel & Tourism   \n",
       "1  Company - Private  Health, Beauty, & Fitness  Consumer Services   \n",
       "2            Unknown                         -1                 -1   \n",
       "\n",
       "                    Revenue Competitors Easy Apply     Job Family  \n",
       "0  Unknown / Non-Applicable          -1         -1  DataScientist  \n",
       "1  Unknown / Non-Applicable          -1         -1  DataScientist  \n",
       "2  Unknown / Non-Applicable          -1       True  DataScientist  "
      ]
     },
     "execution_count": 3,
     "metadata": {},
     "output_type": "execute_result"
    }
   ],
   "source": [
    "path_folder = \"./Kaggle-Data-Science-ML-Survey-Analysis/data/raw/job_listings\"\n",
    "paths_csv = glob.glob(os.path.join(path_folder, \"*.csv\"))\n",
    "\n",
    "cols = ['Job Title', 'Salary Estimate', 'Job Description', 'Rating', 'Company Name', 'Location', 'Headquarters',\n",
    "         'Size', 'Founded', 'Type of ownership', 'Industry', 'Sector', 'Revenue', 'Competitors', 'Easy Apply']\n",
    "\n",
    "df_gd = pd.DataFrame()\n",
    "\n",
    "for file in paths_csv:\n",
    "    if \"MLE Jobs LinkedIn\" in file:\n",
    "        continue\n",
    "    jobfamily = file.split(\"/\")[-1].split(\".csv\")[0] # Extract job family from file path    \n",
    "    df = pd.read_csv(file)\n",
    "    df = df[cols] # Reorder & subset cols for data integrity\n",
    "    df['Job Family']= jobfamily\n",
    "    df_gd = pd.concat([df_gd, df], axis=0, ignore_index=True)\n",
    "\n",
    "del df\n",
    "df_gd.head(3)"
   ]
  },
  {
   "cell_type": "markdown",
   "id": "e8860f1e",
   "metadata": {},
   "source": [
    "### Merge Datasets"
   ]
  },
  {
   "cell_type": "code",
   "execution_count": 4,
   "id": "79bf4ac9",
   "metadata": {},
   "outputs": [],
   "source": [
    "cols = [\"Job Title\", \"Job Description\"]\n",
    "\n",
    "df_li = df_li.rename(columns={\"JD\": \"Job Description\"})\n",
    "df = pd.concat([df_li[cols], df_gd[cols]], axis=0, ignore_index=True)"
   ]
  },
  {
   "cell_type": "markdown",
   "id": "2a947872",
   "metadata": {},
   "source": [
    "## Preprocess Job Titles"
   ]
  },
  {
   "cell_type": "code",
   "execution_count": 5,
   "id": "ca17aa3e",
   "metadata": {},
   "outputs": [],
   "source": [
    "df = df.dropna(subset=['Job Title'])\n",
    "\n",
    "regex_punct = re.compile('[%s]' % re.escape(string.punctuation))\n",
    "\n",
    "def remove_punct(text):\n",
    "    cleaned = regex_punct.sub(' ', text) # Replace punctuations with spaces. Exp: \"AI/ML\" -> \"AI ML\"\n",
    "    return re.sub(' +', ' ', cleaned) # Replace multiple spaces with single space"
   ]
  },
  {
   "cell_type": "code",
   "execution_count": 6,
   "id": "e6c62515",
   "metadata": {},
   "outputs": [],
   "source": [
    "df['cleaned_job_title'] = df['Job Title'].apply(remove_punct)"
   ]
  },
  {
   "cell_type": "code",
   "execution_count": 7,
   "id": "bc4a8f1d",
   "metadata": {},
   "outputs": [
    {
     "data": {
      "text/plain": [
       "array(['!!!100% Remote!!! Sr. Data and Integration Engineer',\n",
       "       '\"Business Analyst/ Data Analyst with experience on any one of Financial Product',\n",
       "       '#104252 Division Data and Financial Analyst', ...,\n",
       "       'systems Analyst 1596 (d)',\n",
       "       '{\"title\":\"GAO Analyst (Data Analysis)\",\"extended\":{\"opening_type\":null}}',\n",
       "       '【1yr OPT+Intern】Data Analyst 保实习保就业'], dtype=object)"
      ]
     },
     "execution_count": 7,
     "metadata": {},
     "output_type": "execute_result"
    }
   ],
   "source": [
    "jobs = np.sort(df['Job Title'].dropna().unique())\n",
    "jobs"
   ]
  },
  {
   "cell_type": "markdown",
   "id": "d5ca8678",
   "metadata": {},
   "source": [
    "# Method 1"
   ]
  },
  {
   "cell_type": "markdown",
   "id": "2dbbd20e",
   "metadata": {},
   "source": [
    "## Keyword Selection (Iterative Cycle)\n",
    "Define KWs, test matches & iterate"
   ]
  },
  {
   "cell_type": "markdown",
   "id": "41b7d6e9",
   "metadata": {},
   "source": [
    "### Define Keywords"
   ]
  },
  {
   "cell_type": "code",
   "execution_count": 8,
   "id": "62626ac3",
   "metadata": {},
   "outputs": [],
   "source": [
    "job_mapping = {\n",
    "    \n",
    "    \"Business Analyst\": [\"business analyst\", \"business analytics\", \"business intelligence\", \"bi analyst\",\n",
    "                        \"bi engineer\"],\n",
    "    \n",
    "    \"Data Analyst\": [\"data analyst\", \"data analytics\", \"analytics engineer\", \"analytics consult\"\n",
    "                    \"analytics manager\", \"decision analyst\"],\n",
    "    \n",
    "    \"Data Engineer\": [\"big data engineer\", \"data engineer\", \"data science engineer\", \"data framework engineer\",\n",
    "                      \"data visualization engineer\",\n",
    "                     \"kafka\"], #\"aws\", \"azure\"\n",
    "    \n",
    "    \"Data Scientist\": [\"data scientist\", \"decision scientist\"],\n",
    "    \n",
    "    \"Machine Learning Engineer\": [\"machine learning\", \"ml engineer\", \"applied scientist\", \n",
    "                        \"artificial intelligence\", \"deep learning\", \"ai engineer\", \"ai scientist\", \"ai ml\",\n",
    "                        \"computer vision\"],\n",
    "    \n",
    "    \"Research\": [\"research\"]\n",
    "    \n",
    "}"
   ]
  },
  {
   "cell_type": "markdown",
   "id": "b1a4de86",
   "metadata": {},
   "source": [
    "### Test Matches"
   ]
  },
  {
   "cell_type": "code",
   "execution_count": 9,
   "id": "35174d13",
   "metadata": {},
   "outputs": [],
   "source": [
    "def match_kw(jd, kws):\n",
    "    \"Returns 1 if the JD contains a keyword associated to a skill\"\n",
    "    for kw in kws:\n",
    "        if kw.lower() in jd.lower():\n",
    "            return 1\n",
    "    return 0"
   ]
  },
  {
   "cell_type": "code",
   "execution_count": 10,
   "id": "d23c7ed8",
   "metadata": {},
   "outputs": [],
   "source": [
    "mappings = {title:[] for title in job_mapping.keys()}\n",
    "mappings[\"other\"] = []\n",
    "\n",
    "jobs = np.sort(df['cleaned_job_title'].dropna().unique())\n",
    "\n",
    "for job in jobs:\n",
    "    anymatch = 0\n",
    "    \n",
    "    for title, kws in job_mapping.items():\n",
    "        matched = match_kw(job, kws)\n",
    "        if matched:\n",
    "            mappings[title].append(job)\n",
    "            anymatch = 1\n",
    "    \n",
    "    if anymatch == 0:\n",
    "        mappings[\"other\"].append(job)"
   ]
  },
  {
   "cell_type": "code",
   "execution_count": 11,
   "id": "1eb6e97a",
   "metadata": {},
   "outputs": [
    {
     "data": {
      "text/plain": [
       "{'Business Analyst': 844,\n",
       " 'Data Analyst': 1730,\n",
       " 'Data Engineer': 443,\n",
       " 'Data Scientist': 444,\n",
       " 'Machine Learning Engineer': 245,\n",
       " 'Research': 270,\n",
       " 'other': 3384}"
      ]
     },
     "execution_count": 11,
     "metadata": {},
     "output_type": "execute_result"
    }
   ],
   "source": [
    "# Get counts of each category\n",
    "{title: len(mappings[title]) for title in mappings.keys()}"
   ]
  },
  {
   "cell_type": "code",
   "execution_count": 12,
   "id": "57d4045d",
   "metadata": {},
   "outputs": [],
   "source": [
    "# Interesting to see the large number of ways of describing each job title!\n",
    "# Some confusing job titles like: Data Science Analytics Engineer"
   ]
  },
  {
   "cell_type": "markdown",
   "id": "e053c7c8",
   "metadata": {},
   "source": [
    "### Shortcomings:\n",
    "1. The 'Other' category contains the highest number of job titles.\n",
    "2. If we rely on simple keyword based matching, we have to manually define a large number of keywords for each job category."
   ]
  },
  {
   "cell_type": "code",
   "execution_count": 13,
   "id": "5347ca31",
   "metadata": {},
   "outputs": [
    {
     "name": "stdout",
     "output_type": "stream",
     "text": [
      "077 Data Science Analyst\n",
      "AVP Business Systems Analyst\n",
      "Analyst Data\n",
      "VP Data Science\n"
     ]
    }
   ],
   "source": [
    "idxs = [19, 40, 90, -55]   # Selected exps for illustration\n",
    "for idx in idxs:\n",
    "    print(mappings['other'][idx])"
   ]
  },
  {
   "cell_type": "markdown",
   "id": "d72ac49e",
   "metadata": {},
   "source": [
    "# Method 2"
   ]
  },
  {
   "cell_type": "markdown",
   "id": "93a2d328",
   "metadata": {},
   "source": [
    "## Fuzzy String matching"
   ]
  },
  {
   "cell_type": "markdown",
   "id": "ca123691",
   "metadata": {},
   "source": [
    "### Strategy\n",
    "1. Find fuzzy score of job title with each defined title. Exp (Agile Data Product Analyst, Data Analyst)\n",
    "2. If the highest fuzzy score is greater than a predefined threshold, add the title to the category.\n",
    "3. If the fuzzy score is lower, mark the title as 'Other'.\n",
    "4. Find a 'good' threshold based on experimentation."
   ]
  },
  {
   "cell_type": "code",
   "execution_count": 14,
   "id": "0cce197a",
   "metadata": {},
   "outputs": [],
   "source": [
    "from fuzzywuzzy import fuzz"
   ]
  },
  {
   "cell_type": "code",
   "execution_count": 15,
   "id": "a3742761",
   "metadata": {},
   "outputs": [],
   "source": [
    "mappings_fuzzy = {title:[] for title in job_mapping.keys()}\n",
    "mappings_fuzzy[\"other\"] = []\n",
    "\n",
    "thresh = 30\n",
    "titles = ['Business Analyst', 'Data Analyst', 'Data Engineer', 'Data Scientist', \n",
    "                  'Machine Learning Engineer', 'Research']\n",
    "\n",
    "jobs = np.sort(df['cleaned_job_title'].dropna().unique())\n",
    "\n",
    "for job in jobs:\n",
    "    \n",
    "    fuzz_scores = [fuzz.ratio(job.lower(), title.lower()) for title in titles] \n",
    "    # Note: Case is taken into account for fuzzy matching\n",
    "    \n",
    "    max_score, max_score_idx = np.max(fuzz_scores), np.argmax(fuzz_scores)\n",
    "    \n",
    "    if max_score >= thresh:\n",
    "        mappings_fuzzy[titles[max_score_idx]].append(job)\n",
    "    \n",
    "    else:\n",
    "        mappings_fuzzy[\"other\"].append(job)"
   ]
  },
  {
   "cell_type": "code",
   "execution_count": 16,
   "id": "f39ccbe7",
   "metadata": {},
   "outputs": [
    {
     "data": {
      "text/plain": [
       "{'Business Analyst': 1713,\n",
       " 'Data Analyst': 2218,\n",
       " 'Data Engineer': 1137,\n",
       " 'Data Scientist': 1104,\n",
       " 'Machine Learning Engineer': 885,\n",
       " 'Research': 11,\n",
       " 'other': 96}"
      ]
     },
     "execution_count": 16,
     "metadata": {},
     "output_type": "execute_result"
    }
   ],
   "source": [
    "# Get counts of each category\n",
    "{title: len(mappings_fuzzy[title]) for title in mappings.keys()}"
   ]
  },
  {
   "cell_type": "markdown",
   "id": "bfdc74a1",
   "metadata": {},
   "source": [
    "### Shortcomings:\n",
    "1. When the job title is long, Fuzzy matching fails even if the exact term is present. Therefore, the 'Other' category mostly contains long titles.\n",
    "2. If we reduce the threshold, we get very noisy labels.\n",
    "3. Some obvious misses: Data Quality and Process Analyst -> Business Analyst, Cybersecurity Analyst -> Business Analyst."
   ]
  },
  {
   "cell_type": "code",
   "execution_count": 17,
   "id": "2187f79a",
   "metadata": {},
   "outputs": [
    {
     "name": "stdout",
     "output_type": "stream",
     "text": [
      "Business Analyst Advisory Services Performance Improvement Finance Transformation Manager Multiple Positions \n",
      "Data Analyst Data Modeler ETL Developer Data Management 162020CIT ITS NEASO Internal Only Posti\n",
      "Data Scientist 2 Tableau Statistics IT Portfolio Predictive Analysis Visualization \n"
     ]
    }
   ],
   "source": [
    "idxs = [7, 27, 32]   # Selected exps for illustration (\"Other\" category)\n",
    "for idx in idxs:\n",
    "    print(mappings_fuzzy['other'][idx])"
   ]
  },
  {
   "cell_type": "markdown",
   "id": "ae77ce36",
   "metadata": {},
   "source": [
    "# Method 3"
   ]
  },
  {
   "cell_type": "markdown",
   "id": "f306c5b4",
   "metadata": {},
   "source": [
    "### Multi-word filtering"
   ]
  },
  {
   "cell_type": "markdown",
   "id": "b7af459e",
   "metadata": {},
   "source": [
    "For example, consider the job titles:\n",
    "* Business Process Support Analyst\n",
    "* Business Reporting Analyst II\n",
    "* Business Support Analyst Senior\n",
    "\n",
    "These can be filtered by checking for the presence of both 'business' and 'analyst'"
   ]
  },
  {
   "cell_type": "code",
   "execution_count": 18,
   "id": "a9b9001e",
   "metadata": {},
   "outputs": [],
   "source": [
    "job_mapping_multiword = {\n",
    "    \n",
    "    \"Business Analyst\": [\"business_analyst\"],\n",
    "    \n",
    "    \"Data Analyst\": [\"data_analyst\", \"data_analytics\", \"decision_analyst\"],\n",
    "    \n",
    "    \"Data Engineer\": ['data_engineer'],\n",
    "    \n",
    "    \"Data Scientist\": [\"data_scientist\"],\n",
    "    \n",
    "    \"Machine Learning Engineer\": [\"ai_engineer\"],\n",
    "}"
   ]
  },
  {
   "cell_type": "code",
   "execution_count": 19,
   "id": "5e923c79",
   "metadata": {},
   "outputs": [],
   "source": [
    "def match_kw_list(jd, multi_kw_set):\n",
    "    \"\"\"\n",
    "    Returns 1 if the JD contains all keywords associated to a skill.\n",
    "    For exp, 'Business Reporting Analyst II' matches 'Business Analyst', since it contains both words\n",
    "    'business' and 'analyst'.\n",
    "    \"\"\"\n",
    "    kws_list = multi_kw_set.split(\"_\")\n",
    "    matches = [kw.lower() in jd.lower() for kw in kws_list]\n",
    "    if np.sum(matches) == len(matches):\n",
    "            return 1\n",
    "    return 0"
   ]
  },
  {
   "cell_type": "code",
   "execution_count": 20,
   "id": "44a6307e",
   "metadata": {},
   "outputs": [],
   "source": [
    "mappings_multiword = {title:[] for title in job_mapping.keys()}\n",
    "mappings_multiword[\"other\"] = []\n",
    "\n",
    "jobs = mappings['other'] # Tesing on the 'Other' category of simple keyword matching\n",
    "\n",
    "for job in jobs:\n",
    "    anymatch = 0\n",
    "    \n",
    "    for title, kws_list in job_mapping_multiword.items():\n",
    "        for multi_kw_set in kws_list:\n",
    "            matched = match_kw_list(job, multi_kw_set)\n",
    "            if matched:\n",
    "                mappings_multiword[title].append(job)\n",
    "                anymatch = 1\n",
    "    \n",
    "    if anymatch == 0:\n",
    "        mappings_multiword[\"other\"].append(job)"
   ]
  },
  {
   "cell_type": "code",
   "execution_count": 21,
   "id": "2d81f189",
   "metadata": {},
   "outputs": [
    {
     "data": {
      "text/plain": [
       "{'Business Analyst': 287,\n",
       " 'Data Analyst': 760,\n",
       " 'Data Engineer': 176,\n",
       " 'Data Scientist': 8,\n",
       " 'Machine Learning Engineer': 22,\n",
       " 'Research': 0,\n",
       " 'other': 2178}"
      ]
     },
     "execution_count": 21,
     "metadata": {},
     "output_type": "execute_result"
    }
   ],
   "source": [
    "# Get counts of each category\n",
    "{title: len(mappings_multiword[title]) for title in mappings.keys()}"
   ]
  },
  {
   "cell_type": "code",
   "execution_count": 22,
   "id": "a133ab67",
   "metadata": {},
   "outputs": [
    {
     "data": {
      "text/plain": [
       "['3rd Shift Environmental Monitoring Scientist',\n",
       " 'ACH Analyst',\n",
       " 'ADAS Test V V Engineer',\n",
       " 'AIG Retirement Services Plan Administration Analyst I',\n",
       " 'AM PM Building Engineer Position',\n",
       " 'AML Compliance Analyst',\n",
       " 'AMS Verification and Modeling Engineer',\n",
       " 'ANALYST ENGINEER SCIENTIST ACOUSTICS',\n",
       " 'ANALYST SCIENTIST KINETICS',\n",
       " 'APPLICATION SUPPORT ANALYST I']"
      ]
     },
     "execution_count": 22,
     "metadata": {},
     "output_type": "execute_result"
    }
   ],
   "source": [
    "mappings_multiword['other'][10:20]"
   ]
  },
  {
   "cell_type": "markdown",
   "id": "8c46af84",
   "metadata": {},
   "source": [
    "### Comments\n",
    "1. Many titles in the 'Other' category look ambiguous. For exp: Data Specialist, Data Lead, VP Data Science, Data Science with strong Python, Risk Analyst. So this method does a good job overall.\n",
    "2. However, some obvious titles are still missed. For exp: Business Analysis, Ecommerce Analytics Manager. These can be matched with Fuzzy search. "
   ]
  },
  {
   "cell_type": "markdown",
   "id": "b0ff69f2",
   "metadata": {},
   "source": [
    "# Method 4"
   ]
  },
  {
   "cell_type": "markdown",
   "id": "5859e07a",
   "metadata": {},
   "source": [
    "### Simple Keyword matching > Multi-keyword Matching > Fuzzy matching (strict)"
   ]
  },
  {
   "cell_type": "code",
   "execution_count": 23,
   "id": "98587d36",
   "metadata": {},
   "outputs": [],
   "source": [
    "# Finding a reasonable threshold for fuzzy matching on the other category of multiword mathcing"
   ]
  },
  {
   "cell_type": "code",
   "execution_count": 24,
   "id": "a4bdd426",
   "metadata": {},
   "outputs": [],
   "source": [
    "mappings_fuzzy = {title:[] for title in job_mapping.keys()}\n",
    "mappings_fuzzy[\"other\"] = []\n",
    "\n",
    "thresh = 80\n",
    "titles = ['Business Analyst', 'Data Analyst', 'Data Engineer', 'Data Scientist', \n",
    "                  'Machine Learning Engineer', 'Research']\n",
    "\n",
    "jobs = mappings_multiword['other'] # Other category of multiword matching\n",
    "\n",
    "for job in jobs:\n",
    "    \n",
    "    fuzz_scores = [fuzz.ratio(job.lower(), title.lower()) for title in titles] \n",
    "    # Note: Case is taken into account for fuzzy matching\n",
    "    \n",
    "    max_score, max_score_idx = np.max(fuzz_scores), np.argmax(fuzz_scores)\n",
    "    \n",
    "    if max_score >= thresh:\n",
    "        mappings_fuzzy[titles[max_score_idx]].append(job)\n",
    "    \n",
    "    else:\n",
    "        mappings_fuzzy[\"other\"].append(job)"
   ]
  },
  {
   "cell_type": "code",
   "execution_count": 25,
   "id": "5c325b0a",
   "metadata": {},
   "outputs": [
    {
     "data": {
      "text/plain": [
       "{'Business Analyst': 2,\n",
       " 'Data Analyst': 3,\n",
       " 'Data Engineer': 5,\n",
       " 'Data Scientist': 2,\n",
       " 'Machine Learning Engineer': 1,\n",
       " 'Research': 0,\n",
       " 'other': 2165}"
      ]
     },
     "execution_count": 25,
     "metadata": {},
     "output_type": "execute_result"
    }
   ],
   "source": [
    "# Get counts of each category\n",
    "{title: len(mappings_fuzzy[title]) for title in mappings.keys()}"
   ]
  },
  {
   "cell_type": "code",
   "execution_count": 26,
   "id": "d65b1ff8",
   "metadata": {},
   "outputs": [
    {
     "data": {
      "text/plain": [
       "['Business Analysis', 'IT Business Analysis']"
      ]
     },
     "execution_count": 26,
     "metadata": {},
     "output_type": "execute_result"
    }
   ],
   "source": [
    "mappings_fuzzy['Business Analyst']"
   ]
  },
  {
   "cell_type": "code",
   "execution_count": 27,
   "id": "77d67f60",
   "metadata": {},
   "outputs": [
    {
     "data": {
      "text/plain": [
       "['Digital Analyst', 'IT Analyst', 'QA Analyst']"
      ]
     },
     "execution_count": 27,
     "metadata": {},
     "output_type": "execute_result"
    }
   ],
   "source": [
    "mappings_fuzzy['Data Analyst']"
   ]
  },
  {
   "cell_type": "code",
   "execution_count": 28,
   "id": "980d6fee",
   "metadata": {},
   "outputs": [
    {
     "data": {
      "text/plain": [
       "[' Java Engineer',\n",
       " 'AWS Engineer',\n",
       " 'IAM Engineer',\n",
       " 'Java Engineer',\n",
       " 'QA Engineer']"
      ]
     },
     "execution_count": 28,
     "metadata": {},
     "output_type": "execute_result"
    }
   ],
   "source": [
    "mappings_fuzzy['Data Engineer']"
   ]
  },
  {
   "cell_type": "code",
   "execution_count": 29,
   "id": "87a53690",
   "metadata": {},
   "outputs": [
    {
     "data": {
      "text/plain": [
       "['Data Sceintist', 'Staff Scientist']"
      ]
     },
     "execution_count": 29,
     "metadata": {},
     "output_type": "execute_result"
    }
   ],
   "source": [
    "mappings_fuzzy['Data Scientist']"
   ]
  },
  {
   "cell_type": "code",
   "execution_count": 30,
   "id": "20e62589",
   "metadata": {},
   "outputs": [
    {
     "data": {
      "text/plain": [
       "['Machine Learninig Engineer']"
      ]
     },
     "execution_count": 30,
     "metadata": {},
     "output_type": "execute_result"
    }
   ],
   "source": [
    "mappings_fuzzy['Machine Learning Engineer']"
   ]
  },
  {
   "cell_type": "markdown",
   "id": "d8337e36",
   "metadata": {},
   "source": [
    "### Comments\n",
    "1. With fuzzy matching, we are able to accomodate for spelling mistakes in job titles. For exp: \"Data Sceintist\", \"Machine Learinig Engineer\".\n",
    "2. However, even with a high threshold, we see irrelevant additions such \"QA Test Engineer\", \"Field Scientist\", \"Java Engineer\" \n",
    "3. We use the output of fuzzy matching to add keywords to our title list. See the list below."
   ]
  },
  {
   "cell_type": "code",
   "execution_count": 31,
   "id": "28372efa",
   "metadata": {},
   "outputs": [],
   "source": [
    "fuzzy_kws = {\n",
    "    \n",
    "    \"Business Analyst\": ['Business Analysis',\n",
    "                         'Business Data Modeler',\n",
    "                         'Business Data Steward',\n",
    "                         'Director of Business Analysis',\n",
    "                         'IT Business Analysis',\n",
    "                         'IT Business Process Analysis',\n",
    "                         'Manager Business Analysis',\n",
    "                         'Manager of Business Analysis',\n",
    "                         'Professional Business Analysis',\n",
    "                         'Sr Bus Analyst'],\n",
    "    \n",
    "    \"Data Analyst\": ['Quantitative Analyst',\n",
    "                     'SAS Analyst',\n",
    "                     'Tableau Analyst'], # Analytical Scientist\n",
    "    \n",
    "    \"Data Engineer\": [\"Sr Big data Ebgineer\", \"Data Developer\"],\n",
    "    \n",
    "    \"Data Scientist\": [\"Data Sceintist\", 'Data Science Intern', 'Data Science Specialist', \n",
    "                       'Statistical Scientist', # Staff Scientist\n",
    "                       'Data Science Practitioner'], # Data Science Architect, Lead, VP, Director, Consultant\n",
    "\n",
    "    \n",
    "    \"Machine Learning Engineer\": [\"Machine Learninig Engineer\"],\n",
    "    \n",
    "}"
   ]
  },
  {
   "cell_type": "markdown",
   "id": "2a617dcc",
   "metadata": {},
   "source": [
    "# Tying it together"
   ]
  },
  {
   "cell_type": "code",
   "execution_count": 32,
   "id": "ddc63aa7",
   "metadata": {},
   "outputs": [],
   "source": [
    "job_mapping = {}  # {Job Family: [Job_titles]} \n",
    "\n",
    "for title in mappings.keys():\n",
    "    if title != \"other\":\n",
    "        job_mapping[title] = mappings[title] + mappings_multiword[title] + mappings_fuzzy[title]"
   ]
  },
  {
   "cell_type": "code",
   "execution_count": 33,
   "id": "a6ff24c3",
   "metadata": {},
   "outputs": [],
   "source": [
    "# Export\n",
    "with open(\"Kaggle-Data-Science-ML-Survey-Analysis/data/raw/job_listings/job_mapping.json\", 'w') as f:\n",
    "    json.dump(job_mapping, f, indent=2) "
   ]
  },
  {
   "cell_type": "markdown",
   "id": "576a977a",
   "metadata": {},
   "source": [
    "# Future work\n",
    "1. Record all keywords in a config file.\n",
    "2. Named Entity Recognition for detection of Job Titles."
   ]
  }
 ],
 "metadata": {
  "kernelspec": {
   "display_name": "Python 3 (ipykernel)",
   "language": "python",
   "name": "python3"
  },
  "language_info": {
   "codemirror_mode": {
    "name": "ipython",
    "version": 3
   },
   "file_extension": ".py",
   "mimetype": "text/x-python",
   "name": "python",
   "nbconvert_exporter": "python",
   "pygments_lexer": "ipython3",
   "version": "3.9.7"
  }
 },
 "nbformat": 4,
 "nbformat_minor": 5
}
