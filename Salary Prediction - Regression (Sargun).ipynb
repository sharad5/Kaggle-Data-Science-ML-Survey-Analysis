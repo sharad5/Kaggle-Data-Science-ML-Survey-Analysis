{
 "cells": [
  {
   "cell_type": "code",
   "execution_count": 280,
   "id": "98c1d730",
   "metadata": {},
   "outputs": [],
   "source": [
    "import json\n",
    "import scipy\n",
    "import warnings\n",
    "import numpy as np\n",
    "import pandas as pd\n",
    "import matplotlib.pyplot as plt\n",
    "from matplotlib.gridspec import GridSpec\n",
    "import seaborn as sns\n",
    "warnings.filterwarnings('ignore')\n",
    "sns.set_style('whitegrid')\n",
    "%matplotlib inline"
   ]
  },
  {
   "cell_type": "code",
   "execution_count": 374,
   "id": "68a8c966",
   "metadata": {},
   "outputs": [],
   "source": [
    "from sklearn.preprocessing import StandardScaler, OrdinalEncoder, MinMaxScaler, LabelEncoder, OneHotEncoder\n",
    "from sklearn.feature_selection import mutual_info_regression\n",
    "from sklearn.model_selection import train_test_split, cross_val_score, GridSearchCV\n",
    "from sklearn.linear_model import LinearRegression, Ridge, Lasso, ElasticNet\n",
    "from xgboost import XGBRegressor\n",
    "from sklearn.ensemble import RandomForestRegressor\n",
    "from sklearn.metrics import r2_score, mean_squared_error, mean_absolute_error, mean_absolute_percentage_error, max_error"
   ]
  },
  {
   "cell_type": "code",
   "execution_count": 324,
   "id": "2d99584b",
   "metadata": {},
   "outputs": [],
   "source": [
    "seed = 12132707\n",
    "np.random.seed(seed)"
   ]
  },
  {
   "cell_type": "code",
   "execution_count": 244,
   "id": "635676c0",
   "metadata": {},
   "outputs": [
    {
     "data": {
      "text/html": [
       "<div>\n",
       "<style scoped>\n",
       "    .dataframe tbody tr th:only-of-type {\n",
       "        vertical-align: middle;\n",
       "    }\n",
       "\n",
       "    .dataframe tbody tr th {\n",
       "        vertical-align: top;\n",
       "    }\n",
       "\n",
       "    .dataframe thead th {\n",
       "        text-align: right;\n",
       "    }\n",
       "</style>\n",
       "<table border=\"1\" class=\"dataframe\">\n",
       "  <thead>\n",
       "    <tr style=\"text-align: right;\">\n",
       "      <th></th>\n",
       "      <th>Unnamed: 0</th>\n",
       "      <th>Duration (in seconds)</th>\n",
       "      <th>Age</th>\n",
       "      <th>Gender</th>\n",
       "      <th>Country</th>\n",
       "      <th>IsStudent</th>\n",
       "      <th>MOOCPlatforms_Coursera</th>\n",
       "      <th>MOOCPlatforms_edX</th>\n",
       "      <th>MOOCPlatforms_Kaggle Learn Courses</th>\n",
       "      <th>MOOCPlatforms_DataCamp</th>\n",
       "      <th>...</th>\n",
       "      <th>Q35_B_Part_3</th>\n",
       "      <th>Q35_B_Part_4</th>\n",
       "      <th>Q35_B_Part_5</th>\n",
       "      <th>Q35_B_Part_6</th>\n",
       "      <th>Q35_B_Part_7</th>\n",
       "      <th>Q35_B_Part_8</th>\n",
       "      <th>Q35_B_Part_9</th>\n",
       "      <th>Q35_B_Part_10</th>\n",
       "      <th>Q35_B_OTHER</th>\n",
       "      <th>PID</th>\n",
       "    </tr>\n",
       "  </thead>\n",
       "  <tbody>\n",
       "    <tr>\n",
       "      <th>1</th>\n",
       "      <td>49971</td>\n",
       "      <td>289287</td>\n",
       "      <td>30-34</td>\n",
       "      <td>Man</td>\n",
       "      <td>United States of America</td>\n",
       "      <td>No</td>\n",
       "      <td>1</td>\n",
       "      <td>0</td>\n",
       "      <td>0</td>\n",
       "      <td>1</td>\n",
       "      <td>...</td>\n",
       "      <td>NaN</td>\n",
       "      <td>NaN</td>\n",
       "      <td>NaN</td>\n",
       "      <td>NaN</td>\n",
       "      <td>NaN</td>\n",
       "      <td>NaN</td>\n",
       "      <td>NaN</td>\n",
       "      <td>NaN</td>\n",
       "      <td>NaN</td>\n",
       "      <td>2_2020</td>\n",
       "    </tr>\n",
       "    <tr>\n",
       "      <th>3</th>\n",
       "      <td>49973</td>\n",
       "      <td>507</td>\n",
       "      <td>30-34</td>\n",
       "      <td>Man</td>\n",
       "      <td>United States of America</td>\n",
       "      <td>No</td>\n",
       "      <td>1</td>\n",
       "      <td>0</td>\n",
       "      <td>0</td>\n",
       "      <td>1</td>\n",
       "      <td>...</td>\n",
       "      <td>NaN</td>\n",
       "      <td>NaN</td>\n",
       "      <td>NaN</td>\n",
       "      <td>NaN</td>\n",
       "      <td>NaN</td>\n",
       "      <td>NaN</td>\n",
       "      <td>NaN</td>\n",
       "      <td>NaN</td>\n",
       "      <td>NaN</td>\n",
       "      <td>4_2020</td>\n",
       "    </tr>\n",
       "    <tr>\n",
       "      <th>11</th>\n",
       "      <td>49981</td>\n",
       "      <td>742</td>\n",
       "      <td>35-39</td>\n",
       "      <td>Man</td>\n",
       "      <td>United States of America</td>\n",
       "      <td>No</td>\n",
       "      <td>0</td>\n",
       "      <td>0</td>\n",
       "      <td>0</td>\n",
       "      <td>0</td>\n",
       "      <td>...</td>\n",
       "      <td>NaN</td>\n",
       "      <td>NaN</td>\n",
       "      <td>NaN</td>\n",
       "      <td>NaN</td>\n",
       "      <td>NaN</td>\n",
       "      <td>NaN</td>\n",
       "      <td>NaN</td>\n",
       "      <td>NaN</td>\n",
       "      <td>NaN</td>\n",
       "      <td>12_2020</td>\n",
       "    </tr>\n",
       "  </tbody>\n",
       "</table>\n",
       "<p>3 rows × 566 columns</p>\n",
       "</div>"
      ],
      "text/plain": [
       "    Unnamed: 0  Duration (in seconds)    Age Gender                   Country  \\\n",
       "1        49971                 289287  30-34    Man  United States of America   \n",
       "3        49973                    507  30-34    Man  United States of America   \n",
       "11       49981                    742  35-39    Man  United States of America   \n",
       "\n",
       "   IsStudent  MOOCPlatforms_Coursera  MOOCPlatforms_edX  \\\n",
       "1         No                       1                  0   \n",
       "3         No                       1                  0   \n",
       "11        No                       0                  0   \n",
       "\n",
       "    MOOCPlatforms_Kaggle Learn Courses  MOOCPlatforms_DataCamp  ...  \\\n",
       "1                                    0                       1  ...   \n",
       "3                                    0                       1  ...   \n",
       "11                                   0                       0  ...   \n",
       "\n",
       "    Q35_B_Part_3  Q35_B_Part_4  Q35_B_Part_5  Q35_B_Part_6  Q35_B_Part_7  \\\n",
       "1            NaN           NaN           NaN           NaN           NaN   \n",
       "3            NaN           NaN           NaN           NaN           NaN   \n",
       "11           NaN           NaN           NaN           NaN           NaN   \n",
       "\n",
       "    Q35_B_Part_8  Q35_B_Part_9  Q35_B_Part_10  Q35_B_OTHER      PID  \n",
       "1            NaN           NaN            NaN          NaN   2_2020  \n",
       "3            NaN           NaN            NaN          NaN   4_2020  \n",
       "11           NaN           NaN            NaN          NaN  12_2020  \n",
       "\n",
       "[3 rows x 566 columns]"
      ]
     },
     "execution_count": 244,
     "metadata": {},
     "output_type": "execute_result"
    }
   ],
   "source": [
    "df = pd.concat([pd.read_csv(\n",
    "    \"./Kaggle-Data-Science-ML-Survey-Analysis/data/processed/ProcessedSurveyDataWithID_%d.csv\" % i) \n",
    "                       for i in range(2020,2023)])\n",
    "df = df[df['Country']=='United States of America']\n",
    "df = df.dropna(subset=['AnnualComp(USD)'])\n",
    "df.head(3)"
   ]
  },
  {
   "cell_type": "code",
   "execution_count": 317,
   "id": "6ce9737e",
   "metadata": {},
   "outputs": [
    {
     "data": {
      "text/plain": [
       "(4763, 567)"
      ]
     },
     "execution_count": 317,
     "metadata": {},
     "output_type": "execute_result"
    }
   ],
   "source": [
    "df.shape"
   ]
  },
  {
   "cell_type": "code",
   "execution_count": 321,
   "id": "9e0b010c",
   "metadata": {},
   "outputs": [
    {
     "data": {
      "text/plain": [
       "['Unnamed: 0',\n",
       " 'Duration (in seconds)',\n",
       " 'Age',\n",
       " 'Gender',\n",
       " 'Country',\n",
       " 'IsStudent',\n",
       " 'MOOCPlatforms_Coursera',\n",
       " 'MOOCPlatforms_edX',\n",
       " 'MOOCPlatforms_Kaggle Learn Courses',\n",
       " 'MOOCPlatforms_DataCamp',\n",
       " 'MOOCPlatforms_Fast.ai',\n",
       " 'MOOCPlatforms_Udacity',\n",
       " 'MOOCPlatforms_Udemy',\n",
       " 'MOOCPlatforms_LinkedIn Learning',\n",
       " 'MOOCPlatforms_Cloud-certification programs (direct from AWS, Azure, GCP, or similar)',\n",
       " 'MOOCPlatforms_University Courses (resulting in a university degree)',\n",
       " 'MOOCPlatforms_None',\n",
       " 'MOOCPlatforms_Other',\n",
       " 'IntroToDSPlatform_University courses',\n",
       " 'IntroToDSPlatform_Online courses (Coursera, EdX, etc)',\n",
       " 'IntroToDSPlatform_Social media platforms (Reddit, Twitter, etc)',\n",
       " 'IntroToDSPlatform_Video platforms (YouTube, Twitch, etc)',\n",
       " 'IntroToDSPlatform_Kaggle (notebooks, competitions, etc)',\n",
       " 'IntroToDSPlatform_None / I do not study data science',\n",
       " 'IntroToDSPlatform_Other',\n",
       " 'HighestEducation',\n",
       " 'HasPublishedResearch',\n",
       " 'TheoreticalResearch',\n",
       " 'AppliedResearch',\n",
       " 'NonMLResearch',\n",
       " 'Programming Experience',\n",
       " 'ProgLanguage_Python',\n",
       " 'ProgLanguage_R',\n",
       " 'ProgLanguage_SQL',\n",
       " 'ProgLanguage_C',\n",
       " 'ProgLanguage_C#',\n",
       " 'ProgLanguage_C++',\n",
       " 'ProgLanguage_Java',\n",
       " 'ProgLanguage_Javascript',\n",
       " 'ProgLanguage_Bash',\n",
       " 'ProgLanguage_PHP',\n",
       " 'ProgLanguage_MATLAB',\n",
       " 'ProgLanguage_Julia',\n",
       " 'ProgLanguage_Go',\n",
       " 'ProgLanguage_None',\n",
       " 'ProgLanguage_Other',\n",
       " 'IDE_JupyterLab',\n",
       " 'IDE_RStudio',\n",
       " 'IDE_Visual Studio',\n",
       " 'IDE_Visual Studio Code (VSCode)',\n",
       " 'IDE_PyCharm',\n",
       " 'IDE_Spyder',\n",
       " 'IDE_Notepad++',\n",
       " 'IDE_Sublime Text',\n",
       " 'IDE_Vim / Emacs',\n",
       " 'IDE_MATLAB',\n",
       " 'IDE_Jupyter Notebook',\n",
       " 'IDE_IntelliJ',\n",
       " 'IDE_None',\n",
       " 'IDE_Other',\n",
       " 'HostedNB_Kaggle Notebooks',\n",
       " 'HostedNB_Colab Notebooks',\n",
       " 'HostedNB_Azure Notebooks',\n",
       " 'HostedNB_Code Ocean',\n",
       " 'HostedNB_IBM Watson Studio',\n",
       " 'HostedNB_Amazon Sagemaker Studio',\n",
       " 'HostedNB_Amazon Sagemaker Studio Lab',\n",
       " 'HostedNB_Amazon EMR Notebooks',\n",
       " 'HostedNB_Google Cloud Vertex AI Workbench',\n",
       " 'HostedNB_Hex Workspaces',\n",
       " 'HostedNB_Noteable Notebooks',\n",
       " 'HostedNB_Databricks Collaborative Notebooks',\n",
       " 'HostedNB_Deepnote Notebooks',\n",
       " 'HostedNB_Gradient Notebooks',\n",
       " 'HostedNB_None',\n",
       " 'HostedNB_Other',\n",
       " 'VizLib_Matplotlib',\n",
       " 'VizLib_Seaborn',\n",
       " 'VizLib_Plotly / Plotly Express',\n",
       " 'VizLib_Ggplot / ggplot2',\n",
       " 'VizLib_Shiny',\n",
       " 'VizLib_D3 js',\n",
       " 'VizLib_Altair',\n",
       " 'VizLib_Bokeh',\n",
       " 'VizLib_Geoplotlib',\n",
       " 'VizLib_Leaflet / Folium',\n",
       " 'VizLib_Pygal',\n",
       " 'VizLib_Dygraphs',\n",
       " 'VizLib_Highcharter',\n",
       " 'VizLib_None',\n",
       " 'VizLib_Other',\n",
       " 'MLExposure',\n",
       " 'MLFramework_Scikit-learn',\n",
       " 'MLFramework_TensorFlow',\n",
       " 'MLFramework_Keras',\n",
       " 'MLFramework_PyTorch',\n",
       " 'MLFramework_Fast.ai',\n",
       " 'MLFramework_Xgboost',\n",
       " 'MLFramework_LightGBM',\n",
       " 'MLFramework_CatBoost',\n",
       " 'MLFramework_Caret',\n",
       " 'MLFramework_Tidymodels',\n",
       " 'MLFramework_JAX',\n",
       " 'MLFramework_PyTorch Lightning',\n",
       " 'MLFramework_Huggingface',\n",
       " 'MLFramework_None',\n",
       " 'MLFramework_Other',\n",
       " 'MLAlgo_Linear or Logistic Regression',\n",
       " 'MLAlgo_Decision Trees or Random Forests',\n",
       " 'MLAlgo_Gradient Boosting Machines (xgboost, lightgbm, etc)',\n",
       " 'MLAlgo_Bayesian Approaches',\n",
       " 'MLAlgo_Evolutionary Approaches',\n",
       " 'MLAlgo_Dense Neural Networks (MLPs, etc)',\n",
       " 'MLAlgo_Convolutional Neural Networks',\n",
       " 'MLAlgo_Generative Adversarial Networks',\n",
       " 'MLAlgo_Recurrent Neural Networks',\n",
       " 'MLAlgo_Transformer Networks (BERT, gpt-3, etc)',\n",
       " 'MLAlgo_Autoencoder Networks (DAE, VAE, etc)',\n",
       " 'MLAlgo_Graph Neural Networks',\n",
       " 'MLAlgo_None',\n",
       " 'MLAlgo_Other',\n",
       " 'CVAlgo_General purpose image/video tools (PIL, cv2, skimage, etc)',\n",
       " 'CVAlgo_Image segmentation methods (U-Net, Mask R-CNN, etc)',\n",
       " 'CVAlgo_Object detection methods (YOLOv6, RetinaNet, etc)',\n",
       " 'CVAlgo_Image classification and other general purpose networks (VGG, Inception, ResNet, ResNeXt, NASNet, EfficientNet, etc)',\n",
       " 'CVAlgo_Generative Networks (GAN, VAE, etc)',\n",
       " 'CVAlgo_Vision transformer networks (ViT, DeiT, BiT, BEiT, Swin, etc)',\n",
       " 'CVAlgo_None',\n",
       " 'CVAlgo_Other',\n",
       " 'NLPAlgo_Word embeddings/vectors (GLoVe, fastText, word2vec)',\n",
       " 'NLPAlgo_Encoder-decoder models (seq2seq, vanilla transformers)',\n",
       " 'NLPAlgo_Contextualized embeddings (ELMo, CoVe)',\n",
       " 'NLPAlgo_Transformer language models (GPT-3, BERT, XLnet, etc)',\n",
       " 'NLPAlgo_None',\n",
       " 'NLPAlgo_Other',\n",
       " 'DownloadPreTrainedWeights_TensorFlow Hub',\n",
       " 'DownloadPreTrainedWeights_PyTorch Hub',\n",
       " 'DownloadPreTrainedWeights_Huggingface Models',\n",
       " 'DownloadPreTrainedWeights_Timm',\n",
       " 'DownloadPreTrainedWeights_Jumpstart',\n",
       " 'DownloadPreTrainedWeights_ONNX models',\n",
       " 'DownloadPreTrainedWeights_NVIDIA NGC models',\n",
       " 'DownloadPreTrainedWeights_Kaggle datasets',\n",
       " 'DownloadPreTrainedWeights_No, I do not download pre-trained model weights on a regular basis',\n",
       " 'DownloadPreTrainedWeights_Other storage services (i.e. google drive)',\n",
       " 'MLReposUsed',\n",
       " 'CurrentTitle',\n",
       " 'Industry',\n",
       " 'CompanySize',\n",
       " 'DSTeamSize',\n",
       " 'IsMLUsedAtWork',\n",
       " 'Q28_1',\n",
       " 'Q28_2',\n",
       " 'Q28_3',\n",
       " 'Q28_4',\n",
       " 'Q28_5',\n",
       " 'Q28_6',\n",
       " 'Q28_7',\n",
       " 'Q28_8',\n",
       " 'AnnualComp(USD)',\n",
       " 'InvestmentInML(USD)',\n",
       " 'CloudProviderUsed_Amazon Web Services (AWS)',\n",
       " 'CloudProviderUsed_Microsoft Azure',\n",
       " 'CloudProviderUsed_Google Cloud Platform (GCP)',\n",
       " 'CloudProviderUsed_IBM Cloud / Red Hat',\n",
       " 'CloudProviderUsed_Oracle Cloud',\n",
       " 'CloudProviderUsed_SAP Cloud',\n",
       " 'CloudProviderUsed_VMware Cloud',\n",
       " 'CloudProviderUsed_Alibaba Cloud',\n",
       " 'CloudProviderUsed_Tencent Cloud',\n",
       " 'CloudProviderUsed_Huawei Cloud',\n",
       " 'CloudProviderUsed_None',\n",
       " 'CloudProviderUsed_Other',\n",
       " 'BestCloudProvider',\n",
       " 'CloudComputeUsed_Amazon Elastic Compute Cloud (EC2)',\n",
       " 'CloudComputeUsed_Microsoft Azure Virtual Machines',\n",
       " 'CloudComputeUsed_Google Cloud Compute Engine',\n",
       " 'CloudComputeUsed_No / None',\n",
       " 'CloudComputeUsed_Other',\n",
       " 'CloudStorageUsed_Microsoft Azure Blob Storage',\n",
       " 'CloudStorageUsed_Microsoft Azure Files',\n",
       " 'CloudStorageUsed_Amazon Simple Storage Service (S3)',\n",
       " 'CloudStorageUsed_Amazon Elastic File System (EFS)',\n",
       " 'CloudStorageUsed_Google Cloud Storage (GCS)',\n",
       " 'CloudStorageUsed_Google Cloud Filestore',\n",
       " 'CloudStorageUsed_No / None',\n",
       " 'CloudStorageUsed_Other',\n",
       " 'DBUsed_MySQL',\n",
       " 'DBUsed_PostgreSQL',\n",
       " 'DBUsed_SQLite',\n",
       " 'DBUsed_Oracle Database',\n",
       " 'DBUsed_MongoDB',\n",
       " 'DBUsed_Snowflake',\n",
       " 'DBUsed_IBM Db2',\n",
       " 'DBUsed_Microsoft SQL Server',\n",
       " 'DBUsed_Microsoft Azure SQL Database',\n",
       " 'DBUsed_Amazon Redshift',\n",
       " 'DBUsed_Amazon RDS',\n",
       " 'DBUsed_Amazon DynamoDB',\n",
       " 'DBUsed_Google Cloud BigQuery',\n",
       " 'DBUsed_Google Cloud SQL',\n",
       " 'DBUsed_None',\n",
       " 'DBUsed_Other',\n",
       " 'BIToolUsed_Amazon QuickSight',\n",
       " 'BIToolUsed_Microsoft Power BI',\n",
       " 'BIToolUsed_Google Data Studio',\n",
       " 'BIToolUsed_Looker',\n",
       " 'BIToolUsed_Tableau',\n",
       " 'BIToolUsed_Qlik Sense',\n",
       " 'BIToolUsed_Domo',\n",
       " 'BIToolUsed_TIBCO Spotfire',\n",
       " 'BIToolUsed_Alteryx',\n",
       " 'BIToolUsed_Sisense',\n",
       " 'BIToolUsed_SAP Analytics Cloud',\n",
       " 'BIToolUsed_Microsoft Azure Synapse',\n",
       " 'BIToolUsed_Thoughtspot',\n",
       " 'BIToolUsed_None',\n",
       " 'BIToolUsed_Other',\n",
       " 'MLaaS_Amazon SageMaker',\n",
       " 'MLaaS_Azure Machine Learning Studio',\n",
       " 'MLaaS_Google Cloud Vertex AI',\n",
       " 'MLaaS_DataRobot',\n",
       " 'MLaaS_Databricks',\n",
       " 'MLaaS_Dataiku',\n",
       " 'MLaaS_Alteryx',\n",
       " 'MLaaS_Rapidminer',\n",
       " 'MLaaS_C3.ai',\n",
       " 'MLaaS_Domino Data Lab',\n",
       " 'MLaaS_H2O AI Cloud',\n",
       " 'MLaaS_No / None',\n",
       " 'MLaaS_Other',\n",
       " 'AutoMLUsed_Google Cloud AutoML',\n",
       " 'AutoMLUsed_H2O Driverless AI',\n",
       " 'AutoMLUsed_Databricks AutoML',\n",
       " 'AutoMLUsed_DataRobot AutoML',\n",
       " 'AutoMLUsed_Amazon Sagemaker Autopilot',\n",
       " 'AutoMLUsed_Azure Automated Machine Learning',\n",
       " 'AutoMLUsed_No / None',\n",
       " 'AutoMLUsed_Other',\n",
       " 'MLDeploymentToolsUsed_TensorFlow Extended (TFX)',\n",
       " 'MLDeploymentToolsUsed_TorchServe',\n",
       " 'MLDeploymentToolsUsed_ONNX Runtime',\n",
       " 'MLDeploymentToolsUsed_Triton Inference Server',\n",
       " 'MLDeploymentToolsUsed_OpenVINO Model Server',\n",
       " 'MLDeploymentToolsUsed_KServe',\n",
       " 'MLDeploymentToolsUsed_BentoML',\n",
       " 'MLDeploymentToolsUsed_Multi Model Server (MMS)',\n",
       " 'MLDeploymentToolsUsed_Seldon Core',\n",
       " 'MLDeploymentToolsUsed_MLflow',\n",
       " 'MLDeploymentToolsUsed_None',\n",
       " 'MLDeploymentToolsUsed_Other',\n",
       " 'MLMonitoringToolUsed_Neptune.ai',\n",
       " 'MLMonitoringToolUsed_Weights & Biases',\n",
       " 'MLMonitoringToolUsed_Comet.ml',\n",
       " 'MLMonitoringToolUsed_TensorBoard',\n",
       " 'MLMonitoringToolUsed_Guild.ai',\n",
       " 'MLMonitoringToolUsed_ClearML',\n",
       " 'MLMonitoringToolUsed_MLflow',\n",
       " 'MLMonitoringToolUsed_Aporia',\n",
       " 'MLMonitoringToolUsed_Evidently AI',\n",
       " 'MLMonitoringToolUsed_Arize',\n",
       " 'MLMonitoringToolUsed_WhyLabs',\n",
       " 'MLMonitoringToolUsed_Fiddler',\n",
       " 'MLMonitoringToolUsed_DVC',\n",
       " 'MLMonitoringToolUsed_No / None',\n",
       " 'MLMonitoringToolUsed_Other',\n",
       " 'ResponsibleAIToolUsed_Google Responsible AI Toolkit (LIT, What-if, Fairness Indicator, etc)',\n",
       " 'ResponsibleAIToolUsed_Microsoft Responsible AI Resources (Fairlearn, Counterfit, InterpretML, etc)',\n",
       " 'ResponsibleAIToolUsed_IBM AI Ethics tools (AI Fairness 360, Adversarial Robustness Toolbox, etc',\n",
       " 'ResponsibleAIToolUsed_Amazon AI Ethics Tools (Clarify, A2I, etc)',\n",
       " 'ResponsibleAIToolUsed_The LinkedIn Fairness Toolkit (LiFT)',\n",
       " 'ResponsibleAIToolUsed_Audit-AI',\n",
       " 'ResponsibleAIToolUsed_Aequitas',\n",
       " 'ResponsibleAIToolUsed_None',\n",
       " 'ResponsibleAIToolUsed_Other',\n",
       " 'HardwareUsed_GPUs',\n",
       " 'HardwareUsed_TPUs',\n",
       " 'HardwareUsed_IPUs',\n",
       " 'HardwareUsed_RDUs',\n",
       " 'HardwareUsed_WSEs',\n",
       " 'HardwareUsed_Trainium Chips',\n",
       " 'HardwareUsed_Inferentia Chips',\n",
       " 'HardwareUsed_None',\n",
       " 'HardwareUsed_Other',\n",
       " 'TPUUsageFrequency',\n",
       " 'DSContentMediaConsumed_Twitter (data science influencers)',\n",
       " \"DSContentMediaConsumed_Email newsletters (Data Elixir, O'Reilly Data & AI, etc)\",\n",
       " 'DSContentMediaConsumed_Reddit (r/machinelearning, etc)',\n",
       " 'DSContentMediaConsumed_Kaggle (notebooks, forums, etc)',\n",
       " 'DSContentMediaConsumed_Course Forums (forums.fast.ai, Coursera forums, etc)',\n",
       " 'DSContentMediaConsumed_YouTube (Kaggle YouTube, Cloud AI Adventures, etc)',\n",
       " 'DSContentMediaConsumed_Podcasts (Chai Time Data Science, O’Reilly Data Show, etc)',\n",
       " 'DSContentMediaConsumed_Blogs (Towards Data Science, Analytics Vidhya, etc)',\n",
       " 'DSContentMediaConsumed_Journal Publications (peer-reviewed journals, conference proceedings, etc)',\n",
       " 'DSContentMediaConsumed_Slack Communities (ods.ai, kagglenoobs, etc)',\n",
       " 'DSContentMediaConsumed_None',\n",
       " 'DSContentMediaConsumed_Other',\n",
       " 'SurveyYear',\n",
       " 'ProgLanguage_Swift',\n",
       " 'Q8',\n",
       " 'IDE_Jupyter (JupyterLab, Jupyter Notebooks, etc)',\n",
       " 'HostedNB_Paperspace / Gradient',\n",
       " 'HostedNB_Binder / JupyterHub',\n",
       " 'HostedNB_Amazon Sagemaker Studio Notebooks',\n",
       " 'HostedNB_Google Cloud Notebooks (AI Platform / Vertex AI)',\n",
       " 'HostedNB_Google Cloud Datalab',\n",
       " 'HostedNB_Zeppelin / Zepl Notebooks',\n",
       " 'HostedNB_Observable Notebooks',\n",
       " 'Q11',\n",
       " 'HardwareUsed_NVIDIA GPUs',\n",
       " 'HardwareUsed_Google Cloud TPUs',\n",
       " 'HardwareUsed_AWS Trainium Chips',\n",
       " 'HardwareUsed_AWS Inferentia Chips',\n",
       " 'MLFramework_MXNet',\n",
       " 'MLFramework_Prophet',\n",
       " 'MLFramework_H2O 3',\n",
       " 'CVAlgo_Object detection methods (YOLOv3, RetinaNet, etc)',\n",
       " 'NLPAlgo_Encoder-decorder models (seq2seq, vanilla transformers)',\n",
       " 'Q24_Part_1',\n",
       " 'Q24_Part_2',\n",
       " 'Q24_Part_3',\n",
       " 'Q24_Part_4',\n",
       " 'Q24_Part_5',\n",
       " 'Q24_Part_6',\n",
       " 'Q24_Part_7',\n",
       " 'Q24_OTHER',\n",
       " 'CloudProviderUsed_Salesforce Cloud',\n",
       " 'CloudStorageUsed_Microsoft Azure Data Lake Storage',\n",
       " 'CloudStorageUsed_Microsoft Azure Disk Storage',\n",
       " 'DBUsed_Microsoft Azure Cosmos DB',\n",
       " 'DBUsed_Amazon Aurora',\n",
       " 'DBUsed_Google Cloud Firestore',\n",
       " 'DBUsed_Google Cloud BigTable',\n",
       " 'DBUsed_Google Cloud Spanner',\n",
       " 'MostUsedBigDataProduct',\n",
       " 'BIToolUsed_Salesforce',\n",
       " 'BIToolUsed_Tableau CRM',\n",
       " 'BIToolUsed_Qlik',\n",
       " 'MostUsedBITool',\n",
       " 'AutoMLFrameworksUsed_Automated data augmentation (e.g. imgaug, albumentations)',\n",
       " 'AutoMLFrameworksUsed_Automated feature engineering/selection (e.g. tpot, boruta_py)',\n",
       " 'AutoMLFrameworksUsed_Automated model selection (e.g. auto-sklearn, xcessiv)',\n",
       " 'AutoMLFrameworksUsed_Automated model architecture searches (e.g. darts, enas)',\n",
       " 'AutoMLFrameworksUsed_Automated hyperparameter tuning (e.g. hyperopt, ray.tune, Vizier)',\n",
       " 'AutoMLFrameworksUsed_Automation of full ML pipelines (e.g. Google AutoML, H2O Driverless AI)',\n",
       " 'AutoMLFrameworksUsed_No / None',\n",
       " 'AutoMLFrameworksUsed_Other',\n",
       " 'MLMonitoringToolUsed_Sacred + Omniboard',\n",
       " 'MLMonitoringToolUsed_Polyaxon',\n",
       " 'MLMonitoringToolUsed_Domino Model Monitor',\n",
       " 'PublishDSMedium_Plotly Dash',\n",
       " 'PublishDSMedium_Streamlit',\n",
       " 'PublishDSMedium_NBViewer',\n",
       " 'PublishDSMedium_GitHub',\n",
       " 'PublishDSMedium_Personal blog',\n",
       " 'PublishDSMedium_Kaggle',\n",
       " 'PublishDSMedium_Colab',\n",
       " 'PublishDSMedium_Shiny',\n",
       " 'PublishDSMedium_I do not share my work publicly',\n",
       " 'PublishDSMedium_Other',\n",
       " 'Q41',\n",
       " 'Q27_B_Part_1',\n",
       " 'Q27_B_Part_2',\n",
       " 'Q27_B_Part_3',\n",
       " 'Q27_B_Part_4',\n",
       " 'Q27_B_Part_5',\n",
       " 'Q27_B_Part_6',\n",
       " 'Q27_B_Part_7',\n",
       " 'Q27_B_Part_8',\n",
       " 'Q27_B_Part_9',\n",
       " 'Q27_B_Part_10',\n",
       " 'Q27_B_Part_11',\n",
       " 'Q27_B_OTHER',\n",
       " 'Q29_B_Part_1',\n",
       " 'Q29_B_Part_2',\n",
       " 'Q29_B_Part_3',\n",
       " 'Q29_B_Part_4',\n",
       " 'Q29_B_OTHER',\n",
       " 'Q30_B_Part_1',\n",
       " 'Q30_B_Part_2',\n",
       " 'Q30_B_Part_3',\n",
       " 'Q30_B_Part_4',\n",
       " 'Q30_B_Part_5',\n",
       " 'Q30_B_Part_6',\n",
       " 'Q30_B_Part_7',\n",
       " 'Q30_B_OTHER',\n",
       " 'Q31_B_Part_1',\n",
       " 'Q31_B_Part_2',\n",
       " 'Q31_B_Part_3',\n",
       " 'Q31_B_Part_4',\n",
       " 'Q31_B_Part_5',\n",
       " 'Q31_B_Part_6',\n",
       " 'Q31_B_Part_7',\n",
       " 'Q31_B_Part_8',\n",
       " 'Q31_B_Part_9',\n",
       " 'Q31_B_OTHER',\n",
       " 'Q32_B_Part_1',\n",
       " 'Q32_B_Part_2',\n",
       " 'Q32_B_Part_3',\n",
       " 'Q32_B_Part_4',\n",
       " 'Q32_B_Part_5',\n",
       " 'Q32_B_Part_6',\n",
       " 'Q32_B_Part_7',\n",
       " 'Q32_B_Part_8',\n",
       " 'Q32_B_Part_9',\n",
       " 'Q32_B_Part_10',\n",
       " 'Q32_B_Part_11',\n",
       " 'Q32_B_Part_12',\n",
       " 'Q32_B_Part_13',\n",
       " 'Q32_B_Part_14',\n",
       " 'Q32_B_Part_15',\n",
       " 'Q32_B_Part_16',\n",
       " 'Q32_B_Part_17',\n",
       " 'Q32_B_Part_18',\n",
       " 'Q32_B_Part_19',\n",
       " 'Q32_B_Part_20',\n",
       " 'Q32_B_OTHER',\n",
       " 'Q34_B_Part_1',\n",
       " 'Q34_B_Part_2',\n",
       " 'Q34_B_Part_3',\n",
       " 'Q34_B_Part_4',\n",
       " 'Q34_B_Part_5',\n",
       " 'Q34_B_Part_6',\n",
       " 'Q34_B_Part_7',\n",
       " 'Q34_B_Part_8',\n",
       " 'Q34_B_Part_9',\n",
       " 'Q34_B_Part_10',\n",
       " 'Q34_B_Part_11',\n",
       " 'Q34_B_Part_12',\n",
       " 'Q34_B_Part_13',\n",
       " 'Q34_B_Part_14',\n",
       " 'Q34_B_Part_15',\n",
       " 'Q34_B_Part_16',\n",
       " 'Q34_B_OTHER',\n",
       " 'Q36_B_Part_1',\n",
       " 'Q36_B_Part_2',\n",
       " 'Q36_B_Part_3',\n",
       " 'Q36_B_Part_4',\n",
       " 'Q36_B_Part_5',\n",
       " 'Q36_B_Part_6',\n",
       " 'Q36_B_Part_7',\n",
       " 'Q36_B_OTHER',\n",
       " 'Q37_B_Part_1',\n",
       " 'Q37_B_Part_2',\n",
       " 'Q37_B_Part_3',\n",
       " 'Q37_B_Part_4',\n",
       " 'Q37_B_Part_5',\n",
       " 'Q37_B_Part_6',\n",
       " 'Q37_B_Part_7',\n",
       " 'Q37_B_OTHER',\n",
       " 'Q38_B_Part_1',\n",
       " 'Q38_B_Part_2',\n",
       " 'Q38_B_Part_3',\n",
       " 'Q38_B_Part_4',\n",
       " 'Q38_B_Part_5',\n",
       " 'Q38_B_Part_6',\n",
       " 'Q38_B_Part_7',\n",
       " 'Q38_B_Part_8',\n",
       " 'Q38_B_Part_9',\n",
       " 'Q38_B_Part_10',\n",
       " 'Q38_B_Part_11',\n",
       " 'Q38_B_OTHER',\n",
       " 'IDE_Visual Studio / Visual Studio Code',\n",
       " 'IDE_Click to write Choice 13',\n",
       " 'HostedNB_Google Cloud AI Platform Notebooks',\n",
       " 'HostedNB_Google Cloud Datalab Notebooks',\n",
       " 'Q23_Part_1',\n",
       " 'Q23_Part_2',\n",
       " 'Q23_Part_3',\n",
       " 'Q23_Part_4',\n",
       " 'Q23_Part_5',\n",
       " 'Q23_Part_6',\n",
       " 'Q23_Part_7',\n",
       " 'Q23_OTHER',\n",
       " 'CloudComputeUsed_Amazon EC2',\n",
       " 'CloudComputeUsed_AWS Lambda',\n",
       " 'CloudComputeUsed_Amazon Elastic Container Service',\n",
       " 'CloudComputeUsed_Azure Cloud Services',\n",
       " 'CloudComputeUsed_Microsoft Azure Container Instances',\n",
       " 'CloudComputeUsed_Azure Functions',\n",
       " 'CloudComputeUsed_Google Cloud Functions',\n",
       " 'CloudComputeUsed_Google Cloud Run',\n",
       " 'CloudComputeUsed_Google Cloud App Engine',\n",
       " 'MLaaS_Amazon Forecast',\n",
       " 'MLaaS_Amazon Rekognition',\n",
       " 'MLaaS_Azure Cognitive Services',\n",
       " 'MLaaS_Google Cloud AI Platform / Google Cloud ML Engine',\n",
       " 'MLaaS_Google Cloud Video AI',\n",
       " 'MLaaS_Google Cloud Natural Language',\n",
       " 'MLaaS_Google Cloud Vision AI',\n",
       " 'DBUsed_PostgresSQL',\n",
       " 'DBUsed_Microsoft Access',\n",
       " 'DBUsed_Microsoft Azure Data Lake Storage',\n",
       " 'DBUsed_Amazon Athena',\n",
       " 'BIToolUsed_Einstein Analytics',\n",
       " 'AutoMLFrameworksUsed_Automation of full ML pipelines (e.g. Google AutoML, H20 Driverless AI)',\n",
       " 'AutoMLUsed_H20 Driverless AI',\n",
       " 'AutoMLUsed_Tpot',\n",
       " 'AutoMLUsed_Auto-Keras',\n",
       " 'AutoMLUsed_Auto-Sklearn',\n",
       " 'AutoMLUsed_Auto_ml',\n",
       " 'AutoMLUsed_Xcessiv',\n",
       " 'AutoMLUsed_MLbox',\n",
       " 'MLMonitoringToolUsed_Trains',\n",
       " 'Q38',\n",
       " 'Q26_B_Part_1',\n",
       " 'Q26_B_Part_2',\n",
       " 'Q26_B_Part_3',\n",
       " 'Q26_B_Part_4',\n",
       " 'Q26_B_Part_5',\n",
       " 'Q26_B_Part_6',\n",
       " 'Q26_B_Part_7',\n",
       " 'Q26_B_Part_8',\n",
       " 'Q26_B_Part_9',\n",
       " 'Q26_B_Part_10',\n",
       " 'Q26_B_Part_11',\n",
       " 'Q26_B_OTHER',\n",
       " 'Q28_B_Part_1',\n",
       " 'Q28_B_Part_2',\n",
       " 'Q28_B_Part_3',\n",
       " 'Q28_B_Part_4',\n",
       " 'Q28_B_Part_5',\n",
       " 'Q28_B_Part_6',\n",
       " 'Q28_B_Part_7',\n",
       " 'Q28_B_Part_8',\n",
       " 'Q28_B_Part_9',\n",
       " 'Q28_B_Part_10',\n",
       " 'Q28_B_OTHER',\n",
       " 'Q29_B_Part_5',\n",
       " 'Q29_B_Part_6',\n",
       " 'Q29_B_Part_7',\n",
       " 'Q29_B_Part_8',\n",
       " 'Q29_B_Part_9',\n",
       " 'Q29_B_Part_10',\n",
       " 'Q29_B_Part_11',\n",
       " 'Q29_B_Part_12',\n",
       " 'Q29_B_Part_13',\n",
       " 'Q29_B_Part_14',\n",
       " 'Q29_B_Part_15',\n",
       " 'Q29_B_Part_16',\n",
       " 'Q29_B_Part_17',\n",
       " 'Q31_B_Part_10',\n",
       " 'Q31_B_Part_11',\n",
       " 'Q31_B_Part_12',\n",
       " 'Q31_B_Part_13',\n",
       " 'Q31_B_Part_14',\n",
       " 'Q33_B_Part_1',\n",
       " 'Q33_B_Part_2',\n",
       " 'Q33_B_Part_3',\n",
       " 'Q33_B_Part_4',\n",
       " 'Q33_B_Part_5',\n",
       " 'Q33_B_Part_6',\n",
       " 'Q33_B_Part_7',\n",
       " 'Q33_B_OTHER',\n",
       " 'Q35_B_Part_1',\n",
       " 'Q35_B_Part_2',\n",
       " 'Q35_B_Part_3',\n",
       " 'Q35_B_Part_4',\n",
       " 'Q35_B_Part_5',\n",
       " 'Q35_B_Part_6',\n",
       " 'Q35_B_Part_7',\n",
       " 'Q35_B_Part_8',\n",
       " 'Q35_B_Part_9',\n",
       " 'Q35_B_Part_10',\n",
       " 'Q35_B_OTHER',\n",
       " 'PID',\n",
       " 'salary']"
      ]
     },
     "execution_count": 321,
     "metadata": {},
     "output_type": "execute_result"
    }
   ],
   "source": [
    "df.columns.tolist()"
   ]
  },
  {
   "cell_type": "markdown",
   "id": "709eb038",
   "metadata": {},
   "source": [
    "## High Level Plan\n",
    "1. Preprocessing for Regression, EDA\n",
    "2. Feature selection\n",
    "3. Models: Linear Regression, Lasso, Ridge, RF regression, XGBoost\n",
    "4. Investigation: Plot of preds vs actual; GLMs: NB regression.\n",
    "5. Modeling results: Table of diff regression models with metrics, SD on k-fold CV\n",
    "6. Interpretability: Feature importance scores; Explain Preds using Shap"
   ]
  },
  {
   "cell_type": "code",
   "execution_count": 318,
   "id": "60148936",
   "metadata": {},
   "outputs": [],
   "source": [
    "order = [\"1,000-1,999\", \"2,000-2,999\", \"3,000-3,999\", \"4,000-4,999\", \"5,000-7,499\", \"7,500-9,999\", \n",
    "         \"10,000-14,999\", \"15,000-19,999\", \"20,000-24,999\", \"25,000-29,999\", \"30,000-39,999\", \"40,000-49,999\", \n",
    "         \"50,000-59,999\", \"60,000-69,999\", \"70,000-79,999\", \"80,000-89,999\", \"90,000-99,999\", \"100,000-124,999\", \n",
    "         \"125,000-149,999\", \"150,000-199,999\", \"200,000-249,999\", \"250,000-299,999\", \"300,000-499,999\", \n",
    "         \"$500,000-999,999\", \">$1,000,000\"]"
   ]
  },
  {
   "cell_type": "code",
   "execution_count": 538,
   "id": "f769071c",
   "metadata": {},
   "outputs": [
    {
     "data": {
      "image/png": "[encoded data removed]",
      "text/plain": [
       "<Figure size 576x576 with 1 Axes>"
      ]
     },
     "metadata": {
      "needs_background": "light"
     },
     "output_type": "display_data"
    }
   ],
   "source": [
    "s = df['AnnualComp(USD)'].value_counts()\n",
    "s = s/len(s)\n",
    "\n",
    "plt.figure(figsize=(8,8))\n",
    "sns.barplot(s.values, s.index, palette='rocket', order=order)\n",
    "plt.show()"
   ]
  },
  {
   "cell_type": "markdown",
   "id": "1c6a65aa",
   "metadata": {},
   "source": [
    "# 1. Preprocessing"
   ]
  },
  {
   "cell_type": "markdown",
   "id": "78de0392",
   "metadata": {},
   "source": [
    "## 1.1 Salary: Categorical -> Numeric "
   ]
  },
  {
   "cell_type": "markdown",
   "id": "ac294b9a",
   "metadata": {},
   "source": [
    "### Problem:\n",
    "The salaries are reported on a categorical scale, and have unequal bin widths. Exp: 1-2k, 2.5-5k, 125k-150k. These need to be converted to a numerical scale."
   ]
  },
  {
   "cell_type": "markdown",
   "id": "ad50fc05",
   "metadata": {},
   "source": [
    "### Possible solutions\n",
    "1. Assume a **uniform distribution** over the lower and upper salary limit. For exp, for salary range 1-2k, sample a salary uniformly between 1-2k.\n",
    "2. Sample a no. s between 0 and 1 from a **Beta distribution** centered at 0.5. Sampled salary = LL + s (UL - LL).\n",
    "3. Get the distribution of salaries from a tech salaries dataset. Normalize the densities in a constrained range and sample from the constrained distribution using **Inverse Transform sampling** (for exp, normalize densities bw 125k-150k to integrate to 1, and sample from this distribution)."
   ]
  },
  {
   "cell_type": "code",
   "execution_count": 246,
   "id": "6ed7bfd8",
   "metadata": {},
   "outputs": [
    {
     "data": {
      "text/html": [
       "<div>\n",
       "<style scoped>\n",
       "    .dataframe tbody tr th:only-of-type {\n",
       "        vertical-align: middle;\n",
       "    }\n",
       "\n",
       "    .dataframe tbody tr th {\n",
       "        vertical-align: top;\n",
       "    }\n",
       "\n",
       "    .dataframe thead th {\n",
       "        text-align: right;\n",
       "    }\n",
       "</style>\n",
       "<table border=\"1\" class=\"dataframe\">\n",
       "  <thead>\n",
       "    <tr style=\"text-align: right;\">\n",
       "      <th></th>\n",
       "      <th>work_year</th>\n",
       "      <th>experience_level</th>\n",
       "      <th>employment_type</th>\n",
       "      <th>job_title</th>\n",
       "      <th>salary</th>\n",
       "      <th>salary_currency</th>\n",
       "      <th>salary_in_usd</th>\n",
       "      <th>employee_residence</th>\n",
       "      <th>remote_ratio</th>\n",
       "      <th>company_location</th>\n",
       "      <th>company_size</th>\n",
       "    </tr>\n",
       "  </thead>\n",
       "  <tbody>\n",
       "    <tr>\n",
       "      <th>0</th>\n",
       "      <td>2022</td>\n",
       "      <td>SE</td>\n",
       "      <td>FT</td>\n",
       "      <td>Data Analyst</td>\n",
       "      <td>177000</td>\n",
       "      <td>USD</td>\n",
       "      <td>177000</td>\n",
       "      <td>US</td>\n",
       "      <td>0</td>\n",
       "      <td>US</td>\n",
       "      <td>M</td>\n",
       "    </tr>\n",
       "    <tr>\n",
       "      <th>1</th>\n",
       "      <td>2022</td>\n",
       "      <td>SE</td>\n",
       "      <td>FT</td>\n",
       "      <td>Data Analyst</td>\n",
       "      <td>131000</td>\n",
       "      <td>USD</td>\n",
       "      <td>131000</td>\n",
       "      <td>US</td>\n",
       "      <td>0</td>\n",
       "      <td>US</td>\n",
       "      <td>M</td>\n",
       "    </tr>\n",
       "    <tr>\n",
       "      <th>2</th>\n",
       "      <td>2022</td>\n",
       "      <td>SE</td>\n",
       "      <td>FT</td>\n",
       "      <td>Applied Scientist</td>\n",
       "      <td>205000</td>\n",
       "      <td>USD</td>\n",
       "      <td>205000</td>\n",
       "      <td>US</td>\n",
       "      <td>100</td>\n",
       "      <td>US</td>\n",
       "      <td>M</td>\n",
       "    </tr>\n",
       "  </tbody>\n",
       "</table>\n",
       "</div>"
      ],
      "text/plain": [
       "   work_year experience_level employment_type          job_title  salary  \\\n",
       "0       2022               SE              FT       Data Analyst  177000   \n",
       "1       2022               SE              FT       Data Analyst  131000   \n",
       "2       2022               SE              FT  Applied Scientist  205000   \n",
       "\n",
       "  salary_currency  salary_in_usd employee_residence  remote_ratio  \\\n",
       "0             USD         177000                 US             0   \n",
       "1             USD         131000                 US             0   \n",
       "2             USD         205000                 US           100   \n",
       "\n",
       "  company_location company_size  \n",
       "0               US            M  \n",
       "1               US            M  \n",
       "2               US            M  "
      ]
     },
     "execution_count": 246,
     "metadata": {},
     "output_type": "execute_result"
    }
   ],
   "source": [
    "sal = pd.read_csv(\"./salaries.csv\")\n",
    "sal[sal['company_location'] == 'US']\n",
    "sal.head(3)"
   ]
  },
  {
   "cell_type": "code",
   "execution_count": 247,
   "id": "525f962b",
   "metadata": {},
   "outputs": [
    {
     "data": {
      "text/plain": [
       "2022    1163\n",
       "2021     224\n",
       "2020      75\n",
       "Name: work_year, dtype: int64"
      ]
     },
     "execution_count": 247,
     "metadata": {},
     "output_type": "execute_result"
    }
   ],
   "source": [
    "sal['work_year'].value_counts()"
   ]
  },
  {
   "cell_type": "code",
   "execution_count": 248,
   "id": "7d2c1a8a",
   "metadata": {},
   "outputs": [
    {
     "data": {
      "image/png": "[encoded data removed]",
      "text/plain": [
       "<Figure size 360x216 with 1 Axes>"
      ]
     },
     "metadata": {
      "needs_background": "light"
     },
     "output_type": "display_data"
    }
   ],
   "source": [
    "plt.figure(figsize=(5,3))\n",
    "sns.distplot(sal['salary_in_usd'])\n",
    "plt.title(\"Data Science jobs: Salary Distribution\", size=16)\n",
    "plt.show()"
   ]
  },
  {
   "cell_type": "code",
   "execution_count": 249,
   "id": "43211aa2",
   "metadata": {},
   "outputs": [],
   "source": [
    "def compute_cdf(salaries): # Empirical CDF\n",
    "    cdf = np.cumsum(salaries)\n",
    "    cdf = (cdf - cdf.min())/(cdf.max() - cdf.min()) # Normalize from 0 to 1\n",
    "    return cdf"
   ]
  },
  {
   "cell_type": "code",
   "execution_count": 250,
   "id": "08c6a469",
   "metadata": {},
   "outputs": [
    {
     "data": {
      "text/plain": [
       "array(80000.)"
      ]
     },
     "execution_count": 250,
     "metadata": {},
     "output_type": "execute_result"
    }
   ],
   "source": [
    "# Inverse Transform Sampling\n",
    "salaries = np.sort(sal['salary_in_usd'])\n",
    "cdf = compute_cdf(salaries) # Empirical CDF\n",
    "inverse_cdf = scipy.interpolate.interp1d(cdf, salaries) # Interpolate values of salary for all vals bw 0 & 1\n",
    "inverse_cdf(0.1) # Inverse transform sampling to sample from the required distribution"
   ]
  },
  {
   "cell_type": "code",
   "execution_count": 251,
   "id": "98922fba",
   "metadata": {},
   "outputs": [
    {
     "data": {
      "image/png": "[encoded data removed]",
      "text/plain": [
       "<Figure size 432x288 with 1 Axes>"
      ]
     },
     "metadata": {
      "needs_background": "light"
     },
     "output_type": "display_data"
    }
   ],
   "source": [
    "# Suppose we want samples for salary category 125k-150k\n",
    "sal_1 = salaries[(salaries >= 125000) & (salaries < 150000)]\n",
    "sal_1 = np.sort(sal_1)\n",
    "cdf = compute_cdf(sal_1)\n",
    "inverse_cdf = scipy.interpolate.interp1d(cdf, sal_1)\n",
    "\n",
    "# Inverse Transform Sampling\n",
    "u = np.random.random(size=10**5) # Uniform samples\n",
    "\n",
    "plt.figure(figsize=(6,4))\n",
    "sns.distplot(sal_1, color='steelblue', label='original', bins=50)\n",
    "sns.distplot(inverse_cdf(u), color='tomato', label='estimated')\n",
    "plt.xlim(125000, 150000)\n",
    "plt.title(\"Salary Distribution in 125k - 150k\", size=16)\n",
    "plt.legend()\n",
    "plt.show()"
   ]
  },
  {
   "cell_type": "code",
   "execution_count": 252,
   "id": "7e75b41f",
   "metadata": {},
   "outputs": [],
   "source": [
    "salary_grps = [(1000,1999), (2000,2999), (3000,3999), (4000,4999), (5000,7499), (7500,9999), (10000,14999),\n",
    "        (15000,19999), (20000,24999), (25000,29999), (30000,39999), (40000,49999), (50000,59999), (60000,69999),\n",
    "        (70000,79999), (80000,89999), (90000,99999), (100000,124999), (125000,149999), (150000,199999),\n",
    "        (200000,249999), (250000,299999), (300000,499999), (500000,999999), (1000000,1000000)]"
   ]
  },
  {
   "cell_type": "code",
   "execution_count": 253,
   "id": "bea7aea0",
   "metadata": {},
   "outputs": [],
   "source": [
    "inverse_cdfs = {}\n",
    "salaries = np.sort(sal['salary_in_usd'])\n",
    "\n",
    "for ll, ul in salary_grps:\n",
    "    sals = salaries[(salaries >= ll) & (salaries < ul)]\n",
    "    if len(sals) < 20:\n",
    "        #print(ll, len(sals))\n",
    "        continue\n",
    "    sals = np.insert(sals, 0, ll)\n",
    "    sals = np.insert(sals, len(sals), ul)\n",
    "    sals = np.sort(sals)\n",
    "    cdf = compute_cdf(sals)\n",
    "    inverse_cdf = scipy.interpolate.interp1d(cdf, sals)\n",
    "    inverse_cdfs[ll] = inverse_cdf"
   ]
  },
  {
   "cell_type": "code",
   "execution_count": 254,
   "id": "7cda807a",
   "metadata": {},
   "outputs": [],
   "source": [
    "def sample_salary(sal_categ, salary_grps, inverse_cdfs):\n",
    "    if sal_categ == \"> $500,000\":\n",
    "        return np.random.uniform(500000, 1000000)\n",
    "    \n",
    "    elif sal_categ == \">$1,000,000\":\n",
    "        return np.random.uniform(1000000, 1500000)\n",
    "    \n",
    "    else:\n",
    "        sal_categ = sal_categ.replace(',', '').replace('$', '')\n",
    "        sal_categ = sal_categ.strip()\n",
    "\n",
    "        lims = sal_categ.split('-')\n",
    "        ll = int(lims[0])\n",
    "        ul = int(lims[1])\n",
    "\n",
    "        if(ll in inverse_cdfs):\n",
    "            u = np.random.uniform(0,1) # Uniform sample bw 0, 1\n",
    "            return inverse_cdfs[ll](u)\n",
    "\n",
    "            return np.random.uniform(ll, ul) # If insufficient no. of samples, assume uniform distribution"
   ]
  },
  {
   "cell_type": "code",
   "execution_count": 255,
   "id": "07e7a28c",
   "metadata": {},
   "outputs": [],
   "source": [
    "df['salary'] = df['AnnualComp(USD)'].apply(lambda sal: sample_salary(sal, salary_grps, inverse_cdfs))"
   ]
  },
  {
   "cell_type": "code",
   "execution_count": 256,
   "id": "b79e5609",
   "metadata": {},
   "outputs": [
    {
     "data": {
      "image/png": "[encoded data removed]",
      "text/plain": [
       "<Figure size 360x216 with 1 Axes>"
      ]
     },
     "metadata": {
      "needs_background": "light"
     },
     "output_type": "display_data"
    }
   ],
   "source": [
    "plt.figure(figsize=(5,3))\n",
    "sns.distplot(df['salary'])\n",
    "plt.title(\"Salary Distribution (Numeric)\", size=16)\n",
    "plt.show()"
   ]
  },
  {
   "cell_type": "markdown",
   "id": "1daa6242",
   "metadata": {},
   "source": [
    "## Feature Engineering"
   ]
  },
  {
   "cell_type": "code",
   "execution_count": 259,
   "id": "542a925e",
   "metadata": {},
   "outputs": [
    {
     "data": {
      "text/html": [
       "<div>\n",
       "<style scoped>\n",
       "    .dataframe tbody tr th:only-of-type {\n",
       "        vertical-align: middle;\n",
       "    }\n",
       "\n",
       "    .dataframe tbody tr th {\n",
       "        vertical-align: top;\n",
       "    }\n",
       "\n",
       "    .dataframe thead th {\n",
       "        text-align: right;\n",
       "    }\n",
       "</style>\n",
       "<table border=\"1\" class=\"dataframe\">\n",
       "  <thead>\n",
       "    <tr style=\"text-align: right;\">\n",
       "      <th></th>\n",
       "      <th>PID</th>\n",
       "      <th>CurrentTitle</th>\n",
       "      <th>Age</th>\n",
       "      <th>NumCoursePlatforms</th>\n",
       "      <th>EduOrdinal</th>\n",
       "      <th>ProgExpOrdinal</th>\n",
       "      <th>NumProgLanguages</th>\n",
       "      <th>MLExpOrdinal</th>\n",
       "      <th>NumMLFrameworks</th>\n",
       "      <th>NumTransferLearning</th>\n",
       "      <th>...</th>\n",
       "      <th>UsedGraphModels</th>\n",
       "      <th>UsedGCP</th>\n",
       "      <th>UsedAWS</th>\n",
       "      <th>UsedAzure</th>\n",
       "      <th>UsedRelationalDBs</th>\n",
       "      <th>UsedNonRelationalDBs</th>\n",
       "      <th>UsedPowerBI</th>\n",
       "      <th>UsedTableau</th>\n",
       "      <th>UsedGPU</th>\n",
       "      <th>UsedE2EPipelineAutomation</th>\n",
       "    </tr>\n",
       "  </thead>\n",
       "  <tbody>\n",
       "    <tr>\n",
       "      <th>0</th>\n",
       "      <td>2_2020</td>\n",
       "      <td>Data Engineer</td>\n",
       "      <td>30-34</td>\n",
       "      <td>3</td>\n",
       "      <td>3.0</td>\n",
       "      <td>5.0</td>\n",
       "      <td>3.0</td>\n",
       "      <td>2.0</td>\n",
       "      <td>4.0</td>\n",
       "      <td>0.0</td>\n",
       "      <td>...</td>\n",
       "      <td>0.0</td>\n",
       "      <td>1</td>\n",
       "      <td>1</td>\n",
       "      <td>1</td>\n",
       "      <td>1</td>\n",
       "      <td>0</td>\n",
       "      <td>1</td>\n",
       "      <td>1</td>\n",
       "      <td>1</td>\n",
       "      <td>0</td>\n",
       "    </tr>\n",
       "    <tr>\n",
       "      <th>1</th>\n",
       "      <td>4_2020</td>\n",
       "      <td>Data Scientist</td>\n",
       "      <td>30-34</td>\n",
       "      <td>4</td>\n",
       "      <td>3.0</td>\n",
       "      <td>5.0</td>\n",
       "      <td>3.0</td>\n",
       "      <td>4.0</td>\n",
       "      <td>4.0</td>\n",
       "      <td>0.0</td>\n",
       "      <td>...</td>\n",
       "      <td>0.0</td>\n",
       "      <td>0</td>\n",
       "      <td>1</td>\n",
       "      <td>0</td>\n",
       "      <td>1</td>\n",
       "      <td>0</td>\n",
       "      <td>0</td>\n",
       "      <td>1</td>\n",
       "      <td>0</td>\n",
       "      <td>0</td>\n",
       "    </tr>\n",
       "    <tr>\n",
       "      <th>2</th>\n",
       "      <td>6_2020</td>\n",
       "      <td>Data Analyst</td>\n",
       "      <td>30-34</td>\n",
       "      <td>0</td>\n",
       "      <td>2.0</td>\n",
       "      <td>1.0</td>\n",
       "      <td>2.0</td>\n",
       "      <td>0.0</td>\n",
       "      <td>0.0</td>\n",
       "      <td>0.0</td>\n",
       "      <td>...</td>\n",
       "      <td>0.0</td>\n",
       "      <td>0</td>\n",
       "      <td>0</td>\n",
       "      <td>0</td>\n",
       "      <td>0</td>\n",
       "      <td>0</td>\n",
       "      <td>0</td>\n",
       "      <td>0</td>\n",
       "      <td>0</td>\n",
       "      <td>0</td>\n",
       "    </tr>\n",
       "  </tbody>\n",
       "</table>\n",
       "<p>3 rows × 56 columns</p>\n",
       "</div>"
      ],
      "text/plain": [
       "      PID    CurrentTitle    Age  NumCoursePlatforms  EduOrdinal  \\\n",
       "0  2_2020   Data Engineer  30-34                   3         3.0   \n",
       "1  4_2020  Data Scientist  30-34                   4         3.0   \n",
       "2  6_2020    Data Analyst  30-34                   0         2.0   \n",
       "\n",
       "   ProgExpOrdinal  NumProgLanguages  MLExpOrdinal  NumMLFrameworks  \\\n",
       "0             5.0               3.0           2.0              4.0   \n",
       "1             5.0               3.0           4.0              4.0   \n",
       "2             1.0               2.0           0.0              0.0   \n",
       "\n",
       "   NumTransferLearning  ...  UsedGraphModels  UsedGCP  UsedAWS  UsedAzure  \\\n",
       "0                  0.0  ...              0.0        1        1          1   \n",
       "1                  0.0  ...              0.0        0        1          0   \n",
       "2                  0.0  ...              0.0        0        0          0   \n",
       "\n",
       "   UsedRelationalDBs  UsedNonRelationalDBs  UsedPowerBI  UsedTableau  UsedGPU  \\\n",
       "0                  1                     0            1            1        1   \n",
       "1                  1                     0            0            1        0   \n",
       "2                  0                     0            0            0        0   \n",
       "\n",
       "   UsedE2EPipelineAutomation  \n",
       "0                          0  \n",
       "1                          0  \n",
       "2                          0  \n",
       "\n",
       "[3 rows x 56 columns]"
      ]
     },
     "execution_count": 259,
     "metadata": {},
     "output_type": "execute_result"
    }
   ],
   "source": [
    "feature_df = pd.read_csv(\n",
    "    \"./Kaggle-Data-Science-ML-Survey-Analysis/data/processed/DS-MLE-DA-DE-RS-FeatureEngineered.csv\")\n",
    "feature_df.head(3)"
   ]
  },
  {
   "cell_type": "code",
   "execution_count": 263,
   "id": "d982a24e",
   "metadata": {},
   "outputs": [
    {
     "data": {
      "text/plain": [
       "Index(['PID', 'CurrentTitle', 'Age', 'NumCoursePlatforms', 'EduOrdinal',\n",
       "       'ProgExpOrdinal', 'NumProgLanguages', 'MLExpOrdinal', 'NumMLFrameworks',\n",
       "       'NumTransferLearning', 'NumCloudProvidersUsed', 'NumCloudComputeUsed',\n",
       "       'NumCloudStorageUsed', 'NumBIToolsUsed', 'NumMLaaSToolsUsed',\n",
       "       'NumAutoMLUsed', 'NumMLDeploymentToolsUsed', 'NumMLMonitoringToolUsed',\n",
       "       'NumHardwareUsed', 'TPUUsageOrdinal', 'NumDSContentMediaConsumed',\n",
       "       'NumStepsOfPipelineAutomated', 'CompletedUniDegree', 'UsedPython',\n",
       "       'UsedR', 'UsedSQL', 'UsedJupyter', 'UsedPyViz', 'UsedRViz', 'UsedJSViz',\n",
       "       'UsedSKlearn', 'UsedTFKeras', 'UsedPyTorch', 'UsedHF', 'UsedFastAI',\n",
       "       'UsedLinearModels', 'UsedTreeModels', 'UsedGBModels',\n",
       "       'UsedBayesianModels', 'UsedEvolutionaryModels', 'UsedNNModels',\n",
       "       'UsedCNNModels', 'UsedGANModels', 'UsedTransformerModels',\n",
       "       'UsedAEModels', 'UsedRNNModels', 'UsedGraphModels', 'UsedGCP',\n",
       "       'UsedAWS', 'UsedAzure', 'UsedRelationalDBs', 'UsedNonRelationalDBs',\n",
       "       'UsedPowerBI', 'UsedTableau', 'UsedGPU', 'UsedE2EPipelineAutomation'],\n",
       "      dtype='object')"
      ]
     },
     "execution_count": 263,
     "metadata": {},
     "output_type": "execute_result"
    }
   ],
   "source": [
    "feature_df.columns"
   ]
  },
  {
   "cell_type": "code",
   "execution_count": 261,
   "id": "7a46bfb5",
   "metadata": {},
   "outputs": [
    {
     "data": {
      "text/plain": [
       "4763"
      ]
     },
     "execution_count": 261,
     "metadata": {},
     "output_type": "execute_result"
    }
   ],
   "source": [
    "len(df)"
   ]
  },
  {
   "cell_type": "code",
   "execution_count": 294,
   "id": "dc97a19a",
   "metadata": {},
   "outputs": [
    {
     "data": {
      "text/html": [
       "<div>\n",
       "<style scoped>\n",
       "    .dataframe tbody tr th:only-of-type {\n",
       "        vertical-align: middle;\n",
       "    }\n",
       "\n",
       "    .dataframe tbody tr th {\n",
       "        vertical-align: top;\n",
       "    }\n",
       "\n",
       "    .dataframe thead th {\n",
       "        text-align: right;\n",
       "    }\n",
       "</style>\n",
       "<table border=\"1\" class=\"dataframe\">\n",
       "  <thead>\n",
       "    <tr style=\"text-align: right;\">\n",
       "      <th></th>\n",
       "      <th>PID</th>\n",
       "      <th>salary</th>\n",
       "      <th>CurrentTitle</th>\n",
       "      <th>Age</th>\n",
       "      <th>NumCoursePlatforms</th>\n",
       "      <th>EduOrdinal</th>\n",
       "      <th>ProgExpOrdinal</th>\n",
       "      <th>NumProgLanguages</th>\n",
       "      <th>MLExpOrdinal</th>\n",
       "      <th>NumMLFrameworks</th>\n",
       "      <th>...</th>\n",
       "      <th>UsedGraphModels</th>\n",
       "      <th>UsedGCP</th>\n",
       "      <th>UsedAWS</th>\n",
       "      <th>UsedAzure</th>\n",
       "      <th>UsedRelationalDBs</th>\n",
       "      <th>UsedNonRelationalDBs</th>\n",
       "      <th>UsedPowerBI</th>\n",
       "      <th>UsedTableau</th>\n",
       "      <th>UsedGPU</th>\n",
       "      <th>UsedE2EPipelineAutomation</th>\n",
       "    </tr>\n",
       "  </thead>\n",
       "  <tbody>\n",
       "    <tr>\n",
       "      <th>0</th>\n",
       "      <td>2_2020</td>\n",
       "      <td>101228.534003</td>\n",
       "      <td>Data Engineer</td>\n",
       "      <td>30-34</td>\n",
       "      <td>3</td>\n",
       "      <td>3.0</td>\n",
       "      <td>5.0</td>\n",
       "      <td>3.0</td>\n",
       "      <td>2.0</td>\n",
       "      <td>4.0</td>\n",
       "      <td>...</td>\n",
       "      <td>0.0</td>\n",
       "      <td>1</td>\n",
       "      <td>1</td>\n",
       "      <td>1</td>\n",
       "      <td>1</td>\n",
       "      <td>0</td>\n",
       "      <td>1</td>\n",
       "      <td>1</td>\n",
       "      <td>1</td>\n",
       "      <td>0</td>\n",
       "    </tr>\n",
       "    <tr>\n",
       "      <th>1</th>\n",
       "      <td>4_2020</td>\n",
       "      <td>144000.000000</td>\n",
       "      <td>Data Scientist</td>\n",
       "      <td>30-34</td>\n",
       "      <td>4</td>\n",
       "      <td>3.0</td>\n",
       "      <td>5.0</td>\n",
       "      <td>3.0</td>\n",
       "      <td>4.0</td>\n",
       "      <td>4.0</td>\n",
       "      <td>...</td>\n",
       "      <td>0.0</td>\n",
       "      <td>0</td>\n",
       "      <td>1</td>\n",
       "      <td>0</td>\n",
       "      <td>1</td>\n",
       "      <td>0</td>\n",
       "      <td>0</td>\n",
       "      <td>1</td>\n",
       "      <td>0</td>\n",
       "      <td>0</td>\n",
       "    </tr>\n",
       "    <tr>\n",
       "      <th>2</th>\n",
       "      <td>12_2020</td>\n",
       "      <td>34750.771364</td>\n",
       "      <td>Research Scientist</td>\n",
       "      <td>35-39</td>\n",
       "      <td>0</td>\n",
       "      <td>4.0</td>\n",
       "      <td>2.0</td>\n",
       "      <td>1.0</td>\n",
       "      <td>1.0</td>\n",
       "      <td>1.0</td>\n",
       "      <td>...</td>\n",
       "      <td>0.0</td>\n",
       "      <td>0</td>\n",
       "      <td>0</td>\n",
       "      <td>0</td>\n",
       "      <td>0</td>\n",
       "      <td>0</td>\n",
       "      <td>0</td>\n",
       "      <td>0</td>\n",
       "      <td>0</td>\n",
       "      <td>0</td>\n",
       "    </tr>\n",
       "  </tbody>\n",
       "</table>\n",
       "<p>3 rows × 57 columns</p>\n",
       "</div>"
      ],
      "text/plain": [
       "       PID         salary        CurrentTitle    Age  NumCoursePlatforms  \\\n",
       "0   2_2020  101228.534003       Data Engineer  30-34                   3   \n",
       "1   4_2020  144000.000000      Data Scientist  30-34                   4   \n",
       "2  12_2020   34750.771364  Research Scientist  35-39                   0   \n",
       "\n",
       "   EduOrdinal  ProgExpOrdinal  NumProgLanguages  MLExpOrdinal  \\\n",
       "0         3.0             5.0               3.0           2.0   \n",
       "1         3.0             5.0               3.0           4.0   \n",
       "2         4.0             2.0               1.0           1.0   \n",
       "\n",
       "   NumMLFrameworks  ...  UsedGraphModels  UsedGCP  UsedAWS  UsedAzure  \\\n",
       "0              4.0  ...              0.0        1        1          1   \n",
       "1              4.0  ...              0.0        0        1          0   \n",
       "2              1.0  ...              0.0        0        0          0   \n",
       "\n",
       "   UsedRelationalDBs  UsedNonRelationalDBs  UsedPowerBI  UsedTableau  UsedGPU  \\\n",
       "0                  1                     0            1            1        1   \n",
       "1                  1                     0            0            1        0   \n",
       "2                  0                     0            0            0        0   \n",
       "\n",
       "   UsedE2EPipelineAutomation  \n",
       "0                          0  \n",
       "1                          0  \n",
       "2                          0  \n",
       "\n",
       "[3 rows x 57 columns]"
      ]
     },
     "execution_count": 294,
     "metadata": {},
     "output_type": "execute_result"
    }
   ],
   "source": [
    "df_merged = df[[\"PID\", \"salary\"]].merge(feature_df, on=\"PID\")\n",
    "df_merged = df_merged.dropna(subset=[\"salary\"])\n",
    "df_merged.head(3)"
   ]
  },
  {
   "cell_type": "code",
   "execution_count": 397,
   "id": "b35d0d7c",
   "metadata": {},
   "outputs": [
    {
     "data": {
      "text/plain": [
       "(2363, 57)"
      ]
     },
     "execution_count": 397,
     "metadata": {},
     "output_type": "execute_result"
    }
   ],
   "source": [
    "df_merged.shape"
   ]
  },
  {
   "cell_type": "code",
   "execution_count": 378,
   "id": "55226924",
   "metadata": {},
   "outputs": [],
   "source": [
    "enc_age = OrdinalEncoder(categories=[np.sort(df_merged[\"Age\"].unique())])\n",
    "df_merged[\"Age_categ\"] = enc_age.fit_transform(df_merged[\"Age\"].to_numpy().reshape(-1,1))\n",
    "df_merged = df_merged.drop(\"Age\", axis=1)"
   ]
  },
  {
   "cell_type": "code",
   "execution_count": 394,
   "id": "6a61fbbb",
   "metadata": {},
   "outputs": [
    {
     "data": {
      "text/html": [
       "<div>\n",
       "<style scoped>\n",
       "    .dataframe tbody tr th:only-of-type {\n",
       "        vertical-align: middle;\n",
       "    }\n",
       "\n",
       "    .dataframe tbody tr th {\n",
       "        vertical-align: top;\n",
       "    }\n",
       "\n",
       "    .dataframe thead th {\n",
       "        text-align: right;\n",
       "    }\n",
       "</style>\n",
       "<table border=\"1\" class=\"dataframe\">\n",
       "  <thead>\n",
       "    <tr style=\"text-align: right;\">\n",
       "      <th></th>\n",
       "      <th>Data Engineer</th>\n",
       "      <th>Data Scientist</th>\n",
       "      <th>Machine Learning Engineer</th>\n",
       "      <th>Research Scientist</th>\n",
       "    </tr>\n",
       "  </thead>\n",
       "  <tbody>\n",
       "    <tr>\n",
       "      <th>0</th>\n",
       "      <td>1.0</td>\n",
       "      <td>0.0</td>\n",
       "      <td>0.0</td>\n",
       "      <td>0.0</td>\n",
       "    </tr>\n",
       "    <tr>\n",
       "      <th>1</th>\n",
       "      <td>0.0</td>\n",
       "      <td>1.0</td>\n",
       "      <td>0.0</td>\n",
       "      <td>0.0</td>\n",
       "    </tr>\n",
       "    <tr>\n",
       "      <th>2</th>\n",
       "      <td>0.0</td>\n",
       "      <td>0.0</td>\n",
       "      <td>0.0</td>\n",
       "      <td>1.0</td>\n",
       "    </tr>\n",
       "  </tbody>\n",
       "</table>\n",
       "</div>"
      ],
      "text/plain": [
       "   Data Engineer  Data Scientist  Machine Learning Engineer  \\\n",
       "0            1.0             0.0                        0.0   \n",
       "1            0.0             1.0                        0.0   \n",
       "2            0.0             0.0                        0.0   \n",
       "\n",
       "   Research Scientist  \n",
       "0                 0.0  \n",
       "1                 0.0  \n",
       "2                 1.0  "
      ]
     },
     "execution_count": 394,
     "metadata": {},
     "output_type": "execute_result"
    }
   ],
   "source": [
    "ohe_job = OneHotEncoder(drop='first')\n",
    "title_ohe_df = ohe_job.fit_transform(np.array(df_merged[\"CurrentTitle\"]).reshape(-1,1)).toarray()\n",
    "job_titles = ohe_job.categories_[0][1:]\n",
    "title_ohe_df = pd.DataFrame(title_ohe_df, columns = job_titles)\n",
    "title_ohe_df.head(3) # OHE For linear models"
   ]
  },
  {
   "cell_type": "code",
   "execution_count": null,
   "id": "0acb8af1",
   "metadata": {},
   "outputs": [],
   "source": []
  },
  {
   "cell_type": "code",
   "execution_count": 402,
   "id": "7a97884e",
   "metadata": {},
   "outputs": [],
   "source": [
    "CATEGORICAL_FEATURES = [\"Age\", \"CurrentTitle\"]\n",
    "\n",
    "BINARY_FEATURES = [\"CompletedUniDegree\", \"UsedPython\", \"UsedR\", \"UsedSQL\", \"UsedJupyter\", \"UsedPyViz\", \"UsedRViz\",\n",
    "                   \"UsedJSViz\", \"UsedSKlearn\", \"UsedTFKeras\", \"UsedPyTorch\", \"UsedHF\", \"UsedFastAI\", \n",
    "                   \"UsedLinearModels\",\"UsedTreeModels\",\"UsedGBModels\",\"UsedBayesianModels\",\n",
    "                   \"UsedEvolutionaryModels\",\"UsedNNModels\",\"UsedCNNModels\",\"UsedGANModels\",\n",
    "                   \"UsedTransformerModels\",\"UsedAEModels\",\"UsedRNNModels\",\"UsedGraphModels\", \"UsedGCP\", \n",
    "                   \"UsedAWS\", \"UsedAzure\", \"UsedRelationalDBs\",\"UsedNonRelationalDBs\", \"UsedPowerBI\",\n",
    "                   \"UsedTableau\", \"UsedGPU\", \"UsedE2EPipelineAutomation\", \n",
    "#                    \"Data Engineer\", \"Data Scientist\", \"Machine Learning Engineer\", \"Research Scientist\"\n",
    "                  ]\n",
    "\n",
    "NUMERICAL_FEATURES = [\"NumCoursePlatforms\", \"EduOrdinal\", \"ProgExpOrdinal\", \"NumProgLanguages\", \"MLExpOrdinal\", \n",
    "                      \"NumMLFrameworks\", \"NumTransferLearning\", \"NumCloudProvidersUsed\", \"NumCloudComputeUsed\", \n",
    "                      \"NumCloudStorageUsed\", \"NumBIToolsUsed\", \"NumMLaaSToolsUsed\", \"NumAutoMLUsed\", \n",
    "                      \"NumMLDeploymentToolsUsed\", \"NumMLMonitoringToolUsed\", \"NumHardwareUsed\", \n",
    "                      \"TPUUsageOrdinal\", \"NumDSContentMediaConsumed\", \"NumStepsOfPipelineAutomated\"]"
   ]
  },
  {
   "cell_type": "markdown",
   "id": "90b57103",
   "metadata": {},
   "source": [
    "### Numeric features most correlated to Salary"
   ]
  },
  {
   "cell_type": "code",
   "execution_count": 403,
   "id": "b8d1a0ae",
   "metadata": {},
   "outputs": [
    {
     "data": {
      "text/plain": [
       "MLExpOrdinal                   0.308219\n",
       "ProgExpOrdinal                 0.268608\n",
       "NumHardwareUsed                0.189866\n",
       "NumMLFrameworks                0.167314\n",
       "NumCloudStorageUsed            0.162663\n",
       "NumCloudProvidersUsed          0.157257\n",
       "NumStepsOfPipelineAutomated    0.147373\n",
       "NumMLMonitoringToolUsed        0.146176\n",
       "TPUUsageOrdinal                0.141245\n",
       "NumCloudComputeUsed            0.138601\n",
       "NumMLaaSToolsUsed              0.131786\n",
       "NumAutoMLUsed                  0.103165\n",
       "NumBIToolsUsed                 0.094550\n",
       "NumProgLanguages               0.088345\n",
       "NumTransferLearning            0.080183\n",
       "Name: salary, dtype: float64"
      ]
     },
     "execution_count": 403,
     "metadata": {},
     "output_type": "execute_result"
    }
   ],
   "source": [
    "df_merged[NUMERICAL_FEATURES + [\"salary\"]].corr()['salary'].sort_values(ascending=False)[1:16]"
   ]
  },
  {
   "cell_type": "markdown",
   "id": "7d71025c",
   "metadata": {},
   "source": [
    "### Binary features most related to Salary (Mutual Information)"
   ]
  },
  {
   "cell_type": "code",
   "execution_count": 404,
   "id": "a5b3fef1",
   "metadata": {},
   "outputs": [
    {
     "data": {
      "text/html": [
       "<div>\n",
       "<style scoped>\n",
       "    .dataframe tbody tr th:only-of-type {\n",
       "        vertical-align: middle;\n",
       "    }\n",
       "\n",
       "    .dataframe tbody tr th {\n",
       "        vertical-align: top;\n",
       "    }\n",
       "\n",
       "    .dataframe thead th {\n",
       "        text-align: right;\n",
       "    }\n",
       "</style>\n",
       "<table border=\"1\" class=\"dataframe\">\n",
       "  <thead>\n",
       "    <tr style=\"text-align: right;\">\n",
       "      <th></th>\n",
       "      <th>Feature</th>\n",
       "      <th>Mutual Information</th>\n",
       "    </tr>\n",
       "  </thead>\n",
       "  <tbody>\n",
       "    <tr>\n",
       "      <th>0</th>\n",
       "      <td>UsedGBModels</td>\n",
       "      <td>0.052</td>\n",
       "    </tr>\n",
       "    <tr>\n",
       "      <th>1</th>\n",
       "      <td>UsedAWS</td>\n",
       "      <td>0.032</td>\n",
       "    </tr>\n",
       "    <tr>\n",
       "      <th>2</th>\n",
       "      <td>UsedSKlearn</td>\n",
       "      <td>0.031</td>\n",
       "    </tr>\n",
       "    <tr>\n",
       "      <th>3</th>\n",
       "      <td>UsedPyViz</td>\n",
       "      <td>0.021</td>\n",
       "    </tr>\n",
       "    <tr>\n",
       "      <th>4</th>\n",
       "      <td>UsedNNModels</td>\n",
       "      <td>0.021</td>\n",
       "    </tr>\n",
       "    <tr>\n",
       "      <th>5</th>\n",
       "      <td>UsedLinearModels</td>\n",
       "      <td>0.019</td>\n",
       "    </tr>\n",
       "    <tr>\n",
       "      <th>6</th>\n",
       "      <td>UsedTransformerModels</td>\n",
       "      <td>0.018</td>\n",
       "    </tr>\n",
       "    <tr>\n",
       "      <th>7</th>\n",
       "      <td>UsedPowerBI</td>\n",
       "      <td>0.016</td>\n",
       "    </tr>\n",
       "    <tr>\n",
       "      <th>8</th>\n",
       "      <td>UsedE2EPipelineAutomation</td>\n",
       "      <td>0.016</td>\n",
       "    </tr>\n",
       "    <tr>\n",
       "      <th>9</th>\n",
       "      <td>UsedAzure</td>\n",
       "      <td>0.014</td>\n",
       "    </tr>\n",
       "    <tr>\n",
       "      <th>10</th>\n",
       "      <td>UsedJupyter</td>\n",
       "      <td>0.014</td>\n",
       "    </tr>\n",
       "    <tr>\n",
       "      <th>11</th>\n",
       "      <td>UsedGCP</td>\n",
       "      <td>0.014</td>\n",
       "    </tr>\n",
       "    <tr>\n",
       "      <th>12</th>\n",
       "      <td>UsedRNNModels</td>\n",
       "      <td>0.012</td>\n",
       "    </tr>\n",
       "    <tr>\n",
       "      <th>13</th>\n",
       "      <td>UsedCNNModels</td>\n",
       "      <td>0.011</td>\n",
       "    </tr>\n",
       "    <tr>\n",
       "      <th>14</th>\n",
       "      <td>UsedTreeModels</td>\n",
       "      <td>0.011</td>\n",
       "    </tr>\n",
       "  </tbody>\n",
       "</table>\n",
       "</div>"
      ],
      "text/plain": [
       "                      Feature  Mutual Information\n",
       "0                UsedGBModels               0.052\n",
       "1                     UsedAWS               0.032\n",
       "2                 UsedSKlearn               0.031\n",
       "3                   UsedPyViz               0.021\n",
       "4                UsedNNModels               0.021\n",
       "5            UsedLinearModels               0.019\n",
       "6       UsedTransformerModels               0.018\n",
       "7                 UsedPowerBI               0.016\n",
       "8   UsedE2EPipelineAutomation               0.016\n",
       "9                   UsedAzure               0.014\n",
       "10                UsedJupyter               0.014\n",
       "11                    UsedGCP               0.014\n",
       "12              UsedRNNModels               0.012\n",
       "13              UsedCNNModels               0.011\n",
       "14             UsedTreeModels               0.011"
      ]
     },
     "execution_count": 404,
     "metadata": {},
     "output_type": "execute_result"
    }
   ],
   "source": [
    "mi_scores = mutual_info_regression(df_merged[BINARY_FEATURES], df_merged[\"salary\"])\n",
    "mi_df = []\n",
    "\n",
    "for i in np.argsort(mi_scores)[::-1][:15]:\n",
    "    mi_df.append([BINARY_FEATURES[i], np.round(mi_scores[i],3)])\n",
    "    \n",
    "mi_df = pd.DataFrame(mi_df, columns=['Feature', 'Mutual Information'])\n",
    "mi_df"
   ]
  },
  {
   "cell_type": "markdown",
   "id": "21e930f8",
   "metadata": {},
   "source": [
    "## To Do\n",
    "1. Check multicollinearity\n",
    "2. Outliers"
   ]
  },
  {
   "cell_type": "code",
   "execution_count": null,
   "id": "380f9510",
   "metadata": {},
   "outputs": [],
   "source": []
  },
  {
   "cell_type": "markdown",
   "id": "ac3de797",
   "metadata": {},
   "source": [
    "# Modeling"
   ]
  },
  {
   "cell_type": "code",
   "execution_count": 408,
   "id": "43bfbf2f",
   "metadata": {},
   "outputs": [],
   "source": [
    "X_train, X_test, y_train, y_test = train_test_split(\n",
    "                                df_merged.drop(['PID', 'CurrentTitle', 'salary'], axis=1), df_merged['salary'], \n",
    "                                test_size=0.20, random_state=seed)"
   ]
  },
  {
   "cell_type": "code",
   "execution_count": 409,
   "id": "0f72ad0e",
   "metadata": {},
   "outputs": [
    {
     "data": {
      "text/plain": [
       "(1890, 54)"
      ]
     },
     "execution_count": 409,
     "metadata": {},
     "output_type": "execute_result"
    }
   ],
   "source": [
    "X_train.shape"
   ]
  },
  {
   "cell_type": "code",
   "execution_count": 579,
   "id": "433ce498",
   "metadata": {},
   "outputs": [],
   "source": [
    "def get_regression_metrics(model, X, y_true, label):\n",
    "    y_pred = model.predict(X)\n",
    "    r2 = r2_score(y_true, y_pred)\n",
    "    rmse = np.sqrt(mean_squared_error(y_true, y_pred))\n",
    "    mae = mean_absolute_error(y_true, y_pred)\n",
    "    mape = mean_absolute_percentage_error(y_true, y_pred)\n",
    "    maxerror = max_error(y_true, y_pred)\n",
    "    \n",
    "    metrics = pd.DataFrame({\"R2\":round(r2,3), \"RMSE\":round(rmse,3), \"MAE\":round(mae,3),\n",
    "                            \"MAPE\":round(mape,3), \"Max Error\":round(maxerror,3)},\n",
    "                           index=[f\"{label}\"]).T\n",
    "    return metrics"
   ]
  },
  {
   "cell_type": "code",
   "execution_count": 577,
   "id": "7eb2bcb5",
   "metadata": {},
   "outputs": [],
   "source": [
    "def get_train_test_metrics(model, X_train, y_train, X_test, y_test):\n",
    "    train_metrics = get_regression_metrics(model, X_train, y_train, \"Train\")\n",
    "    test_metrics = get_regression_metrics(model, X_test, y_test, \"Test\")\n",
    "    return train_metrics.join(test_metrics)"
   ]
  },
  {
   "cell_type": "code",
   "execution_count": 572,
   "id": "1e19d039",
   "metadata": {},
   "outputs": [],
   "source": [
    "def plot_true_pred(model, X_train, y_train, X_test, y_test):\n",
    "    y_pred_train = model.predict(X_train)\n",
    "    y_pred_test = lr_model.predict(X_test)\n",
    "\n",
    "    fig, axs = plt.subplots(1,2, figsize=(11,3), gridspec_kw={\"wspace\":0.3}, sharey=True)\n",
    "    axs[0].scatter(y_train, y_pred_train, marker='o', s=2, alpha=0.5, color='lightsalmon')\n",
    "    axs[1].scatter(y_test, y_pred_test, marker='o', s=2, alpha=0.5, color='lightsalmon')\n",
    "\n",
    "    x = np.linspace(0, 7e5)\n",
    "    y = np.linspace(0, 7e5)\n",
    "    for i in range(2):\n",
    "        axs[i].plot(x, y, color='darkred', label='Ideal Fit')\n",
    "        axs[i].set_xlabel(\"Actual y\", fontsize=14, labelpad=8)\n",
    "        axs[i].set_ylabel(\"Predicted y\", fontsize=14, labelpad=8)\n",
    "    axs[0].set_title(\"Train\", size=18, pad=8)\n",
    "    axs[1].set_title(\"Test\", size=18, pad=8)\n",
    "    plt.legend()\n",
    "    plt.show()"
   ]
  },
  {
   "cell_type": "markdown",
   "id": "8898d084",
   "metadata": {},
   "source": [
    "## Baselines"
   ]
  },
  {
   "cell_type": "markdown",
   "id": "e478323f",
   "metadata": {},
   "source": [
    "### Linear Regression"
   ]
  },
  {
   "cell_type": "code",
   "execution_count": 580,
   "id": "2d33be73",
   "metadata": {},
   "outputs": [
    {
     "name": "stdout",
     "output_type": "stream",
     "text": [
      "                 Train         Test\n",
      "R2               0.173        0.200\n",
      "RMSE        101207.973   100449.407\n",
      "MAE          46446.563    45656.308\n",
      "MAPE             0.416        0.389\n",
      "Max Error  1311319.564  1119737.838\n"
     ]
    },
    {
     "data": {
      "image/png": "[encoded data removed]",
      "text/plain": [
       "<Figure size 792x216 with 2 Axes>"
      ]
     },
     "metadata": {
      "needs_background": "light"
     },
     "output_type": "display_data"
    }
   ],
   "source": [
    "lr_model = LinearRegression()\n",
    "lr_model.fit(X_train, y_train)\n",
    "print(get_train_test_metrics(lr_model, X_train, y_train, X_test, y_test))\n",
    "plot_true_pred(lr_model, X_train, y_train, X_test, y_test)"
   ]
  },
  {
   "cell_type": "code",
   "execution_count": 583,
   "id": "05e61319",
   "metadata": {},
   "outputs": [],
   "source": [
    "# Test error is actually lower! No need of regularization (Lasso, Ridge, ElasticNet)"
   ]
  },
  {
   "cell_type": "markdown",
   "id": "dc3cb9f3",
   "metadata": {},
   "source": [
    "### Random Forest Regression"
   ]
  },
  {
   "cell_type": "code",
   "execution_count": 584,
   "id": "76f29f01",
   "metadata": {},
   "outputs": [
    {
     "name": "stdout",
     "output_type": "stream",
     "text": [
      "                Train         Test\n",
      "R2              0.865        0.183\n",
      "RMSE        40914.130   101524.664\n",
      "MAE         18561.286    47388.286\n",
      "MAPE            0.168        0.423\n",
      "Max Error  489008.366  1105120.810\n"
     ]
    },
    {
     "data": {
      "image/png": "[encoded data removed]",
      "text/plain": [
       "<Figure size 792x216 with 2 Axes>"
      ]
     },
     "metadata": {
      "needs_background": "light"
     },
     "output_type": "display_data"
    }
   ],
   "source": [
    "rf_model = RandomForestRegressor()\n",
    "rf_model.fit(X_train, y_train)\n",
    "print(get_train_test_metrics(rf_model, X_train, y_train, X_test, y_test))\n",
    "plot_true_pred(rf_model, X_train, y_train, X_test, y_test)"
   ]
  },
  {
   "cell_type": "code",
   "execution_count": null,
   "id": "51a7b7a6",
   "metadata": {},
   "outputs": [],
   "source": [
    "# Overfitting!"
   ]
  },
  {
   "cell_type": "markdown",
   "id": "f685c7ce",
   "metadata": {},
   "source": [
    "### XGBoost Regression"
   ]
  },
  {
   "cell_type": "code",
   "execution_count": 585,
   "id": "ea3ba418",
   "metadata": {},
   "outputs": [
    {
     "name": "stdout",
     "output_type": "stream",
     "text": [
      "                Train         Test\n",
      "R2              0.987       -0.089\n",
      "RMSE        12826.620   117175.094\n",
      "MAE          8247.074    54919.450\n",
      "MAPE            0.086        0.482\n",
      "Max Error  171973.161  1162379.152\n"
     ]
    },
    {
     "data": {
      "image/png": "[encoded data removed]",
      "text/plain": [
       "<Figure size 792x216 with 2 Axes>"
      ]
     },
     "metadata": {
      "needs_background": "light"
     },
     "output_type": "display_data"
    }
   ],
   "source": [
    "xgb_model = XGBRegressor()\n",
    "xgb_model.fit(X_train, y_train)\n",
    "print(get_train_test_metrics(xgb_model, X_train, y_train, X_test, y_test))\n",
    "plot_true_pred(xgb_model, X_train, y_train, X_test, y_test)"
   ]
  },
  {
   "cell_type": "code",
   "execution_count": null,
   "id": "aec35d9e",
   "metadata": {},
   "outputs": [],
   "source": []
  },
  {
   "cell_type": "markdown",
   "id": "68641545",
   "metadata": {},
   "source": [
    "## Hyperparameter Tuning & CV scores"
   ]
  },
  {
   "cell_type": "code",
   "execution_count": 560,
   "id": "8dde58ad",
   "metadata": {},
   "outputs": [],
   "source": [
    "# Linear Regression\n",
    "lr_model = LinearRegression()\n",
    "lr_model.fit(X_train, y_train)\n",
    "lr_scores = cross_val_score(lr_model, X_train, y_train, scoring=\"r2\", cv=5)"
   ]
  },
  {
   "cell_type": "code",
   "execution_count": 459,
   "id": "bf03c473",
   "metadata": {},
   "outputs": [],
   "source": [
    "# Ridge Regression\n",
    "ridge_model = Ridge()\n",
    "ridge_scores = cross_val_score(ridge_model, X_train, y_train, scoring=\"r2\", cv=5)"
   ]
  },
  {
   "cell_type": "code",
   "execution_count": 460,
   "id": "302f7d2e",
   "metadata": {},
   "outputs": [],
   "source": [
    "# Lasso Regression\n",
    "lasso_model = Lasso()\n",
    "lasso_scores = cross_val_score(lasso_model, X_train, y_train, scoring=\"r2\", cv=5)"
   ]
  },
  {
   "cell_type": "code",
   "execution_count": 462,
   "id": "c394509f",
   "metadata": {},
   "outputs": [],
   "source": [
    "# Elasticnet Regression\n",
    "elasticnet_model = ElasticNet()\n",
    "elasticnet_scores = cross_val_score(elasticnet_model, X_train, y_train, scoring=\"r2\", cv=5)"
   ]
  },
  {
   "cell_type": "code",
   "execution_count": 463,
   "id": "449eaf96",
   "metadata": {},
   "outputs": [],
   "source": [
    "# Random Forest\n",
    "rf_model = RandomForestRegressor()\n",
    "rf_scores = cross_val_score(rf_model, X_train, y_train, scoring=\"r2\", cv=5)"
   ]
  },
  {
   "cell_type": "code",
   "execution_count": 464,
   "id": "066ad61a",
   "metadata": {},
   "outputs": [],
   "source": [
    "# XGBoost\n",
    "xgb_model = XGBRegressor()\n",
    "xgb_scores = cross_val_score(xgb_model, X_train, y_train, scoring=\"r2\", cv=5)"
   ]
  },
  {
   "cell_type": "code",
   "execution_count": 465,
   "id": "3cb9e0bc",
   "metadata": {},
   "outputs": [
    {
     "data": {
      "text/plain": [
       "<AxesSubplot:>"
      ]
     },
     "execution_count": 465,
     "metadata": {},
     "output_type": "execute_result"
    },
    {
     "data": {
      "image/png": "[encoded data removed]",
      "text/plain": [
       "<Figure size 432x288 with 1 Axes>"
      ]
     },
     "metadata": {
      "needs_background": "light"
     },
     "output_type": "display_data"
    }
   ],
   "source": [
    "sns.boxplot(lr_scores)"
   ]
  },
  {
   "cell_type": "code",
   "execution_count": 432,
   "id": "efb85320",
   "metadata": {},
   "outputs": [],
   "source": [
    "rf_params = {\n",
    "    \"n_estimators\": [100, 500]#list(range(100, 1100, 500)),\n",
    "#     \"max_depth\": [None, 10, 20, 50],\n",
    "    \n",
    "}\n",
    "# RandomForestRegressor()"
   ]
  },
  {
   "cell_type": "code",
   "execution_count": 448,
   "id": "9ef879ac",
   "metadata": {},
   "outputs": [
    {
     "data": {
      "text/plain": [
       "GridSearchCV(cv=3, estimator=RandomForestRegressor(),\n",
       "             param_grid={'n_estimators': [100, 500]}, scoring='r2')"
      ]
     },
     "execution_count": 448,
     "metadata": {},
     "output_type": "execute_result"
    }
   ],
   "source": [
    "# Grid search with 5-fold stratified CV\n",
    "rf_grid = GridSearchCV(RandomForestRegressor(), params, cv=3, scoring=\"r2\")\n",
    "rf_grid.fit(X_train, y_train)"
   ]
  },
  {
   "cell_type": "code",
   "execution_count": 449,
   "id": "a3da9ff3",
   "metadata": {},
   "outputs": [
    {
     "data": {
      "text/plain": [
       "0.008516882328529837"
      ]
     },
     "execution_count": 449,
     "metadata": {},
     "output_type": "execute_result"
    }
   ],
   "source": [
    "rf_grid.best_score_"
   ]
  },
  {
   "cell_type": "code",
   "execution_count": 454,
   "id": "4dfe4ab5",
   "metadata": {},
   "outputs": [
    {
     "data": {
      "text/plain": [
       "array([-0.09793781, -0.02486273,  0.08024714, -0.03433557,  0.01641085])"
      ]
     },
     "execution_count": 454,
     "metadata": {},
     "output_type": "execute_result"
    }
   ],
   "source": [
    "rf_model = RandomForestRegressor(**rf_grid.best_params_)\n",
    "rf_scores = cross_val_score(rf_model, X_train, y_train, scoring=\"r2\", cv=5)\n",
    "rf_scores\n",
    "# Scores: sorted(sklearn.metrics.SCORERS.keys())"
   ]
  },
  {
   "cell_type": "code",
   "execution_count": null,
   "id": "a9c65a54",
   "metadata": {},
   "outputs": [],
   "source": []
  },
  {
   "cell_type": "code",
   "execution_count": null,
   "id": "c1eff61e",
   "metadata": {},
   "outputs": [],
   "source": []
  }
 ],
 "metadata": {
  "kernelspec": {
   "display_name": "Python 3 (ipykernel)",
   "language": "python",
   "name": "python3"
  },
  "language_info": {
   "codemirror_mode": {
    "name": "ipython",
    "version": 3
   },
   "file_extension": ".py",
   "mimetype": "text/x-python",
   "name": "python",
   "nbconvert_exporter": "python",
   "pygments_lexer": "ipython3",
   "version": "3.9.7"
  }
 },
 "nbformat": 4,
 "nbformat_minor": 5
}
