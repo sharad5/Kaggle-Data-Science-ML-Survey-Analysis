{
 "cells": [
  {
   "cell_type": "code",
   "execution_count": 22,
   "id": "98c1d730",
   "metadata": {},
   "outputs": [],
   "source": [
    "import json\n",
    "import scipy\n",
    "import warnings\n",
    "import numpy as np\n",
    "import pandas as pd\n",
    "import matplotlib.pyplot as plt\n",
    "from matplotlib.gridspec import GridSpec\n",
    "import seaborn as sns\n",
    "warnings.filterwarnings('ignore')\n",
    "sns.set_style('whitegrid')\n",
    "%matplotlib inline"
   ]
  },
  {
   "cell_type": "code",
   "execution_count": 6,
   "id": "2d99584b",
   "metadata": {},
   "outputs": [],
   "source": [
    "np.random.seed(12132707)"
   ]
  },
  {
   "cell_type": "code",
   "execution_count": 200,
   "id": "635676c0",
   "metadata": {},
   "outputs": [
    {
     "data": {
      "text/html": [
       "<div>\n",
       "<style scoped>\n",
       "    .dataframe tbody tr th:only-of-type {\n",
       "        vertical-align: middle;\n",
       "    }\n",
       "\n",
       "    .dataframe tbody tr th {\n",
       "        vertical-align: top;\n",
       "    }\n",
       "\n",
       "    .dataframe thead th {\n",
       "        text-align: right;\n",
       "    }\n",
       "</style>\n",
       "<table border=\"1\" class=\"dataframe\">\n",
       "  <thead>\n",
       "    <tr style=\"text-align: right;\">\n",
       "      <th></th>\n",
       "      <th>Unnamed: 0</th>\n",
       "      <th>Unnamed: 0.1</th>\n",
       "      <th>Duration (in seconds)</th>\n",
       "      <th>Age</th>\n",
       "      <th>Gender</th>\n",
       "      <th>Country</th>\n",
       "      <th>IsStudent</th>\n",
       "      <th>MOOCPlatforms_Coursera</th>\n",
       "      <th>MOOCPlatforms_edX</th>\n",
       "      <th>MOOCPlatforms_Kaggle Learn Courses</th>\n",
       "      <th>...</th>\n",
       "      <th>Q35_B_Part_2</th>\n",
       "      <th>Q35_B_Part_3</th>\n",
       "      <th>Q35_B_Part_4</th>\n",
       "      <th>Q35_B_Part_5</th>\n",
       "      <th>Q35_B_Part_6</th>\n",
       "      <th>Q35_B_Part_7</th>\n",
       "      <th>Q35_B_Part_8</th>\n",
       "      <th>Q35_B_Part_9</th>\n",
       "      <th>Q35_B_Part_10</th>\n",
       "      <th>Q35_B_OTHER</th>\n",
       "    </tr>\n",
       "  </thead>\n",
       "  <tbody>\n",
       "    <tr>\n",
       "      <th>1</th>\n",
       "      <td>2</td>\n",
       "      <td>NaN</td>\n",
       "      <td>289287</td>\n",
       "      <td>30-34</td>\n",
       "      <td>Man</td>\n",
       "      <td>United States of America</td>\n",
       "      <td>No</td>\n",
       "      <td>1</td>\n",
       "      <td>0</td>\n",
       "      <td>0</td>\n",
       "      <td>...</td>\n",
       "      <td>NaN</td>\n",
       "      <td>NaN</td>\n",
       "      <td>NaN</td>\n",
       "      <td>NaN</td>\n",
       "      <td>NaN</td>\n",
       "      <td>NaN</td>\n",
       "      <td>NaN</td>\n",
       "      <td>NaN</td>\n",
       "      <td>NaN</td>\n",
       "      <td>NaN</td>\n",
       "    </tr>\n",
       "    <tr>\n",
       "      <th>3</th>\n",
       "      <td>4</td>\n",
       "      <td>NaN</td>\n",
       "      <td>507</td>\n",
       "      <td>30-34</td>\n",
       "      <td>Man</td>\n",
       "      <td>United States of America</td>\n",
       "      <td>No</td>\n",
       "      <td>1</td>\n",
       "      <td>0</td>\n",
       "      <td>0</td>\n",
       "      <td>...</td>\n",
       "      <td>NaN</td>\n",
       "      <td>NaN</td>\n",
       "      <td>NaN</td>\n",
       "      <td>NaN</td>\n",
       "      <td>NaN</td>\n",
       "      <td>NaN</td>\n",
       "      <td>NaN</td>\n",
       "      <td>NaN</td>\n",
       "      <td>NaN</td>\n",
       "      <td>NaN</td>\n",
       "    </tr>\n",
       "    <tr>\n",
       "      <th>11</th>\n",
       "      <td>12</td>\n",
       "      <td>NaN</td>\n",
       "      <td>742</td>\n",
       "      <td>35-39</td>\n",
       "      <td>Man</td>\n",
       "      <td>United States of America</td>\n",
       "      <td>No</td>\n",
       "      <td>0</td>\n",
       "      <td>0</td>\n",
       "      <td>0</td>\n",
       "      <td>...</td>\n",
       "      <td>NaN</td>\n",
       "      <td>NaN</td>\n",
       "      <td>NaN</td>\n",
       "      <td>NaN</td>\n",
       "      <td>NaN</td>\n",
       "      <td>NaN</td>\n",
       "      <td>NaN</td>\n",
       "      <td>NaN</td>\n",
       "      <td>NaN</td>\n",
       "      <td>NaN</td>\n",
       "    </tr>\n",
       "  </tbody>\n",
       "</table>\n",
       "<p>3 rows × 566 columns</p>\n",
       "</div>"
      ],
      "text/plain": [
       "    Unnamed: 0  Unnamed: 0.1  Duration (in seconds)    Age Gender  \\\n",
       "1            2           NaN                 289287  30-34    Man   \n",
       "3            4           NaN                    507  30-34    Man   \n",
       "11          12           NaN                    742  35-39    Man   \n",
       "\n",
       "                     Country IsStudent  MOOCPlatforms_Coursera  \\\n",
       "1   United States of America        No                       1   \n",
       "3   United States of America        No                       1   \n",
       "11  United States of America        No                       0   \n",
       "\n",
       "    MOOCPlatforms_edX  MOOCPlatforms_Kaggle Learn Courses  ...  Q35_B_Part_2  \\\n",
       "1                   0                                   0  ...           NaN   \n",
       "3                   0                                   0  ...           NaN   \n",
       "11                  0                                   0  ...           NaN   \n",
       "\n",
       "    Q35_B_Part_3  Q35_B_Part_4  Q35_B_Part_5  Q35_B_Part_6  Q35_B_Part_7  \\\n",
       "1            NaN           NaN           NaN           NaN           NaN   \n",
       "3            NaN           NaN           NaN           NaN           NaN   \n",
       "11           NaN           NaN           NaN           NaN           NaN   \n",
       "\n",
       "    Q35_B_Part_8  Q35_B_Part_9  Q35_B_Part_10  Q35_B_OTHER  \n",
       "1            NaN           NaN            NaN          NaN  \n",
       "3            NaN           NaN            NaN          NaN  \n",
       "11           NaN           NaN            NaN          NaN  \n",
       "\n",
       "[3 rows x 566 columns]"
      ]
     },
     "execution_count": 200,
     "metadata": {},
     "output_type": "execute_result"
    }
   ],
   "source": [
    "df = pd.concat([pd.read_csv(\n",
    "    \"./Kaggle-Data-Science-ML-Survey-Analysis/data/processed/ProcessedSurveyData_%d.csv\" % i) \n",
    "                       for i in range(2020,2023)])\n",
    "df = df[df['Country']=='United States of America']\n",
    "df = df.dropna(subset=['AnnualComp(USD)'])\n",
    "df.head(3)"
   ]
  },
  {
   "cell_type": "code",
   "execution_count": 201,
   "id": "7e446d91",
   "metadata": {},
   "outputs": [
    {
     "data": {
      "text/plain": [
       "4763"
      ]
     },
     "execution_count": 201,
     "metadata": {},
     "output_type": "execute_result"
    }
   ],
   "source": [
    "len(df)"
   ]
  },
  {
   "cell_type": "markdown",
   "id": "709eb038",
   "metadata": {},
   "source": [
    "## High Level Plan\n",
    "1. Preprocessing for Regression, EDA\n",
    "2. Feature selection\n",
    "3. Models: Linear Regression, Lasso, Ridge, RF regression, XGBoost\n",
    "4. Investigation: Plot of preds vs actual; GLMs: NB regression.\n",
    "5. Modeling results: Table of diff regression models with metrics, SD on k-fold CV\n",
    "6. Interpretability: Feature importance scores; Explain Preds using Shap"
   ]
  },
  {
   "cell_type": "markdown",
   "id": "1c6a65aa",
   "metadata": {},
   "source": [
    "# 1. Preprocessing"
   ]
  },
  {
   "cell_type": "markdown",
   "id": "78de0392",
   "metadata": {},
   "source": [
    "## 1.1 Salary: Categorical -> Numeric "
   ]
  },
  {
   "cell_type": "markdown",
   "id": "02d990a0",
   "metadata": {},
   "source": [
    "### Problem:\n",
    "The salaries are reported on a categorical scale, and have unequal bin widths. Exp: 1-2k, 2.5-5k, 125k-150k. These need to be converted to a numerical scale."
   ]
  },
  {
   "cell_type": "markdown",
   "id": "5a311527",
   "metadata": {},
   "source": [
    "### Possible solutions\n",
    "1. Assume a **uniform distribution** over the lower and upper salary limit. For exp, for salary range 1-2k, sample a salary uniformly between 1-2k.\n",
    "2. Sample a no. s between 0 and 1 from a **Beta distribution** centered at 0.5. Sampled salary = LL + s (UL - LL).\n",
    "3. Get the distribution of salaries from a tech salaries dataset. Normalize the densities in a constrained range and sample from the constrained distribution using **Inverse Transform sampling** (for exp, normalize densities bw 125k-150k to integrate to 1, and sample from this distribution)."
   ]
  },
  {
   "cell_type": "code",
   "execution_count": 35,
   "id": "19fef6d3",
   "metadata": {},
   "outputs": [
    {
     "data": {
      "text/html": [
       "<div>\n",
       "<style scoped>\n",
       "    .dataframe tbody tr th:only-of-type {\n",
       "        vertical-align: middle;\n",
       "    }\n",
       "\n",
       "    .dataframe tbody tr th {\n",
       "        vertical-align: top;\n",
       "    }\n",
       "\n",
       "    .dataframe thead th {\n",
       "        text-align: right;\n",
       "    }\n",
       "</style>\n",
       "<table border=\"1\" class=\"dataframe\">\n",
       "  <thead>\n",
       "    <tr style=\"text-align: right;\">\n",
       "      <th></th>\n",
       "      <th>work_year</th>\n",
       "      <th>experience_level</th>\n",
       "      <th>employment_type</th>\n",
       "      <th>job_title</th>\n",
       "      <th>salary</th>\n",
       "      <th>salary_currency</th>\n",
       "      <th>salary_in_usd</th>\n",
       "      <th>employee_residence</th>\n",
       "      <th>remote_ratio</th>\n",
       "      <th>company_location</th>\n",
       "      <th>company_size</th>\n",
       "    </tr>\n",
       "  </thead>\n",
       "  <tbody>\n",
       "    <tr>\n",
       "      <th>0</th>\n",
       "      <td>2022</td>\n",
       "      <td>SE</td>\n",
       "      <td>FT</td>\n",
       "      <td>Data Analyst</td>\n",
       "      <td>177000</td>\n",
       "      <td>USD</td>\n",
       "      <td>177000</td>\n",
       "      <td>US</td>\n",
       "      <td>0</td>\n",
       "      <td>US</td>\n",
       "      <td>M</td>\n",
       "    </tr>\n",
       "    <tr>\n",
       "      <th>1</th>\n",
       "      <td>2022</td>\n",
       "      <td>SE</td>\n",
       "      <td>FT</td>\n",
       "      <td>Data Analyst</td>\n",
       "      <td>131000</td>\n",
       "      <td>USD</td>\n",
       "      <td>131000</td>\n",
       "      <td>US</td>\n",
       "      <td>0</td>\n",
       "      <td>US</td>\n",
       "      <td>M</td>\n",
       "    </tr>\n",
       "    <tr>\n",
       "      <th>2</th>\n",
       "      <td>2022</td>\n",
       "      <td>SE</td>\n",
       "      <td>FT</td>\n",
       "      <td>Applied Scientist</td>\n",
       "      <td>205000</td>\n",
       "      <td>USD</td>\n",
       "      <td>205000</td>\n",
       "      <td>US</td>\n",
       "      <td>100</td>\n",
       "      <td>US</td>\n",
       "      <td>M</td>\n",
       "    </tr>\n",
       "  </tbody>\n",
       "</table>\n",
       "</div>"
      ],
      "text/plain": [
       "   work_year experience_level employment_type          job_title  salary  \\\n",
       "0       2022               SE              FT       Data Analyst  177000   \n",
       "1       2022               SE              FT       Data Analyst  131000   \n",
       "2       2022               SE              FT  Applied Scientist  205000   \n",
       "\n",
       "  salary_currency  salary_in_usd employee_residence  remote_ratio  \\\n",
       "0             USD         177000                 US             0   \n",
       "1             USD         131000                 US             0   \n",
       "2             USD         205000                 US           100   \n",
       "\n",
       "  company_location company_size  \n",
       "0               US            M  \n",
       "1               US            M  \n",
       "2               US            M  "
      ]
     },
     "execution_count": 35,
     "metadata": {},
     "output_type": "execute_result"
    }
   ],
   "source": [
    "sal = pd.read_csv(\"./salaries.csv\")\n",
    "sal[sal['company_location'] == 'US']\n",
    "sal.head(3)"
   ]
  },
  {
   "cell_type": "code",
   "execution_count": 36,
   "id": "d82279a2",
   "metadata": {},
   "outputs": [
    {
     "data": {
      "text/plain": [
       "2022    1163\n",
       "2021     224\n",
       "2020      75\n",
       "Name: work_year, dtype: int64"
      ]
     },
     "execution_count": 36,
     "metadata": {},
     "output_type": "execute_result"
    }
   ],
   "source": [
    "sal['work_year'].value_counts()"
   ]
  },
  {
   "cell_type": "code",
   "execution_count": 175,
   "id": "d7cb562f",
   "metadata": {},
   "outputs": [
    {
     "data": {
      "image/png": "[encoded data removed]",
      "text/plain": [
       "<Figure size 360x216 with 1 Axes>"
      ]
     },
     "metadata": {
      "needs_background": "light"
     },
     "output_type": "display_data"
    }
   ],
   "source": [
    "plt.figure(figsize=(5,3))\n",
    "sns.distplot(sal['salary_in_usd'])\n",
    "plt.title(\"Data Science jobs: Salary Distribution\", size=16)\n",
    "plt.show()"
   ]
  },
  {
   "cell_type": "code",
   "execution_count": 84,
   "id": "5fae9c2f",
   "metadata": {},
   "outputs": [],
   "source": [
    "def compute_cdf(salaries): # Empirical CDF\n",
    "    cdf = np.cumsum(salaries)\n",
    "    cdf = (cdf - cdf.min())/(cdf.max() - cdf.min()) # Normalize from 0 to 1\n",
    "    return cdf"
   ]
  },
  {
   "cell_type": "code",
   "execution_count": 129,
   "id": "c69c5d46",
   "metadata": {},
   "outputs": [
    {
     "data": {
      "text/plain": [
       "array(80000.)"
      ]
     },
     "execution_count": 129,
     "metadata": {},
     "output_type": "execute_result"
    }
   ],
   "source": [
    "# Inverse Transform Sampling\n",
    "salaries = np.sort(sal['salary_in_usd'])\n",
    "cdf = compute_cdf(salaries) # Empirical CDF\n",
    "inverse_cdf = scipy.interpolate.interp1d(cdf, salaries) # Interpolate values of salary for all vals bw 0 & 1\n",
    "inverse_cdf(0.1) # Inverse transform sampling to sample from the required distribution"
   ]
  },
  {
   "cell_type": "code",
   "execution_count": 119,
   "id": "23478438",
   "metadata": {},
   "outputs": [
    {
     "data": {
      "image/png": "[encoded data removed]",
      "text/plain": [
       "<Figure size 432x288 with 1 Axes>"
      ]
     },
     "metadata": {
      "needs_background": "light"
     },
     "output_type": "display_data"
    }
   ],
   "source": [
    "# Suppose we want samples for salary category 125k-150k\n",
    "sal_1 = salaries[(salaries >= 125000) & (salaries < 150000)]\n",
    "sal_1 = np.sort(sal_1)\n",
    "cdf = compute_cdf(sal_1)\n",
    "inverse_cdf = scipy.interpolate.interp1d(cdf, sal_1)\n",
    "\n",
    "# Inverse Transform Sampling\n",
    "u = np.random.random(size=10**5) # Uniform samples\n",
    "\n",
    "plt.figure(figsize=(6,4))\n",
    "sns.distplot(sal_1, color='steelblue', label='original', bins=50)\n",
    "sns.distplot(inverse_cdf(u), color='tomato', label='estimated')\n",
    "plt.xlim(125000, 150000)\n",
    "plt.title(\"Salary Distribution in 125k - 150k\", size=16)\n",
    "plt.legend()\n",
    "plt.show()"
   ]
  },
  {
   "cell_type": "code",
   "execution_count": 128,
   "id": "131325b4",
   "metadata": {},
   "outputs": [],
   "source": [
    "salary_grps = [\n",
    "        (1000,1999),\n",
    "        (2000,2999),\n",
    "        (3000,3999),\n",
    "        (4000,4999),\n",
    "        (5000,7499),\n",
    "        (7500,9999),\n",
    "\n",
    "        (10000,14999),\n",
    "        (15000,19999),\n",
    "        (20000,24999),\n",
    "        (25000,29999),\n",
    "        (30000,39999),\n",
    "        (40000,49999),\n",
    "        (50000,59999),\n",
    "        (60000,69999),\n",
    "        (70000,79999),\n",
    "        (80000,89999),\n",
    "        (90000,99999),\n",
    "\n",
    "        (100000,124999),\n",
    "        (125000,149999),\n",
    "        (150000,199999),\n",
    "        (200000,249999),\n",
    "        (250000,299999),\n",
    "        (300000,499999),\n",
    "        (500000,999999),\n",
    "        (1000000,1000000)\n",
    "]"
   ]
  },
  {
   "cell_type": "code",
   "execution_count": 237,
   "id": "8837db41",
   "metadata": {},
   "outputs": [],
   "source": [
    "inverse_cdfs = {}\n",
    "salaries = np.sort(sal['salary_in_usd'])\n",
    "\n",
    "for ll, ul in salary_grps:\n",
    "    sals = salaries[(salaries >= ll) & (salaries < ul)]\n",
    "    if len(sals) < 20:\n",
    "        #print(ll, len(sals))\n",
    "        continue\n",
    "    sals = np.insert(sals, 0, ll)\n",
    "    sals = np.insert(sals, len(sals), ul)\n",
    "    sals = np.sort(sals)\n",
    "    cdf = compute_cdf(sals)\n",
    "    inverse_cdf = scipy.interpolate.interp1d(cdf, sals)\n",
    "    inverse_cdfs[ll] = inverse_cdf"
   ]
  },
  {
   "cell_type": "code",
   "execution_count": 239,
   "id": "6842168e",
   "metadata": {},
   "outputs": [],
   "source": [
    "def sample_salary(sal_categ, salary_grps, inverse_cdfs):\n",
    "    if sal_categ == \"> $500,000\":\n",
    "        return np.random.uniform(500000, 1000000)\n",
    "    \n",
    "    elif sal_categ == \">$1,000,000\":\n",
    "        return np.random.uniform(1000000, 1500000)\n",
    "    \n",
    "    else:\n",
    "        sal_categ = sal_categ.replace(',', '').replace('$', '')\n",
    "        sal_categ = sal_categ.strip()\n",
    "\n",
    "        lims = sal_categ.split('-')\n",
    "        ll = int(lims[0])\n",
    "        ul = int(lims[1])\n",
    "\n",
    "        if(ll in inverse_cdfs):\n",
    "            u = np.random.uniform(0,1) # Uniform sample bw 0, 1\n",
    "            return inverse_cdfs[ll](u)\n",
    "\n",
    "            return np.random.uniform(ll, ul) # If insufficient no. of samples, assume uniform distribution"
   ]
  },
  {
   "cell_type": "code",
   "execution_count": 234,
   "id": "da98c840",
   "metadata": {},
   "outputs": [],
   "source": [
    "df['salary'] = df['AnnualComp(USD)'].apply(lambda sal: sample_salary(sal, salary_grps, inverse_cdfs))"
   ]
  },
  {
   "cell_type": "code",
   "execution_count": 241,
   "id": "3d43185e",
   "metadata": {},
   "outputs": [
    {
     "data": {
      "image/png": "[encoded data removed]",
      "text/plain": [
       "<Figure size 360x216 with 1 Axes>"
      ]
     },
     "metadata": {
      "needs_background": "light"
     },
     "output_type": "display_data"
    }
   ],
   "source": [
    "plt.figure(figsize=(5,3))\n",
    "sns.distplot(df['salary'])\n",
    "plt.title(\"Salary Distribution (Numeric)\", size=16)\n",
    "plt.show()"
   ]
  },
  {
   "cell_type": "code",
   "execution_count": null,
   "id": "9d0783c4",
   "metadata": {},
   "outputs": [],
   "source": []
  },
  {
   "cell_type": "code",
   "execution_count": null,
   "id": "542a925e",
   "metadata": {},
   "outputs": [],
   "source": []
  }
 ],
 "metadata": {
  "kernelspec": {
   "display_name": "Python 3 (ipykernel)",
   "language": "python",
   "name": "python3"
  },
  "language_info": {
   "codemirror_mode": {
    "name": "ipython",
    "version": 3
   },
   "file_extension": ".py",
   "mimetype": "text/x-python",
   "name": "python",
   "nbconvert_exporter": "python",
   "pygments_lexer": "ipython3",
   "version": "3.9.7"
  }
 },
 "nbformat": 4,
 "nbformat_minor": 5
}
