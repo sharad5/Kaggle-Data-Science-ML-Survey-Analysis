{
 "cells": [
  {
   "cell_type": "markdown",
   "id": "16c36aa6",
   "metadata": {},
   "source": [
    "## Imports"
   ]
  },
  {
   "cell_type": "code",
   "execution_count": 1,
   "id": "940cb871",
   "metadata": {},
   "outputs": [],
   "source": [
    "import os\n",
    "import re\n",
    "import glob\n",
    "import json\n",
    "import string\n",
    "import warnings\n",
    "import numpy as np\n",
    "import pandas as pd\n",
    "import matplotlib.pyplot as plt\n",
    "from matplotlib.gridspec import GridSpec\n",
    "import seaborn as sns\n",
    "warnings.filterwarnings('ignore')\n",
    "sns.set_style('whitegrid')\n",
    "%matplotlib inline"
   ]
  },
  {
   "cell_type": "markdown",
   "id": "b2e1cc48",
   "metadata": {},
   "source": [
    "## Read & Combine Data"
   ]
  },
  {
   "cell_type": "markdown",
   "id": "75620cf6",
   "metadata": {},
   "source": [
    "### LinkedIn Job Postings"
   ]
  },
  {
   "cell_type": "code",
   "execution_count": 2,
   "id": "b591e2d2",
   "metadata": {},
   "outputs": [
    {
     "data": {
      "text/html": [
       "<div>\n",
       "<style scoped>\n",
       "    .dataframe tbody tr th:only-of-type {\n",
       "        vertical-align: middle;\n",
       "    }\n",
       "\n",
       "    .dataframe tbody tr th {\n",
       "        vertical-align: top;\n",
       "    }\n",
       "\n",
       "    .dataframe thead th {\n",
       "        text-align: right;\n",
       "    }\n",
       "</style>\n",
       "<table border=\"1\" class=\"dataframe\">\n",
       "  <thead>\n",
       "    <tr style=\"text-align: right;\">\n",
       "      <th></th>\n",
       "      <th>Unnamed: 0</th>\n",
       "      <th>Job Title</th>\n",
       "      <th>Company Name</th>\n",
       "      <th>Location</th>\n",
       "      <th>Work Mode</th>\n",
       "      <th>Employment Type</th>\n",
       "      <th>Company Headcount</th>\n",
       "      <th>Industry</th>\n",
       "      <th>JD</th>\n",
       "      <th>JobID</th>\n",
       "    </tr>\n",
       "  </thead>\n",
       "  <tbody>\n",
       "    <tr>\n",
       "      <th>0</th>\n",
       "      <td>0</td>\n",
       "      <td>SENIOR COMPUTER VISION DATA SCIENTIST</td>\n",
       "      <td>80 Acres Farms</td>\n",
       "      <td>Hamilton, OH</td>\n",
       "      <td>On-site</td>\n",
       "      <td>Full-time · Mid-Senior level</td>\n",
       "      <td>201-500 employees</td>\n",
       "      <td>Farming</td>\n",
       "      <td>About The Company\\r\\n\\r\\nThe Future of Fresh i...</td>\n",
       "      <td>3331975665</td>\n",
       "    </tr>\n",
       "    <tr>\n",
       "      <th>1</th>\n",
       "      <td>1</td>\n",
       "      <td>Senior Software Engineer</td>\n",
       "      <td>Terran Robotics</td>\n",
       "      <td>Bloomington, IN</td>\n",
       "      <td>Hybrid</td>\n",
       "      <td>Full-time</td>\n",
       "      <td>1-10 employees</td>\n",
       "      <td>None</td>\n",
       "      <td>Terran Robotics is building construction robot...</td>\n",
       "      <td>2841811846</td>\n",
       "    </tr>\n",
       "    <tr>\n",
       "      <th>2</th>\n",
       "      <td>2</td>\n",
       "      <td>Systems Engineer</td>\n",
       "      <td>ZF Group</td>\n",
       "      <td>Greater Lansing</td>\n",
       "      <td>Hybrid</td>\n",
       "      <td>Full-time · Mid-Senior level</td>\n",
       "      <td>10,001+ employees</td>\n",
       "      <td>Motor Vehicle Manufacturing</td>\n",
       "      <td>Job description:\\r\\n\\r\\nJob Description:\\r\\n\\r...</td>\n",
       "      <td>3369017400</td>\n",
       "    </tr>\n",
       "  </tbody>\n",
       "</table>\n",
       "</div>"
      ],
      "text/plain": [
       "   Unnamed: 0                              Job Title     Company Name  \\\n",
       "0           0  SENIOR COMPUTER VISION DATA SCIENTIST   80 Acres Farms   \n",
       "1           1               Senior Software Engineer  Terran Robotics   \n",
       "2           2                       Systems Engineer         ZF Group   \n",
       "\n",
       "          Location Work Mode               Employment Type  Company Headcount  \\\n",
       "0     Hamilton, OH   On-site  Full-time · Mid-Senior level  201-500 employees   \n",
       "1  Bloomington, IN    Hybrid                     Full-time     1-10 employees   \n",
       "2  Greater Lansing    Hybrid  Full-time · Mid-Senior level  10,001+ employees   \n",
       "\n",
       "                      Industry  \\\n",
       "0                      Farming   \n",
       "1                         None   \n",
       "2  Motor Vehicle Manufacturing   \n",
       "\n",
       "                                                  JD       JobID  \n",
       "0  About The Company\\r\\n\\r\\nThe Future of Fresh i...  3331975665  \n",
       "1  Terran Robotics is building construction robot...  2841811846  \n",
       "2  Job description:\\r\\n\\r\\nJob Description:\\r\\n\\r...  3369017400  "
      ]
     },
     "execution_count": 2,
     "metadata": {},
     "output_type": "execute_result"
    }
   ],
   "source": [
    "listings_li = pd.read_csv(\"./Kaggle-Data-Science-ML-Survey-Analysis/data/raw/job_listings/MLE Jobs LinkedIn.csv\")\n",
    "listings_li.head(3)"
   ]
  },
  {
   "cell_type": "markdown",
   "id": "abc438fa",
   "metadata": {},
   "source": [
    "### Glassdoor Job Postings"
   ]
  },
  {
   "cell_type": "code",
   "execution_count": 3,
   "id": "68214d5c",
   "metadata": {},
   "outputs": [
    {
     "data": {
      "text/plain": [
       "['./Kaggle-Data-Science-ML-Survey-Analysis/data/raw/job_listings/MLE Jobs LinkedIn.csv',\n",
       " './Kaggle-Data-Science-ML-Survey-Analysis/data/raw/job_listings/DataScientist.csv',\n",
       " './Kaggle-Data-Science-ML-Survey-Analysis/data/raw/job_listings/DataAnalyst.csv',\n",
       " './Kaggle-Data-Science-ML-Survey-Analysis/data/raw/job_listings/DataEngineer.csv',\n",
       " './Kaggle-Data-Science-ML-Survey-Analysis/data/raw/job_listings/BusinessAnalyst.csv']"
      ]
     },
     "execution_count": 3,
     "metadata": {},
     "output_type": "execute_result"
    }
   ],
   "source": [
    "path_folder = \"./Kaggle-Data-Science-ML-Survey-Analysis/data/raw/job_listings\"\n",
    "paths_csv = glob.glob(os.path.join(path_folder, \"*.csv\"))\n",
    "paths_csv"
   ]
  },
  {
   "cell_type": "code",
   "execution_count": 4,
   "id": "31d78f90",
   "metadata": {},
   "outputs": [],
   "source": [
    "cols = ['Job Title',\n",
    "         'Salary Estimate',\n",
    "         'Job Description',\n",
    "         'Rating',\n",
    "         'Company Name',\n",
    "         'Location',\n",
    "         'Headquarters',\n",
    "         'Size',\n",
    "         'Founded',\n",
    "         'Type of ownership',\n",
    "         'Industry',\n",
    "         'Sector',\n",
    "         'Revenue',\n",
    "         'Competitors',\n",
    "         'Easy Apply']"
   ]
  },
  {
   "cell_type": "code",
   "execution_count": 5,
   "id": "0869a0bb",
   "metadata": {},
   "outputs": [
    {
     "name": "stdout",
     "output_type": "stream",
     "text": [
      "DataScientist\n",
      "DataAnalyst\n",
      "DataEngineer\n",
      "BusinessAnalyst\n"
     ]
    },
    {
     "data": {
      "text/html": [
       "<div>\n",
       "<style scoped>\n",
       "    .dataframe tbody tr th:only-of-type {\n",
       "        vertical-align: middle;\n",
       "    }\n",
       "\n",
       "    .dataframe tbody tr th {\n",
       "        vertical-align: top;\n",
       "    }\n",
       "\n",
       "    .dataframe thead th {\n",
       "        text-align: right;\n",
       "    }\n",
       "</style>\n",
       "<table border=\"1\" class=\"dataframe\">\n",
       "  <thead>\n",
       "    <tr style=\"text-align: right;\">\n",
       "      <th></th>\n",
       "      <th>Job Title</th>\n",
       "      <th>Salary Estimate</th>\n",
       "      <th>Job Description</th>\n",
       "      <th>Rating</th>\n",
       "      <th>Company Name</th>\n",
       "      <th>Location</th>\n",
       "      <th>Headquarters</th>\n",
       "      <th>Size</th>\n",
       "      <th>Founded</th>\n",
       "      <th>Type of ownership</th>\n",
       "      <th>Industry</th>\n",
       "      <th>Sector</th>\n",
       "      <th>Revenue</th>\n",
       "      <th>Competitors</th>\n",
       "      <th>Easy Apply</th>\n",
       "    </tr>\n",
       "  </thead>\n",
       "  <tbody>\n",
       "    <tr>\n",
       "      <th>0</th>\n",
       "      <td>Senior Data Scientist</td>\n",
       "      <td>$111K-$181K (Glassdoor est.)</td>\n",
       "      <td>ABOUT HOPPER\\n\\nAt Hopper, we’re on a mission ...</td>\n",
       "      <td>3.5</td>\n",
       "      <td>Hopper\\n3.5</td>\n",
       "      <td>New York, NY</td>\n",
       "      <td>Montreal, Canada</td>\n",
       "      <td>501 to 1000 employees</td>\n",
       "      <td>2007</td>\n",
       "      <td>Company - Private</td>\n",
       "      <td>Travel Agencies</td>\n",
       "      <td>Travel &amp; Tourism</td>\n",
       "      <td>Unknown / Non-Applicable</td>\n",
       "      <td>-1</td>\n",
       "      <td>-1</td>\n",
       "    </tr>\n",
       "    <tr>\n",
       "      <th>1</th>\n",
       "      <td>Data Scientist, Product Analytics</td>\n",
       "      <td>$111K-$181K (Glassdoor est.)</td>\n",
       "      <td>At Noom, we use scientifically proven methods ...</td>\n",
       "      <td>4.5</td>\n",
       "      <td>Noom US\\n4.5</td>\n",
       "      <td>New York, NY</td>\n",
       "      <td>New York, NY</td>\n",
       "      <td>1001 to 5000 employees</td>\n",
       "      <td>2008</td>\n",
       "      <td>Company - Private</td>\n",
       "      <td>Health, Beauty, &amp; Fitness</td>\n",
       "      <td>Consumer Services</td>\n",
       "      <td>Unknown / Non-Applicable</td>\n",
       "      <td>-1</td>\n",
       "      <td>-1</td>\n",
       "    </tr>\n",
       "    <tr>\n",
       "      <th>2</th>\n",
       "      <td>Data Science Manager</td>\n",
       "      <td>$111K-$181K (Glassdoor est.)</td>\n",
       "      <td>Decode_M\\n\\nhttps://www.decode-m.com/\\n\\nData ...</td>\n",
       "      <td>-1.0</td>\n",
       "      <td>Decode_M</td>\n",
       "      <td>New York, NY</td>\n",
       "      <td>New York, NY</td>\n",
       "      <td>1 to 50 employees</td>\n",
       "      <td>-1</td>\n",
       "      <td>Unknown</td>\n",
       "      <td>-1</td>\n",
       "      <td>-1</td>\n",
       "      <td>Unknown / Non-Applicable</td>\n",
       "      <td>-1</td>\n",
       "      <td>True</td>\n",
       "    </tr>\n",
       "  </tbody>\n",
       "</table>\n",
       "</div>"
      ],
      "text/plain": [
       "                           Job Title               Salary Estimate  \\\n",
       "0              Senior Data Scientist  $111K-$181K (Glassdoor est.)   \n",
       "1  Data Scientist, Product Analytics  $111K-$181K (Glassdoor est.)   \n",
       "2               Data Science Manager  $111K-$181K (Glassdoor est.)   \n",
       "\n",
       "                                     Job Description  Rating  Company Name  \\\n",
       "0  ABOUT HOPPER\\n\\nAt Hopper, we’re on a mission ...     3.5   Hopper\\n3.5   \n",
       "1  At Noom, we use scientifically proven methods ...     4.5  Noom US\\n4.5   \n",
       "2  Decode_M\\n\\nhttps://www.decode-m.com/\\n\\nData ...    -1.0      Decode_M   \n",
       "\n",
       "       Location      Headquarters                    Size  Founded  \\\n",
       "0  New York, NY  Montreal, Canada   501 to 1000 employees     2007   \n",
       "1  New York, NY      New York, NY  1001 to 5000 employees     2008   \n",
       "2  New York, NY      New York, NY       1 to 50 employees       -1   \n",
       "\n",
       "   Type of ownership                   Industry             Sector  \\\n",
       "0  Company - Private            Travel Agencies   Travel & Tourism   \n",
       "1  Company - Private  Health, Beauty, & Fitness  Consumer Services   \n",
       "2            Unknown                         -1                 -1   \n",
       "\n",
       "                    Revenue Competitors Easy Apply  \n",
       "0  Unknown / Non-Applicable          -1         -1  \n",
       "1  Unknown / Non-Applicable          -1         -1  \n",
       "2  Unknown / Non-Applicable          -1       True  "
      ]
     },
     "execution_count": 5,
     "metadata": {},
     "output_type": "execute_result"
    }
   ],
   "source": [
    "listings_gd = pd.DataFrame()\n",
    "\n",
    "for file in paths_csv:\n",
    "    if \"MLE Jobs LinkedIn\" in file:\n",
    "        continue\n",
    "        \n",
    "    jobfamily = file.split(\"/\")[-1].split(\".csv\")[0] # Extract job family from file path\n",
    "    print(jobfamily)\n",
    "    \n",
    "    df = pd.read_csv(file)\n",
    "    df = df[cols] # Reorder & subset cols for data integrity\n",
    "    listings_gd = pd.concat([listings_gd, df], axis=0, ignore_index=True)\n",
    "\n",
    "del df\n",
    "listings_gd.head(3)"
   ]
  },
  {
   "cell_type": "markdown",
   "id": "f3b04e9f",
   "metadata": {},
   "source": [
    "## Merge Datasets"
   ]
  },
  {
   "cell_type": "code",
   "execution_count": 6,
   "id": "16edb674",
   "metadata": {},
   "outputs": [],
   "source": [
    "cols = [\"Company Name\", \"Job Title\", \"Location\", \"Industry\", \"Job Description\"]\n",
    "\n",
    "listings_li = listings_li.rename(columns={\"JD\": \"Job Description\"})\n",
    "listings = pd.concat([listings_li[cols], listings_gd[cols]], axis=0, ignore_index=True)"
   ]
  },
  {
   "cell_type": "code",
   "execution_count": 7,
   "id": "21817b0b",
   "metadata": {},
   "outputs": [
    {
     "data": {
      "text/plain": [
       "(16717, 5)"
      ]
     },
     "execution_count": 7,
     "metadata": {},
     "output_type": "execute_result"
    }
   ],
   "source": [
    "listings.shape"
   ]
  },
  {
   "cell_type": "markdown",
   "id": "bb768eb4",
   "metadata": {},
   "source": [
    "## Data Cleaning"
   ]
  },
  {
   "cell_type": "markdown",
   "id": "e257f8ea",
   "metadata": {},
   "source": [
    "### Companies"
   ]
  },
  {
   "cell_type": "code",
   "execution_count": 8,
   "id": "f5d91bcd",
   "metadata": {},
   "outputs": [],
   "source": [
    "listings['Company Name'] = listings['Company Name'].apply(lambda x: str(x).split(\"\\n\")[0])"
   ]
  },
  {
   "cell_type": "markdown",
   "id": "99527ed9",
   "metadata": {},
   "source": [
    "### Job Titles"
   ]
  },
  {
   "cell_type": "code",
   "execution_count": 9,
   "id": "071f55da",
   "metadata": {},
   "outputs": [],
   "source": [
    "def match_job_title(job_title, keywords):\n",
    "    # Check if job title is present in a predefined list of titles\n",
    "    if job_title in keywords:\n",
    "        return 1\n",
    "    return 0"
   ]
  },
  {
   "cell_type": "code",
   "execution_count": 10,
   "id": "73fe2209",
   "metadata": {},
   "outputs": [],
   "source": [
    "with open(\"./Kaggle-Data-Science-ML-Survey-Analysis/data/raw/job_listings/job_mapping.json\", 'r') as f:\n",
    "    job_mapping = json.load(f)\n",
    "\n",
    "for jobtitle, keywords in job_mapping.items():\n",
    "    listings[jobtitle] = listings[\"Job Title\"].apply(lambda title: match_job_title(title, keywords))"
   ]
  },
  {
   "cell_type": "code",
   "execution_count": 11,
   "id": "250e2c8e",
   "metadata": {},
   "outputs": [],
   "source": [
    "listings = listings.dropna(subset=['Job Title', 'Job Description'])"
   ]
  },
  {
   "cell_type": "code",
   "execution_count": 12,
   "id": "63778620",
   "metadata": {},
   "outputs": [
    {
     "data": {
      "text/html": [
       "<div>\n",
       "<style scoped>\n",
       "    .dataframe tbody tr th:only-of-type {\n",
       "        vertical-align: middle;\n",
       "    }\n",
       "\n",
       "    .dataframe tbody tr th {\n",
       "        vertical-align: top;\n",
       "    }\n",
       "\n",
       "    .dataframe thead th {\n",
       "        text-align: right;\n",
       "    }\n",
       "</style>\n",
       "<table border=\"1\" class=\"dataframe\">\n",
       "  <thead>\n",
       "    <tr style=\"text-align: right;\">\n",
       "      <th></th>\n",
       "      <th>Company Name</th>\n",
       "      <th>Job Title</th>\n",
       "      <th>Location</th>\n",
       "      <th>Industry</th>\n",
       "      <th>Job Description</th>\n",
       "      <th>Business Analyst</th>\n",
       "      <th>Data Analyst</th>\n",
       "      <th>Data Engineer</th>\n",
       "      <th>Data Scientist</th>\n",
       "      <th>Machine Learning Engineer</th>\n",
       "      <th>Research</th>\n",
       "    </tr>\n",
       "  </thead>\n",
       "  <tbody>\n",
       "    <tr>\n",
       "      <th>0</th>\n",
       "      <td>80 Acres Farms</td>\n",
       "      <td>SENIOR COMPUTER VISION DATA SCIENTIST</td>\n",
       "      <td>Hamilton, OH</td>\n",
       "      <td>Farming</td>\n",
       "      <td>About The Company\\r\\n\\r\\nThe Future of Fresh i...</td>\n",
       "      <td>0</td>\n",
       "      <td>0</td>\n",
       "      <td>0</td>\n",
       "      <td>1</td>\n",
       "      <td>1</td>\n",
       "      <td>0</td>\n",
       "    </tr>\n",
       "    <tr>\n",
       "      <th>1</th>\n",
       "      <td>Terran Robotics</td>\n",
       "      <td>Senior Software Engineer</td>\n",
       "      <td>Bloomington, IN</td>\n",
       "      <td>None</td>\n",
       "      <td>Terran Robotics is building construction robot...</td>\n",
       "      <td>0</td>\n",
       "      <td>0</td>\n",
       "      <td>0</td>\n",
       "      <td>0</td>\n",
       "      <td>0</td>\n",
       "      <td>0</td>\n",
       "    </tr>\n",
       "    <tr>\n",
       "      <th>2</th>\n",
       "      <td>ZF Group</td>\n",
       "      <td>Systems Engineer</td>\n",
       "      <td>Greater Lansing</td>\n",
       "      <td>Motor Vehicle Manufacturing</td>\n",
       "      <td>Job description:\\r\\n\\r\\nJob Description:\\r\\n\\r...</td>\n",
       "      <td>0</td>\n",
       "      <td>0</td>\n",
       "      <td>0</td>\n",
       "      <td>0</td>\n",
       "      <td>0</td>\n",
       "      <td>0</td>\n",
       "    </tr>\n",
       "  </tbody>\n",
       "</table>\n",
       "</div>"
      ],
      "text/plain": [
       "      Company Name                              Job Title         Location  \\\n",
       "0   80 Acres Farms  SENIOR COMPUTER VISION DATA SCIENTIST     Hamilton, OH   \n",
       "1  Terran Robotics               Senior Software Engineer  Bloomington, IN   \n",
       "2         ZF Group                       Systems Engineer  Greater Lansing   \n",
       "\n",
       "                      Industry  \\\n",
       "0                      Farming   \n",
       "1                         None   \n",
       "2  Motor Vehicle Manufacturing   \n",
       "\n",
       "                                     Job Description  Business Analyst  \\\n",
       "0  About The Company\\r\\n\\r\\nThe Future of Fresh i...                 0   \n",
       "1  Terran Robotics is building construction robot...                 0   \n",
       "2  Job description:\\r\\n\\r\\nJob Description:\\r\\n\\r...                 0   \n",
       "\n",
       "   Data Analyst  Data Engineer  Data Scientist  Machine Learning Engineer  \\\n",
       "0             0              0               1                          1   \n",
       "1             0              0               0                          0   \n",
       "2             0              0               0                          0   \n",
       "\n",
       "   Research  \n",
       "0         0  \n",
       "1         0  \n",
       "2         0  "
      ]
     },
     "execution_count": 12,
     "metadata": {},
     "output_type": "execute_result"
    }
   ],
   "source": [
    "listings.head(3)"
   ]
  },
  {
   "cell_type": "markdown",
   "id": "4fba7c5e",
   "metadata": {},
   "source": [
    "## Feature Extraction from JDs"
   ]
  },
  {
   "cell_type": "markdown",
   "id": "56b18bb1",
   "metadata": {},
   "source": [
    "### Entities of interest: \n",
    "\n",
    "#### Skills\n",
    "1. Programming Languages (exp- Python, SQL, R)\n",
    "2. ML Frameworks (exp- Sklearn, Tensorflow, Pytorch)\n",
    "3. ML Algorithms (exp- Regression, DTs, GBMs, GNNs)\n",
    "4. Visualization Libraries (exp- Matplotlib, Seaborn)\n",
    "5. Cloud Platforms (exp- AWS, Azure, GCP)\n",
    "6. Databases (exp- MySQL, MongoDB)\n",
    "7. BI Tools (exp- Tableau, PowerBI)\n",
    "\n",
    "#### Job Requirements\n",
    "1. Years of experience\n",
    "2. Degree (Bachelor's, Master's, PhD)"
   ]
  },
  {
   "cell_type": "markdown",
   "id": "a5734ae1",
   "metadata": {},
   "source": [
    "### Dictionary based mapping of skills"
   ]
  },
  {
   "cell_type": "code",
   "execution_count": 13,
   "id": "a0a7efc6",
   "metadata": {},
   "outputs": [
    {
     "data": {
      "text/plain": [
       "['MLFramework_Scikit-learn',\n",
       " 'MLFramework_TensorFlow',\n",
       " 'MLFramework_Keras',\n",
       " 'MLFramework_PyTorch',\n",
       " 'MLFramework_Fast.ai']"
      ]
     },
     "execution_count": 13,
     "metadata": {},
     "output_type": "execute_result"
    }
   ],
   "source": [
    "with open(\"./Kaggle-Data-Science-ML-Survey-Analysis/data/raw/ds_survey/survey_cols.json\", 'r') as f:\n",
    "    survey_cols = json.load(f)\n",
    "\n",
    "[col for col in survey_cols if 'MLFramework_' in col][:5]"
   ]
  },
  {
   "cell_type": "code",
   "execution_count": 14,
   "id": "3fbf508c",
   "metadata": {},
   "outputs": [],
   "source": [
    "def get_kw_dict(kw, survey_cols):\n",
    "    \"\"\"\n",
    "    Get dict of col names which match the given keyword.\n",
    "    Exp: kw='MLFramework' returns\n",
    "        {'MLFramework_Xgboost': ['Xgboost'], 'MLFramework_TensorFlow': ['Tensorflow']} ...\n",
    "    \"\"\"\n",
    "    return {col: [\" \".join(col.split('_')[1:]).strip()] for col in survey_cols if kw in col}"
   ]
  },
  {
   "cell_type": "code",
   "execution_count": 15,
   "id": "e0779ff1",
   "metadata": {},
   "outputs": [],
   "source": [
    "prog_languages = get_kw_dict(\"ProgLanguage_\", survey_cols)\n",
    "ml_frameworks = get_kw_dict(\"MLFramework_\", survey_cols)\n",
    "ml_algos = get_kw_dict(\"MLAlgo_\", survey_cols)\n",
    "viz_libs = get_kw_dict(\"VizLib_\", survey_cols)\n",
    "cloud_providers = get_kw_dict(\"CloudProviderUsed_\", survey_cols)\n",
    "dbs = get_kw_dict(\"DBUsed_\", survey_cols)\n",
    "bi_tools = get_kw_dict(\"BIToolUsed_\", survey_cols)"
   ]
  },
  {
   "cell_type": "code",
   "execution_count": 16,
   "id": "992c1673",
   "metadata": {},
   "outputs": [],
   "source": [
    "# Manual validation of keywords\n",
    "\n",
    "prog_languages['ProgLanguage_R'] = [' R ']\n",
    "prog_languages['ProgLanguage_C'] = [' C ']\n",
    "prog_languages['ProgLanguage_Go'] = [' Go ']\n",
    "\n",
    "ml_frameworks['MLFramework_Scikit-learn'].extend(['sklearn'])\n",
    "\n",
    "ml_algos['MLAlgo_Linear or Logistic Regression'].extend(['regression'])\n",
    "ml_algos['MLAlgo_Decision Trees or Random Forests'].extend(['decision tree', 'random forest'])\n",
    "ml_algos['MLAlgo_Gradient Boosting Machines (xgboost, lightgbm, etc)'].extend(['xgboost', 'lightgbm', 'gbm', 'gradient boost'])\n",
    "ml_algos['MLAlgo_Bayesian Approaches'].extend(['bayes'])\n",
    "ml_algos['MLAlgo_Evolutionary Approaches'].extend(['genetic algo'])\n",
    "ml_algos['MLAlgo_Dense Neural Networks (MLPs, etc)'].extend(['dnn', 'deep neural net', 'perceptron'])\n",
    "ml_algos['MLAlgo_Convolutional Neural Networks'].extend(['cnn', 'yolo', 'resnet', 'vgg', 'inception'])\n",
    "ml_algos['MLAlgo_Generative Adversarial Networks'].extend([' gan '])\n",
    "ml_algos['MLAlgo_Recurrent Neural Networks'].extend(['rnn', 'lstm', 'gru'])\n",
    "ml_algos['MLAlgo_Transformer Networks (BERT, gpt-3, etc)'].extend(['bert', 'gpt', 'transformer', 'universal sentence encoder'])\n",
    "ml_algos['MLAlgo_Autoencoder Networks (DAE, VAE, etc)'].extend(['dae', 'vae', 'autoencoder'])\n",
    "ml_algos['MLAlgo_Graph Neural Networks'].extend(['gnn', 'graph neural net'])\n",
    "\n",
    "viz_libs['VizLib_Plotly / Plotly Express'].extend(['plotly'])\n",
    "viz_libs['VizLib_Ggplot / ggplot2'].extend(['ggplot'])\n",
    "viz_libs['VizLib_D3 js'].extend(['d3'])\n",
    "\n",
    "cloud_providers['CloudProviderUsed_Amazon Web Services (AWS)'].extend(['AWS'])\n",
    "cloud_providers['CloudProviderUsed_Microsoft Azure'].extend(['Azure'])\n",
    "cloud_providers['CloudProviderUsed_Google Cloud Platform (GCP)'].extend(['google cloud', 'gcp'])\n",
    "cloud_providers['CloudProviderUsed_IBM Cloud / Red Hat'].extend(['red hat', 'ibm cloud'])\n",
    "\n",
    "dbs['DBUsed_Microsoft SQL Server'].extend(['Mircosoft SQL'])\n",
    "dbs['DBUsed_Amazon Redshift'].extend(['Redshift'])\n",
    "dbs['DBUsed_Amazon RDS'].extend([' RDS '])\n",
    "dbs['DBUsed_Amazon DynamoDB'].extend(['DynamoDB'])\n",
    "dbs['DBUsed_Google Cloud BigQuery'].extend(['BigQuery'])\n",
    "\n",
    "bi_tools['BIToolUsed_Amazon QuickSight'].extend(['QuickSight'])\n",
    "bi_tools['BIToolUsed_Microsoft Power BI'].extend(['Power BI'])"
   ]
  },
  {
   "cell_type": "code",
   "execution_count": 17,
   "id": "01afa36a",
   "metadata": {},
   "outputs": [],
   "source": [
    "all_features = {**prog_languages, **ml_frameworks, **ml_algos, **viz_libs, **cloud_providers, **dbs, **bi_tools}\n",
    "all_features = {k:v for k,v in all_features.items() if not ('other' in k.lower() or 'none' in k.lower())}"
   ]
  },
  {
   "cell_type": "code",
   "execution_count": 18,
   "id": "825943d6",
   "metadata": {},
   "outputs": [],
   "source": [
    "regex_punct = re.compile('[%s]' % re.escape(string.punctuation))\n",
    "\n",
    "def remove_punct(text):\n",
    "    cleaned = regex_punct.sub(' ', text) # Replace punctuations with spaces. Exp: \"AI/ML\" -> \"AI ML\"\n",
    "    return re.sub(' +', ' ', cleaned) # Replace multiple spaces with single space"
   ]
  },
  {
   "cell_type": "code",
   "execution_count": 19,
   "id": "9a67fce1",
   "metadata": {},
   "outputs": [],
   "source": [
    "def match_kw(jd, kws):\n",
    "    \"Returns 1 if the JD contains a keyword associated to a skill\"\n",
    "    for kw in kws:\n",
    "        if kw.lower() in jd.lower():\n",
    "            return 1\n",
    "    return 0"
   ]
  },
  {
   "cell_type": "code",
   "execution_count": 20,
   "id": "bb701050",
   "metadata": {},
   "outputs": [],
   "source": [
    "listings['Job Description'] = listings['Job Description'].apply(remove_punct)"
   ]
  },
  {
   "cell_type": "code",
   "execution_count": 21,
   "id": "28a08eac",
   "metadata": {},
   "outputs": [
    {
     "name": "stdout",
     "output_type": "stream",
     "text": [
      "CPU times: user 32.8 s, sys: 147 ms, total: 32.9 s\n",
      "Wall time: 33 s\n"
     ]
    },
    {
     "data": {
      "text/html": [
       "<div>\n",
       "<style scoped>\n",
       "    .dataframe tbody tr th:only-of-type {\n",
       "        vertical-align: middle;\n",
       "    }\n",
       "\n",
       "    .dataframe tbody tr th {\n",
       "        vertical-align: top;\n",
       "    }\n",
       "\n",
       "    .dataframe thead th {\n",
       "        text-align: right;\n",
       "    }\n",
       "</style>\n",
       "<table border=\"1\" class=\"dataframe\">\n",
       "  <thead>\n",
       "    <tr style=\"text-align: right;\">\n",
       "      <th></th>\n",
       "      <th>Company Name</th>\n",
       "      <th>Job Title</th>\n",
       "      <th>Location</th>\n",
       "      <th>Industry</th>\n",
       "      <th>Job Description</th>\n",
       "      <th>Business Analyst</th>\n",
       "      <th>Data Analyst</th>\n",
       "      <th>Data Engineer</th>\n",
       "      <th>Data Scientist</th>\n",
       "      <th>Machine Learning Engineer</th>\n",
       "      <th>...</th>\n",
       "      <th>BIToolUsed_Domo</th>\n",
       "      <th>BIToolUsed_TIBCO Spotfire</th>\n",
       "      <th>BIToolUsed_Alteryx</th>\n",
       "      <th>BIToolUsed_Sisense</th>\n",
       "      <th>BIToolUsed_SAP Analytics Cloud</th>\n",
       "      <th>BIToolUsed_Microsoft Azure Synapse</th>\n",
       "      <th>BIToolUsed_Thoughtspot</th>\n",
       "      <th>BIToolUsed_Salesforce</th>\n",
       "      <th>BIToolUsed_Tableau CRM</th>\n",
       "      <th>BIToolUsed_Qlik</th>\n",
       "    </tr>\n",
       "  </thead>\n",
       "  <tbody>\n",
       "    <tr>\n",
       "      <th>0</th>\n",
       "      <td>80 Acres Farms</td>\n",
       "      <td>SENIOR COMPUTER VISION DATA SCIENTIST</td>\n",
       "      <td>Hamilton, OH</td>\n",
       "      <td>Farming</td>\n",
       "      <td>About The Company\\r\\n\\r\\nThe Future of Fresh i...</td>\n",
       "      <td>0</td>\n",
       "      <td>0</td>\n",
       "      <td>0</td>\n",
       "      <td>1</td>\n",
       "      <td>1</td>\n",
       "      <td>...</td>\n",
       "      <td>0</td>\n",
       "      <td>0</td>\n",
       "      <td>0</td>\n",
       "      <td>0</td>\n",
       "      <td>0</td>\n",
       "      <td>0</td>\n",
       "      <td>0</td>\n",
       "      <td>0</td>\n",
       "      <td>0</td>\n",
       "      <td>0</td>\n",
       "    </tr>\n",
       "    <tr>\n",
       "      <th>1</th>\n",
       "      <td>Terran Robotics</td>\n",
       "      <td>Senior Software Engineer</td>\n",
       "      <td>Bloomington, IN</td>\n",
       "      <td>None</td>\n",
       "      <td>Terran Robotics is building construction robot...</td>\n",
       "      <td>0</td>\n",
       "      <td>0</td>\n",
       "      <td>0</td>\n",
       "      <td>0</td>\n",
       "      <td>0</td>\n",
       "      <td>...</td>\n",
       "      <td>0</td>\n",
       "      <td>0</td>\n",
       "      <td>0</td>\n",
       "      <td>0</td>\n",
       "      <td>0</td>\n",
       "      <td>0</td>\n",
       "      <td>0</td>\n",
       "      <td>0</td>\n",
       "      <td>0</td>\n",
       "      <td>0</td>\n",
       "    </tr>\n",
       "    <tr>\n",
       "      <th>2</th>\n",
       "      <td>ZF Group</td>\n",
       "      <td>Systems Engineer</td>\n",
       "      <td>Greater Lansing</td>\n",
       "      <td>Motor Vehicle Manufacturing</td>\n",
       "      <td>Job description \\r\\n\\r\\nJob Description \\r\\n\\r...</td>\n",
       "      <td>0</td>\n",
       "      <td>0</td>\n",
       "      <td>0</td>\n",
       "      <td>0</td>\n",
       "      <td>0</td>\n",
       "      <td>...</td>\n",
       "      <td>0</td>\n",
       "      <td>0</td>\n",
       "      <td>0</td>\n",
       "      <td>0</td>\n",
       "      <td>0</td>\n",
       "      <td>0</td>\n",
       "      <td>0</td>\n",
       "      <td>0</td>\n",
       "      <td>0</td>\n",
       "      <td>0</td>\n",
       "    </tr>\n",
       "  </tbody>\n",
       "</table>\n",
       "<p>3 rows × 112 columns</p>\n",
       "</div>"
      ],
      "text/plain": [
       "      Company Name                              Job Title         Location  \\\n",
       "0   80 Acres Farms  SENIOR COMPUTER VISION DATA SCIENTIST     Hamilton, OH   \n",
       "1  Terran Robotics               Senior Software Engineer  Bloomington, IN   \n",
       "2         ZF Group                       Systems Engineer  Greater Lansing   \n",
       "\n",
       "                      Industry  \\\n",
       "0                      Farming   \n",
       "1                         None   \n",
       "2  Motor Vehicle Manufacturing   \n",
       "\n",
       "                                     Job Description  Business Analyst  \\\n",
       "0  About The Company\\r\\n\\r\\nThe Future of Fresh i...                 0   \n",
       "1  Terran Robotics is building construction robot...                 0   \n",
       "2  Job description \\r\\n\\r\\nJob Description \\r\\n\\r...                 0   \n",
       "\n",
       "   Data Analyst  Data Engineer  Data Scientist  Machine Learning Engineer  \\\n",
       "0             0              0               1                          1   \n",
       "1             0              0               0                          0   \n",
       "2             0              0               0                          0   \n",
       "\n",
       "   ...  BIToolUsed_Domo  BIToolUsed_TIBCO Spotfire  BIToolUsed_Alteryx  \\\n",
       "0  ...                0                          0                   0   \n",
       "1  ...                0                          0                   0   \n",
       "2  ...                0                          0                   0   \n",
       "\n",
       "   BIToolUsed_Sisense  BIToolUsed_SAP Analytics Cloud  \\\n",
       "0                   0                               0   \n",
       "1                   0                               0   \n",
       "2                   0                               0   \n",
       "\n",
       "   BIToolUsed_Microsoft Azure Synapse  BIToolUsed_Thoughtspot  \\\n",
       "0                                   0                       0   \n",
       "1                                   0                       0   \n",
       "2                                   0                       0   \n",
       "\n",
       "   BIToolUsed_Salesforce  BIToolUsed_Tableau CRM  BIToolUsed_Qlik  \n",
       "0                      0                       0                0  \n",
       "1                      0                       0                0  \n",
       "2                      0                       0                0  \n",
       "\n",
       "[3 rows x 112 columns]"
      ]
     },
     "execution_count": 21,
     "metadata": {},
     "output_type": "execute_result"
    }
   ],
   "source": [
    "%%time\n",
    "# Add features to listings\n",
    "for feature, kws in all_features.items():\n",
    "    listings[feature] = listings['Job Description'].apply(lambda jd: match_kw(jd, kws))\n",
    "\n",
    "listings.head(3)"
   ]
  },
  {
   "cell_type": "code",
   "execution_count": 22,
   "id": "5ad7d88c",
   "metadata": {},
   "outputs": [
    {
     "data": {
      "text/plain": [
       "(16644, 112)"
      ]
     },
     "execution_count": 22,
     "metadata": {},
     "output_type": "execute_result"
    }
   ],
   "source": [
    "listings.shape"
   ]
  },
  {
   "cell_type": "markdown",
   "id": "89d443e5",
   "metadata": {},
   "source": [
    "# Our Tips to get hired!"
   ]
  },
  {
   "cell_type": "markdown",
   "id": "ab8e5903",
   "metadata": {},
   "source": [
    "### Top Skills (overall) for Data Science jobs"
   ]
  },
  {
   "cell_type": "code",
   "execution_count": 23,
   "id": "bc6a3fc1",
   "metadata": {},
   "outputs": [
    {
     "data": {
      "text/plain": [
       "ProgLanguage_SQL                               0.495734\n",
       "ProgLanguage_Python                            0.339762\n",
       "CloudProviderUsed_Amazon Web Services (AWS)    0.197188\n",
       "ProgLanguage_Java                              0.178863\n",
       "BIToolUsed_Tableau                             0.172314\n",
       "dtype: float64"
      ]
     },
     "execution_count": 23,
     "metadata": {},
     "output_type": "execute_result"
    }
   ],
   "source": [
    "cnts = listings.iloc[:,11:].sum()\n",
    "cnts = cnts/len(listings)\n",
    "\n",
    "# Overall Ranking\n",
    "cnts.sort_values(ascending=False)[:5]"
   ]
  },
  {
   "cell_type": "markdown",
   "id": "08db2385",
   "metadata": {},
   "source": [
    "### Top Programming Languages"
   ]
  },
  {
   "cell_type": "code",
   "execution_count": 24,
   "id": "812daf8d",
   "metadata": {},
   "outputs": [
    {
     "data": {
      "text/plain": [
       "ProgLanguage_SQL       0.495734\n",
       "ProgLanguage_Python    0.339762\n",
       "ProgLanguage_Java      0.178863\n",
       "ProgLanguage_R         0.167207\n",
       "ProgLanguage_C         0.110190\n",
       "dtype: float64"
      ]
     },
     "execution_count": 24,
     "metadata": {},
     "output_type": "execute_result"
    }
   ],
   "source": [
    "cnts[cnts.index.str.contains(\"ProgLanguage\")].sort_values(ascending=False)[:5]"
   ]
  },
  {
   "cell_type": "markdown",
   "id": "f4bb7bf5",
   "metadata": {},
   "source": [
    "### Top ML algorithms to add to your resume"
   ]
  },
  {
   "cell_type": "code",
   "execution_count": 25,
   "id": "d6a94d7d",
   "metadata": {},
   "outputs": [
    {
     "data": {
      "text/plain": [
       "MLAlgo_Linear or Logistic Regression                          0.048065\n",
       "MLAlgo_Convolutional Neural Networks                          0.017664\n",
       "MLAlgo_Decision Trees or Random Forests                       0.015081\n",
       "MLAlgo_Transformer Networks (BERT, gpt-3, etc)                0.009853\n",
       "MLAlgo_Bayesian Approaches                                    0.008892\n",
       "MLAlgo_Gradient Boosting Machines (xgboost, lightgbm, etc)    0.005407\n",
       "MLAlgo_Recurrent Neural Networks                              0.004807\n",
       "MLAlgo_Dense Neural Networks (MLPs, etc)                      0.001742\n",
       "MLAlgo_Autoencoder Networks (DAE, VAE, etc)                   0.000901\n",
       "MLAlgo_Generative Adversarial Networks                        0.000601\n",
       "dtype: float64"
      ]
     },
     "execution_count": 25,
     "metadata": {},
     "output_type": "execute_result"
    }
   ],
   "source": [
    "cnts[cnts.index.str.contains(\"MLAlgo\")].sort_values(ascending=False)[:10]"
   ]
  },
  {
   "cell_type": "markdown",
   "id": "a9ba49ef",
   "metadata": {},
   "source": [
    "### Top Cloud tools used in the industry"
   ]
  },
  {
   "cell_type": "code",
   "execution_count": 26,
   "id": "40f94e4d",
   "metadata": {},
   "outputs": [
    {
     "data": {
      "text/plain": [
       "CloudProviderUsed_Amazon Web Services (AWS)      0.197188\n",
       "CloudProviderUsed_Microsoft Azure                0.066090\n",
       "CloudProviderUsed_Google Cloud Platform (GCP)    0.040014\n",
       "CloudProviderUsed_IBM Cloud / Red Hat            0.003064\n",
       "CloudProviderUsed_Oracle Cloud                   0.000841\n",
       "dtype: float64"
      ]
     },
     "execution_count": 26,
     "metadata": {},
     "output_type": "execute_result"
    }
   ],
   "source": [
    "cnts[cnts.index.str.contains(\"CloudProviderUsed\")].sort_values(ascending=False)[:5]"
   ]
  },
  {
   "cell_type": "markdown",
   "id": "5afe5a8c",
   "metadata": {},
   "source": [
    "### Top Databases you should skill yourself in"
   ]
  },
  {
   "cell_type": "code",
   "execution_count": 27,
   "id": "40886b73",
   "metadata": {},
   "outputs": [
    {
     "data": {
      "text/plain": [
       "DBUsed_Amazon Redshift    0.037731\n",
       "DBUsed_MySQL              0.034126\n",
       "DBUsed_Snowflake          0.030882\n",
       "DBUsed_MongoDB            0.022290\n",
       "DBUsed_PostgreSQL         0.017664\n",
       "dtype: float64"
      ]
     },
     "execution_count": 27,
     "metadata": {},
     "output_type": "execute_result"
    }
   ],
   "source": [
    "cnts[cnts.index.str.contains(\"DBUsed\")].sort_values(ascending=False)[:5]"
   ]
  },
  {
   "cell_type": "markdown",
   "id": "d461f17d",
   "metadata": {},
   "source": [
    "**Pro tip**: Add Regression & CNNs to your resumes if you haven't already!"
   ]
  },
  {
   "cell_type": "markdown",
   "id": "70b82d4b",
   "metadata": {},
   "source": [
    "### Top Viz tools"
   ]
  },
  {
   "cell_type": "code",
   "execution_count": 28,
   "id": "cef86a3e",
   "metadata": {},
   "outputs": [
    {
     "data": {
      "text/plain": [
       "VizLib_D3 js               0.007991\n",
       "VizLib_Matplotlib          0.005648\n",
       "VizLib_Shiny               0.004206\n",
       "VizLib_Ggplot / ggplot2    0.003965\n",
       "VizLib_Seaborn             0.002223\n",
       "dtype: float64"
      ]
     },
     "execution_count": 28,
     "metadata": {},
     "output_type": "execute_result"
    }
   ],
   "source": [
    "cnts[cnts.index.str.contains(\"VizLib\")].sort_values(ascending=False)[:5]"
   ]
  },
  {
   "cell_type": "markdown",
   "id": "b677ee17",
   "metadata": {},
   "source": [
    "### Rarely present tools"
   ]
  },
  {
   "cell_type": "code",
   "execution_count": 29,
   "id": "d37ea65e",
   "metadata": {},
   "outputs": [
    {
     "data": {
      "text/plain": [
       "ProgLanguage_C#                        0.0\n",
       "BIToolUsed_Microsoft Azure Synapse     0.0\n",
       "DBUsed_Google Cloud Spanner            0.0\n",
       "DBUsed_Google Cloud Firestore          0.0\n",
       "DBUsed_Microsoft Azure Cosmos DB       0.0\n",
       "DBUsed_Microsoft Azure SQL Database    0.0\n",
       "CloudProviderUsed_Huawei Cloud         0.0\n",
       "CloudProviderUsed_Tencent Cloud        0.0\n",
       "CloudProviderUsed_Alibaba Cloud        0.0\n",
       "CloudProviderUsed_VMware Cloud         0.0\n",
       "VizLib_Dygraphs                        0.0\n",
       "VizLib_Pygal                           0.0\n",
       "VizLib_Leaflet / Folium                0.0\n",
       "VizLib_Geoplotlib                      0.0\n",
       "VizLib_Highcharter                     0.0\n",
       "BIToolUsed_Tableau CRM                 0.0\n",
       "ProgLanguage_C++                       0.0\n",
       "MLFramework_Fast.ai                    0.0\n",
       "MLFramework_H2O 3                      0.0\n",
       "MLFramework_CatBoost                   0.0\n",
       "dtype: float64"
      ]
     },
     "execution_count": 29,
     "metadata": {},
     "output_type": "execute_result"
    }
   ],
   "source": [
    "cnts[cnts<=0.001].sort_values()[:20]"
   ]
  },
  {
   "cell_type": "code",
   "execution_count": 30,
   "id": "8c57cc7a",
   "metadata": {},
   "outputs": [],
   "source": [
    "# Export data\n",
    "listings.to_csv(\"Joblistings.csv\", index=False)"
   ]
  },
  {
   "cell_type": "markdown",
   "id": "4211539a",
   "metadata": {},
   "source": [
    "#### To Do: NER model for skills extraction (so that we are not limited by our list of skills)\n",
    "https://arxiv.org/pdf/2101.11431.pdf"
   ]
  },
  {
   "cell_type": "markdown",
   "id": "65340e85",
   "metadata": {},
   "source": [
    "### Experience (Yrs)"
   ]
  },
  {
   "cell_type": "code",
   "execution_count": 31,
   "id": "018e56ed",
   "metadata": {},
   "outputs": [],
   "source": [
    "# 2 years developing ...\n",
    "# 5 years of related experience\n",
    "# 5 plus years\n",
    "# 5+ years\n",
    "# Atleast 8 years\n",
    "# 1-2 years\n",
    "# 0 to 2 years ...\n",
    "# 6 7 years of experience"
   ]
  },
  {
   "cell_type": "code",
   "execution_count": 32,
   "id": "adc63f63",
   "metadata": {},
   "outputs": [],
   "source": [
    "# for i in listings[listings['Job Description'].str.contains('years', case=False)]['Job Description'][:10]:\n",
    "#     print(i, \"\\n\", \"*\"*100, \"\\n\")"
   ]
  },
  {
   "cell_type": "markdown",
   "id": "32dda122",
   "metadata": {},
   "source": [
    "### Degree"
   ]
  },
  {
   "cell_type": "code",
   "execution_count": 34,
   "id": "f1bffea6",
   "metadata": {},
   "outputs": [],
   "source": [
    "# To Do (If formulating hypothesis)"
   ]
  },
  {
   "cell_type": "markdown",
   "id": "28edd899",
   "metadata": {},
   "source": [
    "## Dataset Characteristics"
   ]
  },
  {
   "cell_type": "markdown",
   "id": "f53b9d10",
   "metadata": {},
   "source": [
    "### Companies in our Dataset"
   ]
  },
  {
   "cell_type": "code",
   "execution_count": 35,
   "id": "962c75b1",
   "metadata": {},
   "outputs": [
    {
     "data": {
      "image/png": "[encoded data removed]",
      "text/plain": [
       "<Figure size 864x576 with 3 Axes>"
      ]
     },
     "metadata": {
      "needs_background": "light"
     },
     "output_type": "display_data"
    }
   ],
   "source": [
    "fig = plt.figure(figsize=(12,8))\n",
    "\n",
    "gs = GridSpec(2, 2, figure=fig, wspace=0.75, hspace=0.4, width_ratios=[1,1])\n",
    "\n",
    "ax1 = fig.add_subplot(gs[:, 1])\n",
    "ax2 = fig.add_subplot(gs[0, 0])\n",
    "ax3 = fig.add_subplot(gs[1, 0])\n",
    "\n",
    "companies = listings['Company Name'].value_counts()[:20] # Top 20 companies\n",
    "sns.barplot(companies.values, companies.index, palette='mako', ax=ax1)\n",
    "ax1.set_title('Top 20 Companies by Job postings', size=16, pad=7)\n",
    "ax1.set_xlabel('No. of Job postings', fontsize=12, labelpad=7)\n",
    "\n",
    "industries = listings['Industry'].value_counts()[:10] # Top 10 Industries\n",
    "industries = industries[industries.index!=\"-1\"]\n",
    "sns.barplot(industries.values, industries.index, palette='mako', ax=ax2)\n",
    "ax2.set_title('Top 10 Industries by Job postings', size=16, pad=10)\n",
    "ax2.set_xlabel('No. of Job postings', fontsize=12, labelpad=7)\n",
    "\n",
    "locations = listings['Location'].value_counts()[:10] # Top 10 Industries\n",
    "sns.barplot(locations.values, locations.index, palette='mako', ax=ax3)\n",
    "ax3.set_title('Top 10 Locations by Job postings', size=16, pad=7)\n",
    "ax3.set_xlabel('No. of Job postings', fontsize=12, labelpad=7)\n",
    "\n",
    "plt.show()"
   ]
  }
 ],
 "metadata": {
  "kernelspec": {
   "display_name": "Python 3 (ipykernel)",
   "language": "python",
   "name": "python3"
  },
  "language_info": {
   "codemirror_mode": {
    "name": "ipython",
    "version": 3
   },
   "file_extension": ".py",
   "mimetype": "text/x-python",
   "name": "python",
   "nbconvert_exporter": "python",
   "pygments_lexer": "ipython3",
   "version": "3.9.7"
  }
 },
 "nbformat": 4,
 "nbformat_minor": 5
}
