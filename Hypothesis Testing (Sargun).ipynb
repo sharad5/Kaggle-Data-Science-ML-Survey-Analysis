{
 "cells": [
  {
   "cell_type": "code",
   "execution_count": 1,
   "id": "1daae3c4",
   "metadata": {},
   "outputs": [],
   "source": [
    "import json\n",
    "import warnings\n",
    "import numpy as np\n",
    "import pandas as pd\n",
    "import matplotlib.pyplot as plt\n",
    "from matplotlib.gridspec import GridSpec\n",
    "import seaborn as sns\n",
    "warnings.filterwarnings('ignore')\n",
    "sns.set_style('whitegrid')\n",
    "%matplotlib inline\n",
    "\n",
    "from statsmodels.stats.proportion import proportions_ztest"
   ]
  },
  {
   "cell_type": "code",
   "execution_count": 2,
   "id": "a6ccb2be",
   "metadata": {},
   "outputs": [],
   "source": [
    "alpha = 0.005"
   ]
  },
  {
   "cell_type": "markdown",
   "id": "aedc9f64",
   "metadata": {},
   "source": [
    "## Read Data"
   ]
  },
  {
   "cell_type": "code",
   "execution_count": 3,
   "id": "e665e385",
   "metadata": {},
   "outputs": [
    {
     "data": {
      "text/html": [
       "<div>\n",
       "<style scoped>\n",
       "    .dataframe tbody tr th:only-of-type {\n",
       "        vertical-align: middle;\n",
       "    }\n",
       "\n",
       "    .dataframe tbody tr th {\n",
       "        vertical-align: top;\n",
       "    }\n",
       "\n",
       "    .dataframe thead th {\n",
       "        text-align: right;\n",
       "    }\n",
       "</style>\n",
       "<table border=\"1\" class=\"dataframe\">\n",
       "  <thead>\n",
       "    <tr style=\"text-align: right;\">\n",
       "      <th></th>\n",
       "      <th>Company Name</th>\n",
       "      <th>Job Title</th>\n",
       "      <th>Location</th>\n",
       "      <th>Industry</th>\n",
       "      <th>Job Description</th>\n",
       "      <th>Business Analyst</th>\n",
       "      <th>Data Analyst</th>\n",
       "      <th>Data Engineer</th>\n",
       "      <th>Data Scientist</th>\n",
       "      <th>Machine Learning Engineer</th>\n",
       "      <th>...</th>\n",
       "      <th>BIToolUsed_Domo</th>\n",
       "      <th>BIToolUsed_TIBCO Spotfire</th>\n",
       "      <th>BIToolUsed_Alteryx</th>\n",
       "      <th>BIToolUsed_Sisense</th>\n",
       "      <th>BIToolUsed_SAP Analytics Cloud</th>\n",
       "      <th>BIToolUsed_Microsoft Azure Synapse</th>\n",
       "      <th>BIToolUsed_Thoughtspot</th>\n",
       "      <th>BIToolUsed_Salesforce</th>\n",
       "      <th>BIToolUsed_Tableau CRM</th>\n",
       "      <th>BIToolUsed_Qlik</th>\n",
       "    </tr>\n",
       "  </thead>\n",
       "  <tbody>\n",
       "    <tr>\n",
       "      <th>0</th>\n",
       "      <td>80 Acres Farms</td>\n",
       "      <td>SENIOR COMPUTER VISION DATA SCIENTIST</td>\n",
       "      <td>Hamilton, OH</td>\n",
       "      <td>Farming</td>\n",
       "      <td>About The Company\\r\\n\\r\\nThe Future of Fresh i...</td>\n",
       "      <td>0</td>\n",
       "      <td>0</td>\n",
       "      <td>0</td>\n",
       "      <td>1</td>\n",
       "      <td>1</td>\n",
       "      <td>...</td>\n",
       "      <td>0</td>\n",
       "      <td>0</td>\n",
       "      <td>0</td>\n",
       "      <td>0</td>\n",
       "      <td>0</td>\n",
       "      <td>0</td>\n",
       "      <td>0</td>\n",
       "      <td>0</td>\n",
       "      <td>0</td>\n",
       "      <td>0</td>\n",
       "    </tr>\n",
       "    <tr>\n",
       "      <th>1</th>\n",
       "      <td>Terran Robotics</td>\n",
       "      <td>Senior Software Engineer</td>\n",
       "      <td>Bloomington, IN</td>\n",
       "      <td>None</td>\n",
       "      <td>Terran Robotics is building construction robot...</td>\n",
       "      <td>0</td>\n",
       "      <td>0</td>\n",
       "      <td>0</td>\n",
       "      <td>0</td>\n",
       "      <td>0</td>\n",
       "      <td>...</td>\n",
       "      <td>0</td>\n",
       "      <td>0</td>\n",
       "      <td>0</td>\n",
       "      <td>0</td>\n",
       "      <td>0</td>\n",
       "      <td>0</td>\n",
       "      <td>0</td>\n",
       "      <td>0</td>\n",
       "      <td>0</td>\n",
       "      <td>0</td>\n",
       "    </tr>\n",
       "    <tr>\n",
       "      <th>2</th>\n",
       "      <td>ZF Group</td>\n",
       "      <td>Systems Engineer</td>\n",
       "      <td>Greater Lansing</td>\n",
       "      <td>Motor Vehicle Manufacturing</td>\n",
       "      <td>Job description \\r\\n\\r\\nJob Description \\r\\n\\r...</td>\n",
       "      <td>0</td>\n",
       "      <td>0</td>\n",
       "      <td>0</td>\n",
       "      <td>0</td>\n",
       "      <td>0</td>\n",
       "      <td>...</td>\n",
       "      <td>0</td>\n",
       "      <td>0</td>\n",
       "      <td>0</td>\n",
       "      <td>0</td>\n",
       "      <td>0</td>\n",
       "      <td>0</td>\n",
       "      <td>0</td>\n",
       "      <td>0</td>\n",
       "      <td>0</td>\n",
       "      <td>0</td>\n",
       "    </tr>\n",
       "  </tbody>\n",
       "</table>\n",
       "<p>3 rows × 112 columns</p>\n",
       "</div>"
      ],
      "text/plain": [
       "      Company Name                              Job Title         Location  \\\n",
       "0   80 Acres Farms  SENIOR COMPUTER VISION DATA SCIENTIST     Hamilton, OH   \n",
       "1  Terran Robotics               Senior Software Engineer  Bloomington, IN   \n",
       "2         ZF Group                       Systems Engineer  Greater Lansing   \n",
       "\n",
       "                      Industry  \\\n",
       "0                      Farming   \n",
       "1                         None   \n",
       "2  Motor Vehicle Manufacturing   \n",
       "\n",
       "                                     Job Description  Business Analyst  \\\n",
       "0  About The Company\\r\\n\\r\\nThe Future of Fresh i...                 0   \n",
       "1  Terran Robotics is building construction robot...                 0   \n",
       "2  Job description \\r\\n\\r\\nJob Description \\r\\n\\r...                 0   \n",
       "\n",
       "   Data Analyst  Data Engineer  Data Scientist  Machine Learning Engineer  \\\n",
       "0             0              0               1                          1   \n",
       "1             0              0               0                          0   \n",
       "2             0              0               0                          0   \n",
       "\n",
       "   ...  BIToolUsed_Domo  BIToolUsed_TIBCO Spotfire  BIToolUsed_Alteryx  \\\n",
       "0  ...                0                          0                   0   \n",
       "1  ...                0                          0                   0   \n",
       "2  ...                0                          0                   0   \n",
       "\n",
       "   BIToolUsed_Sisense  BIToolUsed_SAP Analytics Cloud  \\\n",
       "0                   0                               0   \n",
       "1                   0                               0   \n",
       "2                   0                               0   \n",
       "\n",
       "   BIToolUsed_Microsoft Azure Synapse  BIToolUsed_Thoughtspot  \\\n",
       "0                                   0                       0   \n",
       "1                                   0                       0   \n",
       "2                                   0                       0   \n",
       "\n",
       "   BIToolUsed_Salesforce  BIToolUsed_Tableau CRM  BIToolUsed_Qlik  \n",
       "0                      0                       0                0  \n",
       "1                      0                       0                0  \n",
       "2                      0                       0                0  \n",
       "\n",
       "[3 rows x 112 columns]"
      ]
     },
     "execution_count": 3,
     "metadata": {},
     "output_type": "execute_result"
    }
   ],
   "source": [
    "jobs_df = pd.read_csv(\"Joblistings.csv\")\n",
    "jobs_df = jobs_df.rename(columns={'Research': 'Research Scientist'})\n",
    "jobs_df.head(3)"
   ]
  },
  {
   "cell_type": "code",
   "execution_count": 4,
   "id": "f3829742",
   "metadata": {},
   "outputs": [
    {
     "data": {
      "text/html": [
       "<div>\n",
       "<style scoped>\n",
       "    .dataframe tbody tr th:only-of-type {\n",
       "        vertical-align: middle;\n",
       "    }\n",
       "\n",
       "    .dataframe tbody tr th {\n",
       "        vertical-align: top;\n",
       "    }\n",
       "\n",
       "    .dataframe thead th {\n",
       "        text-align: right;\n",
       "    }\n",
       "</style>\n",
       "<table border=\"1\" class=\"dataframe\">\n",
       "  <thead>\n",
       "    <tr style=\"text-align: right;\">\n",
       "      <th></th>\n",
       "      <th>Unnamed: 0</th>\n",
       "      <th>Unnamed: 0.1</th>\n",
       "      <th>Duration (in seconds)</th>\n",
       "      <th>Age</th>\n",
       "      <th>Gender</th>\n",
       "      <th>Country</th>\n",
       "      <th>IsStudent</th>\n",
       "      <th>MOOCPlatforms_Coursera</th>\n",
       "      <th>MOOCPlatforms_edX</th>\n",
       "      <th>MOOCPlatforms_Kaggle Learn Courses</th>\n",
       "      <th>...</th>\n",
       "      <th>Q35_B_Part_2</th>\n",
       "      <th>Q35_B_Part_3</th>\n",
       "      <th>Q35_B_Part_4</th>\n",
       "      <th>Q35_B_Part_5</th>\n",
       "      <th>Q35_B_Part_6</th>\n",
       "      <th>Q35_B_Part_7</th>\n",
       "      <th>Q35_B_Part_8</th>\n",
       "      <th>Q35_B_Part_9</th>\n",
       "      <th>Q35_B_Part_10</th>\n",
       "      <th>Q35_B_OTHER</th>\n",
       "    </tr>\n",
       "  </thead>\n",
       "  <tbody>\n",
       "    <tr>\n",
       "      <th>0</th>\n",
       "      <td>1</td>\n",
       "      <td>NaN</td>\n",
       "      <td>1838</td>\n",
       "      <td>35-39</td>\n",
       "      <td>Man</td>\n",
       "      <td>Colombia</td>\n",
       "      <td>Yes</td>\n",
       "      <td>1</td>\n",
       "      <td>0</td>\n",
       "      <td>1</td>\n",
       "      <td>...</td>\n",
       "      <td>NaN</td>\n",
       "      <td>NaN</td>\n",
       "      <td>NaN</td>\n",
       "      <td>TensorBoard</td>\n",
       "      <td>NaN</td>\n",
       "      <td>NaN</td>\n",
       "      <td>NaN</td>\n",
       "      <td>NaN</td>\n",
       "      <td>NaN</td>\n",
       "      <td>NaN</td>\n",
       "    </tr>\n",
       "    <tr>\n",
       "      <th>1</th>\n",
       "      <td>2</td>\n",
       "      <td>NaN</td>\n",
       "      <td>289287</td>\n",
       "      <td>30-34</td>\n",
       "      <td>Man</td>\n",
       "      <td>United States of America</td>\n",
       "      <td>No</td>\n",
       "      <td>1</td>\n",
       "      <td>0</td>\n",
       "      <td>0</td>\n",
       "      <td>...</td>\n",
       "      <td>NaN</td>\n",
       "      <td>NaN</td>\n",
       "      <td>NaN</td>\n",
       "      <td>NaN</td>\n",
       "      <td>NaN</td>\n",
       "      <td>NaN</td>\n",
       "      <td>NaN</td>\n",
       "      <td>NaN</td>\n",
       "      <td>NaN</td>\n",
       "      <td>NaN</td>\n",
       "    </tr>\n",
       "    <tr>\n",
       "      <th>2</th>\n",
       "      <td>3</td>\n",
       "      <td>NaN</td>\n",
       "      <td>860</td>\n",
       "      <td>35-39</td>\n",
       "      <td>Man</td>\n",
       "      <td>Argentina</td>\n",
       "      <td>No</td>\n",
       "      <td>1</td>\n",
       "      <td>1</td>\n",
       "      <td>0</td>\n",
       "      <td>...</td>\n",
       "      <td>NaN</td>\n",
       "      <td>NaN</td>\n",
       "      <td>NaN</td>\n",
       "      <td>NaN</td>\n",
       "      <td>NaN</td>\n",
       "      <td>NaN</td>\n",
       "      <td>NaN</td>\n",
       "      <td>NaN</td>\n",
       "      <td>None</td>\n",
       "      <td>NaN</td>\n",
       "    </tr>\n",
       "  </tbody>\n",
       "</table>\n",
       "<p>3 rows × 566 columns</p>\n",
       "</div>"
      ],
      "text/plain": [
       "   Unnamed: 0  Unnamed: 0.1  Duration (in seconds)    Age Gender  \\\n",
       "0           1           NaN                   1838  35-39    Man   \n",
       "1           2           NaN                 289287  30-34    Man   \n",
       "2           3           NaN                    860  35-39    Man   \n",
       "\n",
       "                    Country IsStudent  MOOCPlatforms_Coursera  \\\n",
       "0                  Colombia       Yes                       1   \n",
       "1  United States of America        No                       1   \n",
       "2                 Argentina        No                       1   \n",
       "\n",
       "   MOOCPlatforms_edX  MOOCPlatforms_Kaggle Learn Courses  ...  Q35_B_Part_2  \\\n",
       "0                  0                                   1  ...           NaN   \n",
       "1                  0                                   0  ...           NaN   \n",
       "2                  1                                   0  ...           NaN   \n",
       "\n",
       "   Q35_B_Part_3  Q35_B_Part_4   Q35_B_Part_5  Q35_B_Part_6  Q35_B_Part_7  \\\n",
       "0           NaN           NaN   TensorBoard            NaN           NaN   \n",
       "1           NaN           NaN            NaN           NaN           NaN   \n",
       "2           NaN           NaN            NaN           NaN           NaN   \n",
       "\n",
       "   Q35_B_Part_8  Q35_B_Part_9  Q35_B_Part_10  Q35_B_OTHER  \n",
       "0           NaN           NaN            NaN          NaN  \n",
       "1           NaN           NaN            NaN          NaN  \n",
       "2           NaN           NaN           None          NaN  \n",
       "\n",
       "[3 rows x 566 columns]"
      ]
     },
     "execution_count": 4,
     "metadata": {},
     "output_type": "execute_result"
    }
   ],
   "source": [
    "skills_df = pd.concat([pd.read_csv(\n",
    "    \"./Kaggle-Data-Science-ML-Survey-Analysis/data/processed/ProcessedSurveyData_%d.csv\" % i) \n",
    "                       for i in range(2020,2023)])\n",
    "skills_df.head(3)"
   ]
  },
  {
   "cell_type": "code",
   "execution_count": 5,
   "id": "b3c9a0b5",
   "metadata": {},
   "outputs": [
    {
     "data": {
      "text/plain": [
       "['MLFramework_Scikit-learn',\n",
       " 'MLFramework_TensorFlow',\n",
       " 'MLFramework_Keras',\n",
       " 'MLFramework_PyTorch',\n",
       " 'MLFramework_Fast.ai']"
      ]
     },
     "execution_count": 5,
     "metadata": {},
     "output_type": "execute_result"
    }
   ],
   "source": [
    "with open(\"./Kaggle-Data-Science-ML-Survey-Analysis/data/raw/ds_survey/survey_cols.json\", 'r') as f:\n",
    "    survey_cols = json.load(f)\n",
    "\n",
    "[col for col in survey_cols if 'MLFramework_' in col][:5]"
   ]
  },
  {
   "cell_type": "markdown",
   "id": "4a9d52a0",
   "metadata": {},
   "source": [
    "# Is there a mismatch between job listings and employee skills?"
   ]
  },
  {
   "cell_type": "code",
   "execution_count": 6,
   "id": "3156d109",
   "metadata": {},
   "outputs": [],
   "source": [
    "job_families = ['Business Analyst', 'Data Analyst', 'Data Engineer', 'Data Scientist',\n",
    "               'Machine Learning Engineer', 'Research Scientist']"
   ]
  },
  {
   "cell_type": "code",
   "execution_count": 7,
   "id": "15568ae7",
   "metadata": {},
   "outputs": [
    {
     "data": {
      "text/html": [
       "<div>\n",
       "<style scoped>\n",
       "    .dataframe tbody tr th:only-of-type {\n",
       "        vertical-align: middle;\n",
       "    }\n",
       "\n",
       "    .dataframe tbody tr th {\n",
       "        vertical-align: top;\n",
       "    }\n",
       "\n",
       "    .dataframe thead th {\n",
       "        text-align: right;\n",
       "    }\n",
       "</style>\n",
       "<table border=\"1\" class=\"dataframe\">\n",
       "  <thead>\n",
       "    <tr style=\"text-align: right;\">\n",
       "      <th></th>\n",
       "      <th># Survey Responses</th>\n",
       "      <th># Job Listings</th>\n",
       "    </tr>\n",
       "  </thead>\n",
       "  <tbody>\n",
       "    <tr>\n",
       "      <th>Business Analyst</th>\n",
       "      <td>216</td>\n",
       "      <td>2726</td>\n",
       "    </tr>\n",
       "    <tr>\n",
       "      <th>Data Analyst</th>\n",
       "      <td>450</td>\n",
       "      <td>6638</td>\n",
       "    </tr>\n",
       "    <tr>\n",
       "      <th>Data Engineer</th>\n",
       "      <td>210</td>\n",
       "      <td>2371</td>\n",
       "    </tr>\n",
       "    <tr>\n",
       "      <th>Data Scientist</th>\n",
       "      <td>1184</td>\n",
       "      <td>1102</td>\n",
       "    </tr>\n",
       "    <tr>\n",
       "      <th>Machine Learning Engineer</th>\n",
       "      <td>203</td>\n",
       "      <td>594</td>\n",
       "    </tr>\n",
       "    <tr>\n",
       "      <th>Research Scientist</th>\n",
       "      <td>438</td>\n",
       "      <td>391</td>\n",
       "    </tr>\n",
       "  </tbody>\n",
       "</table>\n",
       "</div>"
      ],
      "text/plain": [
       "                           # Survey Responses  # Job Listings\n",
       "Business Analyst                          216            2726\n",
       "Data Analyst                              450            6638\n",
       "Data Engineer                             210            2371\n",
       "Data Scientist                           1184            1102\n",
       "Machine Learning Engineer                 203             594\n",
       "Research Scientist                        438             391"
      ]
     },
     "execution_count": 7,
     "metadata": {},
     "output_type": "execute_result"
    }
   ],
   "source": [
    "# Since we have job data for data science roles in the United States, we filter individuals from US.\n",
    "skills_df_us = skills_df[(skills_df['Country'] == \"United States of America\") & \n",
    "                      (skills_df[\"CurrentTitle\"].isin(job_families))]\n",
    "\n",
    "survey_cnts = skills_df_us['CurrentTitle'].value_counts().sort_index()  # Survey Data\n",
    "survey_cnts = survey_cnts.rename(\"# Survey Responses\").to_frame()  # Jobs Data\n",
    "\n",
    "job_cnts = jobs_df[job_families].sum().sort_index()\n",
    "job_cnts = job_cnts.rename(\"# Job Listings\").to_frame()\n",
    "\n",
    "cnts = survey_cnts.join(job_cnts)\n",
    "cnts"
   ]
  },
  {
   "cell_type": "markdown",
   "id": "a7c256d6",
   "metadata": {},
   "source": [
    "### Exp: Data Scientist skill gaps"
   ]
  },
  {
   "cell_type": "code",
   "execution_count": 8,
   "id": "8abd3ed6",
   "metadata": {},
   "outputs": [
    {
     "data": {
      "text/plain": [
       "0.72"
      ]
     },
     "execution_count": 8,
     "metadata": {},
     "output_type": "execute_result"
    }
   ],
   "source": [
    "# Proportion of Data Scientists who regularly use SQL\n",
    "ds = skills_df_us[skills_df_us['CurrentTitle'] == \"Data Scientist\"]\n",
    "round(ds['ProgLanguage_SQL'].sum()/len(ds), 2)"
   ]
  },
  {
   "cell_type": "code",
   "execution_count": 9,
   "id": "e6fbb386",
   "metadata": {},
   "outputs": [
    {
     "data": {
      "text/plain": [
       "0.61"
      ]
     },
     "execution_count": 9,
     "metadata": {},
     "output_type": "execute_result"
    }
   ],
   "source": [
    "# Proportion of Data Scientist jobs which require SQL\n",
    "ds_jobs = jobs_df[jobs_df[\"Data Scientist\"]==1]\n",
    "round(ds_jobs['ProgLanguage_SQL'].sum()/len(ds_jobs), 2)"
   ]
  },
  {
   "cell_type": "markdown",
   "id": "0413d778",
   "metadata": {},
   "source": [
    "### Z-Test for Proportions (1-tailed)"
   ]
  },
  {
   "cell_type": "markdown",
   "id": "943b338e",
   "metadata": {},
   "source": [
    "$H0: p_1 - p_2 > 0 $ </br>\n",
    "$H1: p_1 - p_2 \\leq 0 $ </br></br>\n",
    "Test statistic $$ z = \\frac{\\hat{p}_1 - \\hat{p}_2}{\\hat{p}(1-\\hat{p}) \\big(\\frac{1}{n_1} + \\frac{1}{n_2}\\big)}, \\quad\\quad \\hat{p} = \\frac{x_1 + x_2}{n_1 + n_2}$$\n"
   ]
  },
  {
   "cell_type": "markdown",
   "id": "1196854b",
   "metadata": {},
   "source": [
    "### Assumptions:\n",
    "1. The two populations are approximately normal.\n",
    "2. The two proportions are independent."
   ]
  },
  {
   "cell_type": "code",
   "execution_count": 10,
   "id": "e0f720ef",
   "metadata": {},
   "outputs": [
    {
     "data": {
      "text/plain": [
       "0.9999999897156079"
      ]
     },
     "execution_count": 10,
     "metadata": {},
     "output_type": "execute_result"
    }
   ],
   "source": [
    "count = np.array([ds['ProgLanguage_SQL'].sum(), ds_jobs['ProgLanguage_SQL'].sum()])\n",
    "nobs = np.array([len(ds), len(ds_jobs)])\n",
    "stat, pval = proportions_ztest(count, nobs, alternative=\"smaller\")\n",
    "pval # In fact, more data scientists know SQL than required by jobs!"
   ]
  },
  {
   "cell_type": "markdown",
   "id": "b128b44b",
   "metadata": {},
   "source": [
    "# Do not blindly believe the JD - Apply anyway!\n",
    "Is there a mismatch between the required skills for a job and what is listed on the JDs?"
   ]
  },
  {
   "cell_type": "code",
   "execution_count": 11,
   "id": "6345b8b8",
   "metadata": {},
   "outputs": [
    {
     "name": "stdout",
     "output_type": "stream",
     "text": [
      "Business Analyst\n",
      "ProgLanguage_Go: 0.0 Respondents, 0.06 Jobs\n",
      "\n",
      "\n",
      "Data Analyst\n",
      "ProgLanguage_C: 0.02 Respondents, 0.06 Jobs\n",
      "ProgLanguage_Java: 0.04 Respondents, 0.12 Jobs\n",
      "ProgLanguage_Go: 0.0 Respondents, 0.05 Jobs\n",
      "\n",
      "\n",
      "Data Engineer\n",
      "ProgLanguage_Java: 0.19 Respondents, 0.43 Jobs\n",
      "ProgLanguage_Go: 0.0 Respondents, 0.06 Jobs\n",
      "\n",
      "\n",
      "Data Scientist\n",
      "ProgLanguage_R: 0.43 Respondents, 0.55 Jobs\n",
      "ProgLanguage_C: 0.04 Respondents, 0.19 Jobs\n",
      "ProgLanguage_Java: 0.07 Respondents, 0.24 Jobs\n",
      "ProgLanguage_Go: 0.0 Respondents, 0.07 Jobs\n",
      "MLFramework_MXNet: 0.01 Respondents, 0.03 Jobs\n",
      "\n",
      "\n",
      "Machine Learning Engineer\n",
      "ProgLanguage_C: 0.1 Respondents, 0.33 Jobs\n",
      "ProgLanguage_Java: 0.22 Respondents, 0.38 Jobs\n",
      "ProgLanguage_PHP: 0.0 Respondents, 0.05 Jobs\n",
      "ProgLanguage_Go: 0.0 Respondents, 0.07 Jobs\n",
      "\n",
      "\n",
      "Research Scientist\n",
      "ProgLanguage_C: 0.15 Respondents, 0.29 Jobs\n",
      "\n",
      "\n"
     ]
    }
   ],
   "source": [
    "skillsets = [\"ProgLanguage_\",\n",
    "             \"MLFramework_\",\n",
    "             \"MLAlgo_\",\n",
    "             \"VizLib_\",\n",
    "             \"CloudProviderUsed_\",\n",
    "             \"DBUsed_\",\n",
    "             \"BIToolUsed_\"\n",
    "            ]\n",
    "\n",
    "for job_family in job_families:\n",
    "    print(job_family)\n",
    "    \n",
    "    for skillset in skillsets:\n",
    "        skill_cols = [col for col in survey_cols if skillset in col and \"None\" not in col and\n",
    "                     \"Other\" not in col] # Exp: all Programming Languages\n",
    "        for skill in skill_cols:\n",
    "            ds_resps = skills_df_us[skills_df_us['CurrentTitle'] == job_family] # Exp, Data Scientist responses\n",
    "            ds_jobs = jobs_df[jobs_df[job_family]==1] # Exp, Data Scientist jobs\n",
    "\n",
    "            # Z-Test for Proportions\n",
    "            count = np.array([ds_resps[skill].sum(), ds_jobs[skill].sum()])\n",
    "            nobs = np.array([len(ds_resps), len(ds_jobs)])\n",
    "            stat, pval = proportions_ztest(count, nobs, alternative=\"smaller\") # Resp p < JD p\n",
    "\n",
    "            if pval < alpha:\n",
    "                p_resps = round(ds_resps[skill].sum()/len(ds_resps), 2)\n",
    "                p_jobs = round(ds_jobs[skill].sum()/len(ds_jobs), 2)\n",
    "                print(f\"\"\"{skill}: {p_resps} Respondents, {p_jobs} Jobs\"\"\")\n",
    "                \n",
    "    print(\"\\n\")"
   ]
  },
  {
   "cell_type": "markdown",
   "id": "793f8b1a",
   "metadata": {},
   "source": [
    "## Interesting Findings:\n",
    "1. Only 20% Data Engineers reported using Java on the job, however, it is listed as a requirement in over 40% job descriptions.\n",
    "2. C Language is oversold for Research Scientists, MLEs, and Data Scientists.\n",
    "3. Odd languages such as Go and PHP are sometimes listed on Data science JDs, but rarely used in practice.\n",
    "4. 43% Data Scientists reported programming regularly in R. This is close to, but significantly lower than 55% jobs which list it as a requirement."
   ]
  },
  {
   "cell_type": "markdown",
   "id": "d3fe91f4",
   "metadata": {},
   "source": [
    "# Latent skills you didn't know you need to learn!\n",
    "Skills that are not advertised on the JDs but frequently used in practice."
   ]
  },
  {
   "cell_type": "code",
   "execution_count": 12,
   "id": "0a5ac61c",
   "metadata": {},
   "outputs": [
    {
     "data": {
      "text/html": [
       "<div>\n",
       "<style scoped>\n",
       "    .dataframe tbody tr th:only-of-type {\n",
       "        vertical-align: middle;\n",
       "    }\n",
       "\n",
       "    .dataframe tbody tr th {\n",
       "        vertical-align: top;\n",
       "    }\n",
       "\n",
       "    .dataframe thead th {\n",
       "        text-align: right;\n",
       "    }\n",
       "</style>\n",
       "<table border=\"1\" class=\"dataframe\">\n",
       "  <thead>\n",
       "    <tr style=\"text-align: right;\">\n",
       "      <th></th>\n",
       "      <th>Job Title</th>\n",
       "      <th>Skill</th>\n",
       "      <th>p_Respondents</th>\n",
       "      <th>p_Jobs</th>\n",
       "      <th>Diff</th>\n",
       "    </tr>\n",
       "  </thead>\n",
       "  <tbody>\n",
       "    <tr>\n",
       "      <th>0</th>\n",
       "      <td>Business Analyst</td>\n",
       "      <td>ProgLanguage_Python</td>\n",
       "      <td>0.63</td>\n",
       "      <td>0.09</td>\n",
       "      <td>0.54</td>\n",
       "    </tr>\n",
       "    <tr>\n",
       "      <th>1</th>\n",
       "      <td>Business Analyst</td>\n",
       "      <td>VizLib_Matplotlib</td>\n",
       "      <td>0.47</td>\n",
       "      <td>0.00</td>\n",
       "      <td>0.47</td>\n",
       "    </tr>\n",
       "    <tr>\n",
       "      <th>2</th>\n",
       "      <td>Business Analyst</td>\n",
       "      <td>MLAlgo_Linear or Logistic Regression</td>\n",
       "      <td>0.46</td>\n",
       "      <td>0.02</td>\n",
       "      <td>0.44</td>\n",
       "    </tr>\n",
       "  </tbody>\n",
       "</table>\n",
       "</div>"
      ],
      "text/plain": [
       "          Job Title                                 Skill  p_Respondents  \\\n",
       "0  Business Analyst                   ProgLanguage_Python           0.63   \n",
       "1  Business Analyst                     VizLib_Matplotlib           0.47   \n",
       "2  Business Analyst  MLAlgo_Linear or Logistic Regression           0.46   \n",
       "\n",
       "   p_Jobs  Diff  \n",
       "0    0.09  0.54  \n",
       "1    0.00  0.47  \n",
       "2    0.02  0.44  "
      ]
     },
     "execution_count": 12,
     "metadata": {},
     "output_type": "execute_result"
    }
   ],
   "source": [
    "res = []\n",
    "\n",
    "for job_family in job_families:    \n",
    "    for skillset in skillsets:\n",
    "        skill_cols = [col for col in survey_cols if skillset in col and \"None\" not in col and\n",
    "                     \"Other\" not in col] # Exp: all Programming Languages\n",
    "        for skill in skill_cols:\n",
    "            ds_resps = skills_df_us[skills_df_us['CurrentTitle'] == job_family] # Exp, Data Scientist responses\n",
    "            ds_jobs = jobs_df[jobs_df[job_family]==1] # Exp, Data Scientist jobs\n",
    "\n",
    "            # Z-Test for Proportions\n",
    "            count = np.array([ds_resps[skill].sum(), ds_jobs[skill].sum()])\n",
    "            nobs = np.array([len(ds_resps), len(ds_jobs)])\n",
    "            stat, pval = proportions_ztest(count, nobs, alternative=\"larger\") # Resp p > JD p\n",
    "\n",
    "            if pval < alpha:\n",
    "                p_resps = round(ds_resps[skill].sum()/len(ds_resps), 2)\n",
    "                p_jobs = round(ds_jobs[skill].sum()/len(ds_jobs), 2)\n",
    "                res.append([job_family, skill, p_resps, p_jobs])\n",
    "\n",
    "res = pd.DataFrame(res, columns=['Job Title', 'Skill', 'p_Respondents', 'p_Jobs'])\n",
    "res['Diff'] = res['p_Respondents'] - res['p_Jobs']\n",
    "res = res.sort_values(by=['Job Title', 'Diff'], ascending=[True, False]).reset_index(drop=True)\n",
    "res.head(3)"
   ]
  },
  {
   "cell_type": "code",
   "execution_count": 13,
   "id": "1dbefc4b",
   "metadata": {},
   "outputs": [
    {
     "data": {
      "image/png": "[encoded data removed]",
      "text/plain": [
       "<Figure size 1008x864 with 6 Axes>"
      ]
     },
     "metadata": {
      "needs_background": "light"
     },
     "output_type": "display_data"
    }
   ],
   "source": [
    "# Top skills for each Job (not listed on the JD)\n",
    "fig, axs = plt.subplots(3,2, figsize=(14,12), gridspec_kw={'wspace':1.25, 'hspace':0.6})\n",
    "row, col = 0, 0\n",
    "\n",
    "for job_family in job_families:\n",
    "\n",
    "    s = res[res['Job Title'] == job_family].head(5)\n",
    "    s = s.melt(id_vars=['Job Title', 'Skill'], value_vars=['p_Respondents', 'p_Jobs'], value_name='p')\n",
    "    \n",
    "    if(col == 2):\n",
    "        row += 1\n",
    "        col = 0\n",
    "    \n",
    "    ax = axs[row][col]\n",
    "    sns.barplot(y=s['Skill'], x=s['p'], hue=s['variable'], ax=ax, palette='viridis')\n",
    "    ax.set_title(job_family, fontsize=16, pad=8)\n",
    "    ax.set_xlabel(\"Proportion\", fontsize=14, labelpad=8)\n",
    "    ax.set_ylabel(\"\", fontsize=14, labelpad=8)\n",
    "    if not (row == 0 and col == 1):\n",
    "        ax.get_legend().remove()\n",
    "    else:\n",
    "        ax.legend(bbox_to_anchor=(1.02, 1.05))\n",
    "    col += 1\n",
    "    \n",
    "    \n",
    "plt.show()"
   ]
  },
  {
   "cell_type": "code",
   "execution_count": 14,
   "id": "a66cad9e",
   "metadata": {},
   "outputs": [
    {
     "data": {
      "text/html": [
       "<div>\n",
       "<style scoped>\n",
       "    .dataframe tbody tr th:only-of-type {\n",
       "        vertical-align: middle;\n",
       "    }\n",
       "\n",
       "    .dataframe tbody tr th {\n",
       "        vertical-align: top;\n",
       "    }\n",
       "\n",
       "    .dataframe thead th {\n",
       "        text-align: right;\n",
       "    }\n",
       "</style>\n",
       "<table border=\"1\" class=\"dataframe\">\n",
       "  <thead>\n",
       "    <tr style=\"text-align: right;\">\n",
       "      <th></th>\n",
       "      <th>Job Title</th>\n",
       "      <th>Skill</th>\n",
       "      <th>p_Respondents</th>\n",
       "      <th>p_Jobs</th>\n",
       "      <th>Diff</th>\n",
       "    </tr>\n",
       "  </thead>\n",
       "  <tbody>\n",
       "    <tr>\n",
       "      <th>241</th>\n",
       "      <td>Data Scientist</td>\n",
       "      <td>MLFramework_Scikit-learn</td>\n",
       "      <td>0.78</td>\n",
       "      <td>0.01</td>\n",
       "      <td>0.77</td>\n",
       "    </tr>\n",
       "    <tr>\n",
       "      <th>242</th>\n",
       "      <td>Data Scientist</td>\n",
       "      <td>VizLib_Matplotlib</td>\n",
       "      <td>0.74</td>\n",
       "      <td>0.02</td>\n",
       "      <td>0.72</td>\n",
       "    </tr>\n",
       "    <tr>\n",
       "      <th>243</th>\n",
       "      <td>Data Scientist</td>\n",
       "      <td>MLAlgo_Decision Trees or Random Forests</td>\n",
       "      <td>0.76</td>\n",
       "      <td>0.12</td>\n",
       "      <td>0.64</td>\n",
       "    </tr>\n",
       "    <tr>\n",
       "      <th>244</th>\n",
       "      <td>Data Scientist</td>\n",
       "      <td>MLAlgo_Linear or Logistic Regression</td>\n",
       "      <td>0.82</td>\n",
       "      <td>0.22</td>\n",
       "      <td>0.60</td>\n",
       "    </tr>\n",
       "    <tr>\n",
       "      <th>245</th>\n",
       "      <td>Data Scientist</td>\n",
       "      <td>MLAlgo_Gradient Boosting Machines (xgboost, li...</td>\n",
       "      <td>0.63</td>\n",
       "      <td>0.03</td>\n",
       "      <td>0.60</td>\n",
       "    </tr>\n",
       "    <tr>\n",
       "      <th>246</th>\n",
       "      <td>Data Scientist</td>\n",
       "      <td>VizLib_Seaborn</td>\n",
       "      <td>0.61</td>\n",
       "      <td>0.01</td>\n",
       "      <td>0.60</td>\n",
       "    </tr>\n",
       "  </tbody>\n",
       "</table>\n",
       "</div>"
      ],
      "text/plain": [
       "          Job Title                                              Skill  \\\n",
       "241  Data Scientist                           MLFramework_Scikit-learn   \n",
       "242  Data Scientist                                  VizLib_Matplotlib   \n",
       "243  Data Scientist            MLAlgo_Decision Trees or Random Forests   \n",
       "244  Data Scientist               MLAlgo_Linear or Logistic Regression   \n",
       "245  Data Scientist  MLAlgo_Gradient Boosting Machines (xgboost, li...   \n",
       "246  Data Scientist                                     VizLib_Seaborn   \n",
       "\n",
       "     p_Respondents  p_Jobs  Diff  \n",
       "241           0.78    0.01  0.77  \n",
       "242           0.74    0.02  0.72  \n",
       "243           0.76    0.12  0.64  \n",
       "244           0.82    0.22  0.60  \n",
       "245           0.63    0.03  0.60  \n",
       "246           0.61    0.01  0.60  "
      ]
     },
     "execution_count": 14,
     "metadata": {},
     "output_type": "execute_result"
    }
   ],
   "source": [
    "res[(res['Job Title'] == 'Data Scientist') & (res['Diff']>0.5)]"
   ]
  },
  {
   "cell_type": "markdown",
   "id": "416b0d8b",
   "metadata": {},
   "source": [
    "## Interesting Findings:\n",
    "1. Business Analysts should have knowledge of Python and visualization tools.\n",
    "2. Many Data Analysts and Data Engineers are using ML in their day to day work.\n",
    "3. Sklearn is underrated. Commonly used ML models inlude: Tree-based methods, Linear & Logistic Regression, Gradient boosting machines.\n",
    "4. Although not specified on the JDs, MLEs should be good with Bash."
   ]
  },
  {
   "cell_type": "markdown",
   "id": "afb2db3b",
   "metadata": {},
   "source": [
    "# Our Tips to get hired!"
   ]
  },
  {
   "cell_type": "markdown",
   "id": "86f489b1",
   "metadata": {},
   "source": [
    "### Top Skills (overall) for Data Science jobs"
   ]
  },
  {
   "cell_type": "code",
   "execution_count": 15,
   "id": "155fa66b",
   "metadata": {},
   "outputs": [
    {
     "data": {
      "text/plain": [
       "ProgLanguage_SQL                               0.495734\n",
       "ProgLanguage_Python                            0.339762\n",
       "CloudProviderUsed_Amazon Web Services (AWS)    0.197188\n",
       "ProgLanguage_Java                              0.178863\n",
       "BIToolUsed_Tableau                             0.172314\n",
       "dtype: float64"
      ]
     },
     "execution_count": 15,
     "metadata": {},
     "output_type": "execute_result"
    }
   ],
   "source": [
    "cnts = jobs_df.iloc[:,11:].sum()\n",
    "cnts = cnts/len(jobs_df)\n",
    "\n",
    "# Overall Ranking\n",
    "cnts.sort_values(ascending=False)[:5]"
   ]
  },
  {
   "cell_type": "code",
   "execution_count": 16,
   "id": "736868f2",
   "metadata": {},
   "outputs": [],
   "source": [
    "# SQL is your best friend. It is good to skill yourself in AWS."
   ]
  },
  {
   "cell_type": "markdown",
   "id": "8982e25a",
   "metadata": {},
   "source": [
    "### Top Programming Languages"
   ]
  },
  {
   "cell_type": "code",
   "execution_count": 17,
   "id": "b27878fc",
   "metadata": {},
   "outputs": [
    {
     "data": {
      "text/plain": [
       "ProgLanguage_SQL       0.495734\n",
       "ProgLanguage_Python    0.339762\n",
       "ProgLanguage_Java      0.178863\n",
       "ProgLanguage_R         0.167207\n",
       "ProgLanguage_C         0.110190\n",
       "dtype: float64"
      ]
     },
     "execution_count": 17,
     "metadata": {},
     "output_type": "execute_result"
    }
   ],
   "source": [
    "cnts[cnts.index.str.contains(\"ProgLanguage\")].sort_values(ascending=False)[:5]"
   ]
  },
  {
   "cell_type": "code",
   "execution_count": 18,
   "id": "11e04781",
   "metadata": {},
   "outputs": [],
   "source": [
    "# In our dataset, Java is almost as common as R."
   ]
  },
  {
   "cell_type": "markdown",
   "id": "79c1a751",
   "metadata": {},
   "source": [
    "### Top ML algorithms to add to your resume"
   ]
  },
  {
   "cell_type": "code",
   "execution_count": 19,
   "id": "49b64dbc",
   "metadata": {},
   "outputs": [
    {
     "data": {
      "text/plain": [
       "MLAlgo_Linear or Logistic Regression                          0.048065\n",
       "MLAlgo_Convolutional Neural Networks                          0.017664\n",
       "MLAlgo_Decision Trees or Random Forests                       0.015081\n",
       "MLAlgo_Transformer Networks (BERT, gpt-3, etc)                0.009853\n",
       "MLAlgo_Bayesian Approaches                                    0.008892\n",
       "MLAlgo_Gradient Boosting Machines (xgboost, lightgbm, etc)    0.005407\n",
       "MLAlgo_Recurrent Neural Networks                              0.004807\n",
       "MLAlgo_Dense Neural Networks (MLPs, etc)                      0.001742\n",
       "MLAlgo_Autoencoder Networks (DAE, VAE, etc)                   0.000901\n",
       "MLAlgo_Generative Adversarial Networks                        0.000601\n",
       "dtype: float64"
      ]
     },
     "execution_count": 19,
     "metadata": {},
     "output_type": "execute_result"
    }
   ],
   "source": [
    "cnts[cnts.index.str.contains(\"MLAlgo\")].sort_values(ascending=False)[:10]"
   ]
  },
  {
   "cell_type": "markdown",
   "id": "e022df04",
   "metadata": {},
   "source": [
    "### Top Cloud tools used in the industry"
   ]
  },
  {
   "cell_type": "code",
   "execution_count": 20,
   "id": "5d8489cb",
   "metadata": {},
   "outputs": [
    {
     "data": {
      "text/plain": [
       "CloudProviderUsed_Amazon Web Services (AWS)      0.197188\n",
       "CloudProviderUsed_Microsoft Azure                0.066090\n",
       "CloudProviderUsed_Google Cloud Platform (GCP)    0.040014\n",
       "CloudProviderUsed_IBM Cloud / Red Hat            0.003064\n",
       "CloudProviderUsed_Oracle Cloud                   0.000841\n",
       "dtype: float64"
      ]
     },
     "execution_count": 20,
     "metadata": {},
     "output_type": "execute_result"
    }
   ],
   "source": [
    "cnts[cnts.index.str.contains(\"CloudProviderUsed\")].sort_values(ascending=False)[:5]"
   ]
  },
  {
   "cell_type": "code",
   "execution_count": 21,
   "id": "7ed35779",
   "metadata": {},
   "outputs": [],
   "source": [
    "# AWS > Azure > GCP"
   ]
  },
  {
   "cell_type": "markdown",
   "id": "ab356d3c",
   "metadata": {},
   "source": [
    "### Top Databases you should skill yourself in"
   ]
  },
  {
   "cell_type": "code",
   "execution_count": 22,
   "id": "0d408c7e",
   "metadata": {},
   "outputs": [
    {
     "data": {
      "text/plain": [
       "DBUsed_Amazon Redshift    0.037731\n",
       "DBUsed_MySQL              0.034126\n",
       "DBUsed_Snowflake          0.030882\n",
       "DBUsed_MongoDB            0.022290\n",
       "DBUsed_PostgreSQL         0.017664\n",
       "dtype: float64"
      ]
     },
     "execution_count": 22,
     "metadata": {},
     "output_type": "execute_result"
    }
   ],
   "source": [
    "cnts[cnts.index.str.contains(\"DBUsed\")].sort_values(ascending=False)[:5]"
   ]
  },
  {
   "cell_type": "markdown",
   "id": "54e9f1d4",
   "metadata": {},
   "source": [
    "### Top Viz tools"
   ]
  },
  {
   "cell_type": "code",
   "execution_count": 23,
   "id": "2242f8ac",
   "metadata": {},
   "outputs": [
    {
     "data": {
      "text/plain": [
       "VizLib_D3 js               0.007991\n",
       "VizLib_Matplotlib          0.005648\n",
       "VizLib_Shiny               0.004206\n",
       "VizLib_Ggplot / ggplot2    0.003965\n",
       "VizLib_Seaborn             0.002223\n",
       "dtype: float64"
      ]
     },
     "execution_count": 23,
     "metadata": {},
     "output_type": "execute_result"
    }
   ],
   "source": [
    "cnts[cnts.index.str.contains(\"VizLib\")].sort_values(ascending=False)[:5]"
   ]
  }
 ],
 "metadata": {
  "kernelspec": {
   "display_name": "Python 3 (ipykernel)",
   "language": "python",
   "name": "python3"
  },
  "language_info": {
   "codemirror_mode": {
    "name": "ipython",
    "version": 3
   },
   "file_extension": ".py",
   "mimetype": "text/x-python",
   "name": "python",
   "nbconvert_exporter": "python",
   "pygments_lexer": "ipython3",
   "version": "3.9.7"
  }
 },
 "nbformat": 4,
 "nbformat_minor": 5
}
